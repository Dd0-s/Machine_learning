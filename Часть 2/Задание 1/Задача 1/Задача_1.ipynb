{
 "cells": [
  {
   "cell_type": "markdown",
   "id": "bceefd1d",
   "metadata": {},
   "source": [
    "# Богданов Александр Иванович, Б05-003"
   ]
  },
  {
   "cell_type": "markdown",
   "id": "70e7373f",
   "metadata": {},
   "source": [
    "## Анализ модели CNN"
   ]
  },
  {
   "cell_type": "code",
   "execution_count": 274,
   "id": "c21fd7db",
   "metadata": {
    "ExecuteTime": {
     "end_time": "2024-04-08T23:10:35.754172Z",
     "start_time": "2024-04-08T23:10:35.747657Z"
    }
   },
   "outputs": [],
   "source": [
    "from tqdm.notebook import tqdm\n",
    "import numpy as np\n",
    "import warnings\n",
    "warnings.filterwarnings(\"ignore\")\n",
    "\n",
    "import torch\n",
    "from torch.utils.tensorboard import SummaryWriter\n",
    "from sklearn.metrics import classification_report\n",
    "from torchvision import datasets, transforms"
   ]
  },
  {
   "cell_type": "code",
   "execution_count": 275,
   "id": "f22ff7c2",
   "metadata": {
    "ExecuteTime": {
     "end_time": "2024-04-08T23:10:35.975371Z",
     "start_time": "2024-04-08T23:10:35.972546Z"
    }
   },
   "outputs": [
    {
     "data": {
      "text/plain": [
       "device(type='cpu')"
      ]
     },
     "execution_count": 275,
     "metadata": {},
     "output_type": "execute_result"
    }
   ],
   "source": [
    "device = torch.device(\"cuda\" if torch.cuda.is_available() else \"cpu\")\n",
    "device"
   ]
  },
  {
   "cell_type": "markdown",
   "id": "4e60c5f8",
   "metadata": {},
   "source": [
    "### Вспомогательные функции"
   ]
  },
  {
   "cell_type": "code",
   "execution_count": 276,
   "id": "ed0d1775",
   "metadata": {
    "ExecuteTime": {
     "end_time": "2024-04-08T23:10:36.547608Z",
     "start_time": "2024-04-08T23:10:36.541039Z"
    }
   },
   "outputs": [],
   "source": [
    "def train_on_batch(model, x_batch, y_batch, optimizer, loss_function):\n",
    "    model.train()\n",
    "    model.zero_grad()\n",
    "    \n",
    "    output = model(x_batch.to(device))\n",
    "    \n",
    "    loss = loss_function(output, y_batch.to(device))\n",
    "    loss.backward()\n",
    "\n",
    "    optimizer.step()\n",
    "    return loss.cpu().item()"
   ]
  },
  {
   "cell_type": "code",
   "execution_count": 277,
   "id": "e62da581",
   "metadata": {
    "ExecuteTime": {
     "end_time": "2024-04-08T23:10:36.792161Z",
     "start_time": "2024-04-08T23:10:36.785085Z"
    }
   },
   "outputs": [],
   "source": [
    "def train_epoch(train_generator, model, loss_function, optimizer, callback = None):\n",
    "    epoch_loss = 0\n",
    "    total = 0\n",
    "    for it, (batch_of_x, batch_of_y) in enumerate(train_generator):\n",
    "        batch_loss = train_on_batch(model, batch_of_x.to(device), batch_of_y.to(device), optimizer, loss_function)\n",
    "        \n",
    "        if callback is not None:\n",
    "            callback(model, batch_loss)\n",
    "            \n",
    "        epoch_loss += batch_loss*len(batch_of_x)\n",
    "        total += len(batch_of_x)\n",
    "    \n",
    "    return epoch_loss/total"
   ]
  },
  {
   "cell_type": "code",
   "execution_count": 278,
   "id": "1e6f48e9",
   "metadata": {
    "ExecuteTime": {
     "end_time": "2024-04-08T23:10:37.039543Z",
     "start_time": "2024-04-08T23:10:37.031176Z"
    }
   },
   "outputs": [],
   "source": [
    "def trainer(count_of_epoch, \n",
    "            batch_size, \n",
    "            dataset,\n",
    "            model, \n",
    "            loss_function,\n",
    "            optimizer,\n",
    "            lr = 0.001,\n",
    "            callback = None):\n",
    "\n",
    "    optima = optimizer(model.parameters(), lr=lr)\n",
    "    \n",
    "    iterations = tqdm(range(count_of_epoch), desc='epoch')\n",
    "    iterations.set_postfix({'train epoch loss': np.nan})\n",
    "    for it in iterations:\n",
    "        batch_generator = tqdm(\n",
    "            torch.utils.data.DataLoader(dataset=dataset, batch_size=batch_size, shuffle=True), \n",
    "            leave=False, total=len(dataset)//batch_size+(len(dataset)%batch_size> 0))\n",
    "        \n",
    "        epoch_loss = train_epoch(train_generator=batch_generator, \n",
    "                    model=model, \n",
    "                    loss_function=loss_function, \n",
    "                    optimizer=optima, \n",
    "                    callback=callback)\n",
    "        \n",
    "        iterations.set_postfix({'train epoch loss': epoch_loss})"
   ]
  },
  {
   "cell_type": "code",
   "execution_count": 279,
   "id": "a8c34ff1",
   "metadata": {
    "ExecuteTime": {
     "end_time": "2024-04-08T23:10:37.304108Z",
     "start_time": "2024-04-08T23:10:37.298351Z"
    }
   },
   "outputs": [],
   "source": [
    "def check(batch_size, dataset, model, loss_function):\n",
    "    \n",
    "    model.eval()\n",
    "\n",
    "    batch_generator = torch.utils.data.DataLoader(dataset = dataset, batch_size=batch_size)\n",
    "            \n",
    "    pred = []\n",
    "    real = []\n",
    "    test_loss = 0\n",
    "    for it, (x_batch, y_batch) in enumerate(batch_generator):\n",
    "        x_batch = x_batch.to(device)\n",
    "        y_batch = y_batch.to(device)\n",
    "        \n",
    "        output = model(x_batch)\n",
    "\n",
    "        test_loss += loss_function(output, y_batch).cpu().item()*len(x_batch)\n",
    "\n",
    "        pred.extend(torch.argmax(output, dim=-1).cpu().numpy().tolist())\n",
    "        real.extend(y_batch.cpu().numpy().tolist())\n",
    "\n",
    "    test_loss /= len(dataset)\n",
    "\n",
    "    print('loss: {}'.format(test_loss))\n",
    "    return test_loss"
   ]
  },
  {
   "cell_type": "code",
   "execution_count": 323,
   "id": "f359b88d",
   "metadata": {
    "ExecuteTime": {
     "end_time": "2024-04-09T19:47:05.544718Z",
     "start_time": "2024-04-09T19:47:05.523841Z"
    }
   },
   "outputs": [],
   "source": [
    "class callback():\n",
    "    def __init__(self, writer, dataset, loss_function, delimeter = 100, batch_size=64):\n",
    "        self.step = 0\n",
    "        self.writer = writer\n",
    "        self.delimeter = delimeter\n",
    "        self.loss_function = loss_function\n",
    "        self.batch_size = batch_size\n",
    "\n",
    "        self.dataset = dataset\n",
    "\n",
    "    def forward(self, model, loss):\n",
    "        model.eval()\n",
    "        self.step += 1\n",
    "        self.writer.add_scalar('LOSS/train', loss, self.step)\n",
    "        \n",
    "        if self.step % self.delimeter == 0:\n",
    "            \n",
    "            self.writer.add_graph(model, self.dataset[0][0].view(1,1,28,28).to(model.device))\n",
    "            \n",
    "            batch_generator = torch.utils.data.DataLoader(dataset = self.dataset, \n",
    "                                                          batch_size=self.batch_size)\n",
    "            \n",
    "            pred = []\n",
    "            real = []\n",
    "            test_loss = 0\n",
    "            for it, (x_batch, y_batch) in enumerate(batch_generator):\n",
    "                x_batch = x_batch.to(model.device)\n",
    "                y_batch = y_batch.to(model.device)\n",
    "\n",
    "                output = model(x_batch)\n",
    "\n",
    "                test_loss += self.loss_function(output, y_batch).cpu().item()*len(x_batch)\n",
    "\n",
    "                pred.extend(torch.argmax(output, dim=-1).cpu().numpy().tolist())\n",
    "                real.extend(y_batch.cpu().numpy().tolist())\n",
    "            \n",
    "            test_loss /= len(self.dataset)\n",
    "            \n",
    "            self.writer.add_scalar('LOSS/test', test_loss, self.step)\n",
    "            self.writer.add_text('REPORT/test', str(classification_report(real, pred)), self.step)\n",
    "          \n",
    "    def __call__(self, model, loss):\n",
    "        return self.forward(model, loss)"
   ]
  },
  {
   "cell_type": "markdown",
   "id": "83d50d2c",
   "metadata": {},
   "source": [
    "## Модели"
   ]
  },
  {
   "cell_type": "markdown",
   "id": "a17969fd",
   "metadata": {},
   "source": [
    "###### 0. Обычная модель"
   ]
  },
  {
   "cell_type": "code",
   "execution_count": 281,
   "id": "cef116a6",
   "metadata": {
    "ExecuteTime": {
     "end_time": "2024-04-08T23:10:38.462258Z",
     "start_time": "2024-04-08T23:10:38.451468Z"
    }
   },
   "outputs": [],
   "source": [
    "class basic_CNN(torch.nn.Module):\n",
    "    @property\n",
    "    def device(self):\n",
    "        for p in self.parameters():\n",
    "            return p.device\n",
    "        \n",
    "    def __init__(self):\n",
    "        super(basic_CNN, self).__init__()\n",
    "        \n",
    "        self.layers = torch.nn.Sequential()\n",
    "        self.layers.add_module('conv1', torch.nn.Conv2d(1, 6, kernel_size = 3))\n",
    "        self.layers.add_module('relu1', torch.nn.ReLU())\n",
    "        self.layers.add_module('conv2', torch.nn.Conv2d(6, 16, kernel_size = 3))\n",
    "        self.layers.add_module('relu2', torch.nn.ReLU())\n",
    "        self.layers.add_module('flatten', torch.nn.Flatten())\n",
    "        self.layers.add_module('linear1', torch.nn.Linear(9216, 120))\n",
    "        self.layers.add_module('relu3', torch.nn.ReLU())\n",
    "        self.layers.add_module('linear2', torch.nn.Linear(120, 10))\n",
    "\n",
    "    def forward(self, input):\n",
    "        return self.layers(input)"
   ]
  },
  {
   "cell_type": "markdown",
   "id": "e93fc9dc",
   "metadata": {},
   "source": [
    "###### 1. Увеличенное ядро"
   ]
  },
  {
   "cell_type": "code",
   "execution_count": 298,
   "id": "35eba014",
   "metadata": {
    "ExecuteTime": {
     "end_time": "2024-04-08T23:20:12.590548Z",
     "start_time": "2024-04-08T23:20:12.579514Z"
    }
   },
   "outputs": [],
   "source": [
    "class kernel_CNN(torch.nn.Module):\n",
    "    @property\n",
    "    def device(self):\n",
    "        for p in self.parameters():\n",
    "            return p.device\n",
    "        \n",
    "    def __init__(self):\n",
    "        super(kernel_CNN, self).__init__()\n",
    "        \n",
    "        self.layers = torch.nn.Sequential()\n",
    "        self.layers.add_module('conv1', torch.nn.Conv2d(1, 6, kernel_size = 5))\n",
    "        self.layers.add_module('relu1', torch.nn.ReLU())\n",
    "        self.layers.add_module('conv2', torch.nn.Conv2d(6, 16, kernel_size = 5))\n",
    "        self.layers.add_module('relu2', torch.nn.ReLU())\n",
    "        self.layers.add_module('flatten', torch.nn.Flatten())\n",
    "        self.layers.add_module('linear1', torch.nn.Linear(6400, 120))\n",
    "        self.layers.add_module('relu3', torch.nn.ReLU())\n",
    "        self.layers.add_module('linear2', torch.nn.Linear(120, 10))\n",
    "\n",
    "    def forward(self, input):\n",
    "        return self.layers(input)"
   ]
  },
  {
   "cell_type": "markdown",
   "id": "e0f06621",
   "metadata": {},
   "source": [
    "###### 2. Увеличенное число слоев"
   ]
  },
  {
   "cell_type": "code",
   "execution_count": 283,
   "id": "4cba4234",
   "metadata": {
    "ExecuteTime": {
     "end_time": "2024-04-08T23:10:39.497379Z",
     "start_time": "2024-04-08T23:10:39.486914Z"
    }
   },
   "outputs": [],
   "source": [
    "class layers_CNN(torch.nn.Module):\n",
    "    @property\n",
    "    def device(self):\n",
    "        for p in self.parameters():\n",
    "            return p.device\n",
    "        \n",
    "    def __init__(self):\n",
    "        super(layers_CNN, self).__init__()\n",
    "        \n",
    "        self.layers = torch.nn.Sequential()\n",
    "        self.layers.add_module('conv1', torch.nn.Conv2d(1, 6, kernel_size = 3))\n",
    "        self.layers.add_module('relu1', torch.nn.ReLU())\n",
    "        self.layers.add_module('conv2', torch.nn.Conv2d(6, 16, kernel_size = 3))\n",
    "        self.layers.add_module('relu2', torch.nn.ReLU())\n",
    "        self.layers.add_module('flatten', torch.nn.Flatten())\n",
    "        self.layers.add_module('linear1', torch.nn.Linear(9216, 120))\n",
    "        self.layers.add_module('relu3', torch.nn.ReLU())\n",
    "        self.layers.add_module('linear2', torch.nn.Linear(120, 84))\n",
    "        self.layers.add_module('relu4', torch.nn.ReLU())\n",
    "        self.layers.add_module('linear3', torch.nn.Linear(84, 10))\n",
    "\n",
    "    def forward(self, input):\n",
    "        return self.layers(input)"
   ]
  },
  {
   "cell_type": "markdown",
   "id": "20cf49c6",
   "metadata": {},
   "source": [
    "###### 3. Добавление пулинга"
   ]
  },
  {
   "cell_type": "code",
   "execution_count": 284,
   "id": "79971702",
   "metadata": {
    "ExecuteTime": {
     "end_time": "2024-04-08T23:10:40.045843Z",
     "start_time": "2024-04-08T23:10:40.034156Z"
    }
   },
   "outputs": [],
   "source": [
    "class pooling_CNN(torch.nn.Module):\n",
    "    @property\n",
    "    def device(self):\n",
    "        for p in self.parameters():\n",
    "            return p.device\n",
    "        \n",
    "    def __init__(self):\n",
    "        super(pooling_CNN, self).__init__()\n",
    "        \n",
    "        self.layers = torch.nn.Sequential()\n",
    "        self.layers.add_module('conv1', torch.nn.Conv2d(1, 6, kernel_size = 3))\n",
    "        self.layers.add_module('relu1', torch.nn.ReLU())\n",
    "        self.layers.add_module('pool1', torch.nn.MaxPool2d(kernel_size = 2))\n",
    "        self.layers.add_module('conv2', torch.nn.Conv2d(6, 16, kernel_size = 3))\n",
    "        self.layers.add_module('relu2', torch.nn.ReLU())\n",
    "        self.layers.add_module('pool2', torch.nn.MaxPool2d(kernel_size = 2))\n",
    "        self.layers.add_module('flatten', torch.nn.Flatten())\n",
    "        self.layers.add_module('linear1', torch.nn.Linear(400, 120))\n",
    "        self.layers.add_module('relu3', torch.nn.ReLU())\n",
    "        self.layers.add_module('linear2', torch.nn.Linear(120, 10))\n",
    "\n",
    "    def forward(self, input):\n",
    "        return self.layers(input)"
   ]
  },
  {
   "cell_type": "markdown",
   "id": "5159d14d",
   "metadata": {},
   "source": [
    "###### 4. Добавление BatchNorm"
   ]
  },
  {
   "cell_type": "code",
   "execution_count": 285,
   "id": "e9dcfc38",
   "metadata": {
    "ExecuteTime": {
     "end_time": "2024-04-08T23:10:40.607393Z",
     "start_time": "2024-04-08T23:10:40.595708Z"
    }
   },
   "outputs": [],
   "source": [
    "class batchnorm_CNN(torch.nn.Module):\n",
    "    @property\n",
    "    def device(self):\n",
    "        for p in self.parameters():\n",
    "            return p.device\n",
    "        \n",
    "    def __init__(self):\n",
    "        super(batchnorm_CNN, self).__init__()\n",
    "        \n",
    "        self.layers = torch.nn.Sequential()\n",
    "        self.layers.add_module('conv1', torch.nn.Conv2d(1, 6, kernel_size = 3))\n",
    "        self.layers.add_module('relu1', torch.nn.ReLU())\n",
    "        self.layers.add_module('conv2', torch.nn.Conv2d(6, 16, kernel_size = 3))\n",
    "        self.layers.add_module('batchnorm1', torch.nn.BatchNorm2d(16))\n",
    "        self.layers.add_module('relu2', torch.nn.ReLU())\n",
    "        self.layers.add_module('flatten', torch.nn.Flatten())\n",
    "        self.layers.add_module('linear1', torch.nn.Linear(9216, 120))\n",
    "        self.layers.add_module('batchnorm2', torch.nn.BatchNorm1d(120))\n",
    "        self.layers.add_module('relu3', torch.nn.ReLU())\n",
    "        self.layers.add_module('linear2', torch.nn.Linear(120, 10))\n",
    "\n",
    "    def forward(self, input):\n",
    "        return self.layers(input)"
   ]
  },
  {
   "cell_type": "markdown",
   "id": "20ec4833",
   "metadata": {},
   "source": [
    "###### 5. Добавление Dropout"
   ]
  },
  {
   "cell_type": "code",
   "execution_count": 286,
   "id": "2ea3bcb0",
   "metadata": {
    "ExecuteTime": {
     "end_time": "2024-04-08T23:10:41.174105Z",
     "start_time": "2024-04-08T23:10:41.163815Z"
    }
   },
   "outputs": [],
   "source": [
    "class dropout_CNN(torch.nn.Module):\n",
    "    @property\n",
    "    def device(self):\n",
    "        for p in self.parameters():\n",
    "            return p.device\n",
    "        \n",
    "    def __init__(self):\n",
    "        super(dropout_CNN, self).__init__()\n",
    "        \n",
    "        self.layers = torch.nn.Sequential()\n",
    "        self.layers.add_module('conv1', torch.nn.Conv2d(1, 6, kernel_size = 3))\n",
    "        self.layers.add_module('relu1', torch.nn.ReLU())\n",
    "        self.layers.add_module('conv2', torch.nn.Conv2d(6, 16, kernel_size = 3))\n",
    "        self.layers.add_module('relu2', torch.nn.ReLU())\n",
    "        self.layers.add_module('flatten', torch.nn.Flatten())\n",
    "        self.layers.add_module('linear1', torch.nn.Linear(9216, 120))\n",
    "        self.layers.add_module('dropout', torch.nn.Dropout(p=0.2))\n",
    "        self.layers.add_module('relu3', torch.nn.ReLU())\n",
    "        self.layers.add_module('linear2', torch.nn.Linear(120, 10))\n",
    "        \n",
    "    def forward(self, input):\n",
    "        return self.layers(input)"
   ]
  },
  {
   "cell_type": "markdown",
   "id": "4c55d323",
   "metadata": {},
   "source": [
    "## Подключим tensorboard"
   ]
  },
  {
   "cell_type": "code",
   "execution_count": 287,
   "id": "2c89708a",
   "metadata": {
    "ExecuteTime": {
     "end_time": "2024-04-08T23:10:42.769762Z",
     "start_time": "2024-04-08T23:10:41.699838Z"
    },
    "scrolled": false
   },
   "outputs": [
    {
     "name": "stdout",
     "output_type": "stream",
     "text": [
      "The tensorboard extension is already loaded. To reload it, use:\n",
      "  %reload_ext tensorboard\n"
     ]
    },
    {
     "data": {
      "text/html": [
       "\n",
       "      <iframe id=\"tensorboard-frame-fbccc3231f675912\" width=\"100%\" height=\"800\" frameborder=\"0\">\n",
       "      </iframe>\n",
       "      <script>\n",
       "        (function() {\n",
       "          const frame = document.getElementById(\"tensorboard-frame-fbccc3231f675912\");\n",
       "          const url = new URL(\"/\", window.location);\n",
       "          const port = 6006;\n",
       "          if (port) {\n",
       "            url.port = port;\n",
       "          }\n",
       "          frame.src = url;\n",
       "        })();\n",
       "      </script>\n",
       "    "
      ],
      "text/plain": [
       "<IPython.core.display.HTML object>"
      ]
     },
     "metadata": {},
     "output_type": "display_data"
    }
   ],
   "source": [
    "%load_ext tensorboard\n",
    "%tensorboard --logdir tensorboard_1/"
   ]
  },
  {
   "cell_type": "markdown",
   "id": "bf20a89d",
   "metadata": {
    "ExecuteTime": {
     "end_time": "2024-04-08T20:10:25.029290Z",
     "start_time": "2024-04-08T20:10:25.022991Z"
    }
   },
   "source": [
    "## Скачаем данные"
   ]
  },
  {
   "cell_type": "code",
   "execution_count": 288,
   "id": "896f3337",
   "metadata": {
    "ExecuteTime": {
     "end_time": "2024-04-08T23:10:42.807620Z",
     "start_time": "2024-04-08T23:10:42.773575Z"
    },
    "scrolled": true
   },
   "outputs": [],
   "source": [
    "FashionMNIST_train = datasets.FashionMNIST('./FashionMNIST', train=True, download=True, transform=transforms.ToTensor())\n",
    "FashionMNIST_test = datasets.FashionMNIST('./FashionMNIST', train=False, download=True, transform=transforms.ToTensor())"
   ]
  },
  {
   "cell_type": "markdown",
   "id": "a3aa5747",
   "metadata": {
    "ExecuteTime": {
     "end_time": "2024-04-08T21:23:28.297291Z",
     "start_time": "2024-04-08T21:23:28.292306Z"
    }
   },
   "source": [
    "## Обучение"
   ]
  },
  {
   "cell_type": "code",
   "execution_count": 289,
   "id": "bd20fcfe",
   "metadata": {
    "ExecuteTime": {
     "end_time": "2024-04-08T23:10:43.819536Z",
     "start_time": "2024-04-08T23:10:43.816740Z"
    }
   },
   "outputs": [],
   "source": [
    "loss_function = torch.nn.CrossEntropyLoss()\n",
    "optimizer = torch.optim.Adam"
   ]
  },
  {
   "cell_type": "markdown",
   "id": "ccfca403",
   "metadata": {},
   "source": [
    "###### 0. Обычная модель"
   ]
  },
  {
   "cell_type": "code",
   "execution_count": 290,
   "id": "62f821b3",
   "metadata": {
    "ExecuteTime": {
     "end_time": "2024-04-08T23:10:44.522855Z",
     "start_time": "2024-04-08T23:10:44.517180Z"
    }
   },
   "outputs": [],
   "source": [
    "writer0 = SummaryWriter(log_dir = 'tensorboard_1/basic_CNN')\n",
    "call0 = callback(writer0, FashionMNIST_test, loss_function, delimeter = 10)"
   ]
  },
  {
   "cell_type": "code",
   "execution_count": 291,
   "id": "0bc7bd3c",
   "metadata": {
    "ExecuteTime": {
     "end_time": "2024-04-08T23:10:44.863179Z",
     "start_time": "2024-04-08T23:10:44.848594Z"
    }
   },
   "outputs": [
    {
     "data": {
      "text/plain": [
       "basic_CNN(\n",
       "  (layers): Sequential(\n",
       "    (conv1): Conv2d(1, 6, kernel_size=(3, 3), stride=(1, 1))\n",
       "    (relu1): ReLU()\n",
       "    (conv2): Conv2d(6, 16, kernel_size=(3, 3), stride=(1, 1))\n",
       "    (relu2): ReLU()\n",
       "    (flatten): Flatten(start_dim=1, end_dim=-1)\n",
       "    (linear1): Linear(in_features=9216, out_features=120, bias=True)\n",
       "    (relu3): ReLU()\n",
       "    (linear2): Linear(in_features=120, out_features=10, bias=True)\n",
       "  )\n",
       ")"
      ]
     },
     "execution_count": 291,
     "metadata": {},
     "output_type": "execute_result"
    }
   ],
   "source": [
    "model0 = basic_CNN()\n",
    "model0.to(device)"
   ]
  },
  {
   "cell_type": "code",
   "execution_count": 292,
   "id": "03c81d4a",
   "metadata": {
    "ExecuteTime": {
     "end_time": "2024-04-08T23:10:45.764983Z",
     "start_time": "2024-04-08T23:10:45.200843Z"
    }
   },
   "outputs": [
    {
     "name": "stdout",
     "output_type": "stream",
     "text": [
      "loss: 2.3047721282958986\n"
     ]
    },
    {
     "data": {
      "text/plain": [
       "2.3047721282958986"
      ]
     },
     "execution_count": 292,
     "metadata": {},
     "output_type": "execute_result"
    }
   ],
   "source": [
    "check(64, FashionMNIST_test, model0, loss_function)"
   ]
  },
  {
   "cell_type": "code",
   "execution_count": 293,
   "id": "09250386",
   "metadata": {
    "ExecuteTime": {
     "end_time": "2024-04-08T23:16:02.492014Z",
     "start_time": "2024-04-08T23:10:46.713097Z"
    },
    "scrolled": true
   },
   "outputs": [
    {
     "data": {
      "application/vnd.jupyter.widget-view+json": {
       "model_id": "bfc6638811754c409b36ae7b32703dc9",
       "version_major": 2,
       "version_minor": 0
      },
      "text/plain": [
       "epoch:   0%|          | 0/5 [00:00<?, ?it/s]"
      ]
     },
     "metadata": {},
     "output_type": "display_data"
    },
    {
     "data": {
      "application/vnd.jupyter.widget-view+json": {
       "model_id": "",
       "version_major": 2,
       "version_minor": 0
      },
      "text/plain": [
       "  0%|          | 0/938 [00:00<?, ?it/s]"
      ]
     },
     "metadata": {},
     "output_type": "display_data"
    },
    {
     "data": {
      "application/vnd.jupyter.widget-view+json": {
       "model_id": "",
       "version_major": 2,
       "version_minor": 0
      },
      "text/plain": [
       "  0%|          | 0/938 [00:00<?, ?it/s]"
      ]
     },
     "metadata": {},
     "output_type": "display_data"
    },
    {
     "data": {
      "application/vnd.jupyter.widget-view+json": {
       "model_id": "",
       "version_major": 2,
       "version_minor": 0
      },
      "text/plain": [
       "  0%|          | 0/938 [00:00<?, ?it/s]"
      ]
     },
     "metadata": {},
     "output_type": "display_data"
    },
    {
     "data": {
      "application/vnd.jupyter.widget-view+json": {
       "model_id": "",
       "version_major": 2,
       "version_minor": 0
      },
      "text/plain": [
       "  0%|          | 0/938 [00:00<?, ?it/s]"
      ]
     },
     "metadata": {},
     "output_type": "display_data"
    },
    {
     "data": {
      "application/vnd.jupyter.widget-view+json": {
       "model_id": "",
       "version_major": 2,
       "version_minor": 0
      },
      "text/plain": [
       "  0%|          | 0/938 [00:00<?, ?it/s]"
      ]
     },
     "metadata": {},
     "output_type": "display_data"
    }
   ],
   "source": [
    "trainer(count_of_epoch = 5,\n",
    "        batch_size = 64,\n",
    "        dataset = FashionMNIST_train,\n",
    "        model = model0,\n",
    "        loss_function = loss_function,\n",
    "        optimizer = optimizer,\n",
    "        lr = 0.001,\n",
    "        callback = call0)"
   ]
  },
  {
   "cell_type": "code",
   "execution_count": 294,
   "id": "e93ac6d1",
   "metadata": {
    "ExecuteTime": {
     "end_time": "2024-04-08T23:16:03.059309Z",
     "start_time": "2024-04-08T23:16:02.493119Z"
    }
   },
   "outputs": [
    {
     "name": "stdout",
     "output_type": "stream",
     "text": [
      "loss: 0.2631594335079193\n"
     ]
    },
    {
     "data": {
      "text/plain": [
       "0.2631594335079193"
      ]
     },
     "execution_count": 294,
     "metadata": {},
     "output_type": "execute_result"
    }
   ],
   "source": [
    "check(64, FashionMNIST_test, model0, loss_function)"
   ]
  },
  {
   "cell_type": "markdown",
   "id": "e1bd545a",
   "metadata": {},
   "source": [
    "###### 1. Увеличенное ядро"
   ]
  },
  {
   "cell_type": "code",
   "execution_count": 295,
   "id": "03e8215e",
   "metadata": {
    "ExecuteTime": {
     "end_time": "2024-04-08T23:16:03.062028Z",
     "start_time": "2024-04-08T23:16:03.060139Z"
    }
   },
   "outputs": [],
   "source": [
    "writer1 = SummaryWriter(log_dir = 'tensorboard_1/kernel_CNN')\n",
    "call1 = callback(writer1, FashionMNIST_test, loss_function, delimeter = 10)"
   ]
  },
  {
   "cell_type": "code",
   "execution_count": 299,
   "id": "a2151f40",
   "metadata": {
    "ExecuteTime": {
     "end_time": "2024-04-08T23:20:24.808908Z",
     "start_time": "2024-04-08T23:20:24.793804Z"
    }
   },
   "outputs": [
    {
     "data": {
      "text/plain": [
       "kernel_CNN(\n",
       "  (layers): Sequential(\n",
       "    (conv1): Conv2d(1, 6, kernel_size=(5, 5), stride=(1, 1))\n",
       "    (relu1): ReLU()\n",
       "    (conv2): Conv2d(6, 16, kernel_size=(5, 5), stride=(1, 1))\n",
       "    (relu2): ReLU()\n",
       "    (flatten): Flatten(start_dim=1, end_dim=-1)\n",
       "    (linear1): Linear(in_features=6400, out_features=120, bias=True)\n",
       "    (relu3): ReLU()\n",
       "    (linear2): Linear(in_features=120, out_features=10, bias=True)\n",
       "  )\n",
       ")"
      ]
     },
     "execution_count": 299,
     "metadata": {},
     "output_type": "execute_result"
    }
   ],
   "source": [
    "model1 = kernel_CNN()\n",
    "model1.to(device)"
   ]
  },
  {
   "cell_type": "code",
   "execution_count": 300,
   "id": "60c870e4",
   "metadata": {
    "ExecuteTime": {
     "end_time": "2024-04-08T23:20:26.619461Z",
     "start_time": "2024-04-08T23:20:26.020088Z"
    }
   },
   "outputs": [
    {
     "name": "stdout",
     "output_type": "stream",
     "text": [
      "loss: 2.303904319000244\n"
     ]
    },
    {
     "data": {
      "text/plain": [
       "2.303904319000244"
      ]
     },
     "execution_count": 300,
     "metadata": {},
     "output_type": "execute_result"
    }
   ],
   "source": [
    "check(64, FashionMNIST_test, model1, loss_function)"
   ]
  },
  {
   "cell_type": "code",
   "execution_count": 301,
   "id": "42b81d7f",
   "metadata": {
    "ExecuteTime": {
     "end_time": "2024-04-08T23:26:16.958027Z",
     "start_time": "2024-04-08T23:20:28.601350Z"
    }
   },
   "outputs": [
    {
     "data": {
      "application/vnd.jupyter.widget-view+json": {
       "model_id": "079b6908d4cd4bbbbe4ab74a3d218315",
       "version_major": 2,
       "version_minor": 0
      },
      "text/plain": [
       "epoch:   0%|          | 0/5 [00:00<?, ?it/s]"
      ]
     },
     "metadata": {},
     "output_type": "display_data"
    },
    {
     "data": {
      "application/vnd.jupyter.widget-view+json": {
       "model_id": "",
       "version_major": 2,
       "version_minor": 0
      },
      "text/plain": [
       "  0%|          | 0/938 [00:00<?, ?it/s]"
      ]
     },
     "metadata": {},
     "output_type": "display_data"
    },
    {
     "data": {
      "application/vnd.jupyter.widget-view+json": {
       "model_id": "",
       "version_major": 2,
       "version_minor": 0
      },
      "text/plain": [
       "  0%|          | 0/938 [00:00<?, ?it/s]"
      ]
     },
     "metadata": {},
     "output_type": "display_data"
    },
    {
     "data": {
      "application/vnd.jupyter.widget-view+json": {
       "model_id": "",
       "version_major": 2,
       "version_minor": 0
      },
      "text/plain": [
       "  0%|          | 0/938 [00:00<?, ?it/s]"
      ]
     },
     "metadata": {},
     "output_type": "display_data"
    },
    {
     "data": {
      "application/vnd.jupyter.widget-view+json": {
       "model_id": "",
       "version_major": 2,
       "version_minor": 0
      },
      "text/plain": [
       "  0%|          | 0/938 [00:00<?, ?it/s]"
      ]
     },
     "metadata": {},
     "output_type": "display_data"
    },
    {
     "data": {
      "application/vnd.jupyter.widget-view+json": {
       "model_id": "",
       "version_major": 2,
       "version_minor": 0
      },
      "text/plain": [
       "  0%|          | 0/938 [00:00<?, ?it/s]"
      ]
     },
     "metadata": {},
     "output_type": "display_data"
    }
   ],
   "source": [
    "trainer(count_of_epoch = 5,\n",
    "        batch_size = 64,\n",
    "        dataset = FashionMNIST_train,\n",
    "        model = model1,\n",
    "        loss_function = loss_function,\n",
    "        optimizer = optimizer,\n",
    "        lr = 0.001,\n",
    "        callback = call1)"
   ]
  },
  {
   "cell_type": "code",
   "execution_count": 302,
   "id": "1591fc4b",
   "metadata": {
    "ExecuteTime": {
     "end_time": "2024-04-08T23:26:17.536157Z",
     "start_time": "2024-04-08T23:26:16.960166Z"
    }
   },
   "outputs": [
    {
     "name": "stdout",
     "output_type": "stream",
     "text": [
      "loss: 0.28337887840271\n"
     ]
    },
    {
     "data": {
      "text/plain": [
       "0.28337887840271"
      ]
     },
     "execution_count": 302,
     "metadata": {},
     "output_type": "execute_result"
    }
   ],
   "source": [
    "check(64, FashionMNIST_test, model1, loss_function)"
   ]
  },
  {
   "cell_type": "markdown",
   "id": "a760069f",
   "metadata": {},
   "source": [
    "###### 2. Увеличенное число слоев"
   ]
  },
  {
   "cell_type": "code",
   "execution_count": 303,
   "id": "d0bed655",
   "metadata": {
    "ExecuteTime": {
     "end_time": "2024-04-08T23:26:17.539197Z",
     "start_time": "2024-04-08T23:26:17.537066Z"
    }
   },
   "outputs": [],
   "source": [
    "writer2 = SummaryWriter(log_dir = 'tensorboard_1/layers_CNN')\n",
    "call2 = callback(writer2, FashionMNIST_test, loss_function, delimeter = 10)"
   ]
  },
  {
   "cell_type": "code",
   "execution_count": 304,
   "id": "af61e0ea",
   "metadata": {
    "ExecuteTime": {
     "end_time": "2024-04-08T23:26:17.545583Z",
     "start_time": "2024-04-08T23:26:17.540596Z"
    }
   },
   "outputs": [
    {
     "data": {
      "text/plain": [
       "layers_CNN(\n",
       "  (layers): Sequential(\n",
       "    (conv1): Conv2d(1, 6, kernel_size=(3, 3), stride=(1, 1))\n",
       "    (relu1): ReLU()\n",
       "    (conv2): Conv2d(6, 16, kernel_size=(3, 3), stride=(1, 1))\n",
       "    (relu2): ReLU()\n",
       "    (flatten): Flatten(start_dim=1, end_dim=-1)\n",
       "    (linear1): Linear(in_features=9216, out_features=120, bias=True)\n",
       "    (relu3): ReLU()\n",
       "    (linear2): Linear(in_features=120, out_features=84, bias=True)\n",
       "    (relu4): ReLU()\n",
       "    (linear3): Linear(in_features=84, out_features=10, bias=True)\n",
       "  )\n",
       ")"
      ]
     },
     "execution_count": 304,
     "metadata": {},
     "output_type": "execute_result"
    }
   ],
   "source": [
    "model2 = layers_CNN()\n",
    "model2.to(device)"
   ]
  },
  {
   "cell_type": "code",
   "execution_count": 305,
   "id": "126387b6",
   "metadata": {
    "ExecuteTime": {
     "end_time": "2024-04-08T23:26:18.119455Z",
     "start_time": "2024-04-08T23:26:17.546207Z"
    }
   },
   "outputs": [
    {
     "name": "stdout",
     "output_type": "stream",
     "text": [
      "loss: 2.306398455810547\n"
     ]
    },
    {
     "data": {
      "text/plain": [
       "2.306398455810547"
      ]
     },
     "execution_count": 305,
     "metadata": {},
     "output_type": "execute_result"
    }
   ],
   "source": [
    "check(64, FashionMNIST_test, model2, loss_function)"
   ]
  },
  {
   "cell_type": "code",
   "execution_count": 306,
   "id": "99ba9e35",
   "metadata": {
    "ExecuteTime": {
     "end_time": "2024-04-08T23:31:32.861501Z",
     "start_time": "2024-04-08T23:26:18.120349Z"
    }
   },
   "outputs": [
    {
     "data": {
      "application/vnd.jupyter.widget-view+json": {
       "model_id": "67c48058fd764c949335fe0c3a03e7de",
       "version_major": 2,
       "version_minor": 0
      },
      "text/plain": [
       "epoch:   0%|          | 0/5 [00:00<?, ?it/s]"
      ]
     },
     "metadata": {},
     "output_type": "display_data"
    },
    {
     "data": {
      "application/vnd.jupyter.widget-view+json": {
       "model_id": "",
       "version_major": 2,
       "version_minor": 0
      },
      "text/plain": [
       "  0%|          | 0/938 [00:00<?, ?it/s]"
      ]
     },
     "metadata": {},
     "output_type": "display_data"
    },
    {
     "data": {
      "application/vnd.jupyter.widget-view+json": {
       "model_id": "",
       "version_major": 2,
       "version_minor": 0
      },
      "text/plain": [
       "  0%|          | 0/938 [00:00<?, ?it/s]"
      ]
     },
     "metadata": {},
     "output_type": "display_data"
    },
    {
     "data": {
      "application/vnd.jupyter.widget-view+json": {
       "model_id": "",
       "version_major": 2,
       "version_minor": 0
      },
      "text/plain": [
       "  0%|          | 0/938 [00:00<?, ?it/s]"
      ]
     },
     "metadata": {},
     "output_type": "display_data"
    },
    {
     "data": {
      "application/vnd.jupyter.widget-view+json": {
       "model_id": "",
       "version_major": 2,
       "version_minor": 0
      },
      "text/plain": [
       "  0%|          | 0/938 [00:00<?, ?it/s]"
      ]
     },
     "metadata": {},
     "output_type": "display_data"
    },
    {
     "data": {
      "application/vnd.jupyter.widget-view+json": {
       "model_id": "",
       "version_major": 2,
       "version_minor": 0
      },
      "text/plain": [
       "  0%|          | 0/938 [00:00<?, ?it/s]"
      ]
     },
     "metadata": {},
     "output_type": "display_data"
    }
   ],
   "source": [
    "trainer(count_of_epoch = 5,\n",
    "        batch_size = 64,\n",
    "        dataset = FashionMNIST_train,\n",
    "        model = model2,\n",
    "        loss_function = loss_function,\n",
    "        optimizer = optimizer,\n",
    "        lr = 0.001,\n",
    "        callback = call2)"
   ]
  },
  {
   "cell_type": "code",
   "execution_count": 307,
   "id": "74247d56",
   "metadata": {
    "ExecuteTime": {
     "end_time": "2024-04-08T23:31:33.409072Z",
     "start_time": "2024-04-08T23:31:32.862568Z"
    }
   },
   "outputs": [
    {
     "name": "stdout",
     "output_type": "stream",
     "text": [
      "loss: 0.2737258492231369\n"
     ]
    },
    {
     "data": {
      "text/plain": [
       "0.2737258492231369"
      ]
     },
     "execution_count": 307,
     "metadata": {},
     "output_type": "execute_result"
    }
   ],
   "source": [
    "check(64, FashionMNIST_test, model2, loss_function)"
   ]
  },
  {
   "cell_type": "markdown",
   "id": "1cc7addd",
   "metadata": {},
   "source": [
    "###### 3. Добавление пулинга"
   ]
  },
  {
   "cell_type": "code",
   "execution_count": 308,
   "id": "4ad2767b",
   "metadata": {
    "ExecuteTime": {
     "end_time": "2024-04-08T23:31:33.412017Z",
     "start_time": "2024-04-08T23:31:33.409975Z"
    }
   },
   "outputs": [],
   "source": [
    "writer3 = SummaryWriter(log_dir = 'tensorboard_1/pooling_CNN')\n",
    "call3 = callback(writer3, FashionMNIST_test, loss_function, delimeter = 10)"
   ]
  },
  {
   "cell_type": "code",
   "execution_count": 309,
   "id": "fca80687",
   "metadata": {
    "ExecuteTime": {
     "end_time": "2024-04-08T23:31:33.415161Z",
     "start_time": "2024-04-08T23:31:33.412542Z"
    }
   },
   "outputs": [
    {
     "data": {
      "text/plain": [
       "pooling_CNN(\n",
       "  (layers): Sequential(\n",
       "    (conv1): Conv2d(1, 6, kernel_size=(3, 3), stride=(1, 1))\n",
       "    (relu1): ReLU()\n",
       "    (pool1): MaxPool2d(kernel_size=2, stride=2, padding=0, dilation=1, ceil_mode=False)\n",
       "    (conv2): Conv2d(6, 16, kernel_size=(3, 3), stride=(1, 1))\n",
       "    (relu2): ReLU()\n",
       "    (pool2): MaxPool2d(kernel_size=2, stride=2, padding=0, dilation=1, ceil_mode=False)\n",
       "    (flatten): Flatten(start_dim=1, end_dim=-1)\n",
       "    (linear1): Linear(in_features=400, out_features=120, bias=True)\n",
       "    (relu3): ReLU()\n",
       "    (linear2): Linear(in_features=120, out_features=10, bias=True)\n",
       "  )\n",
       ")"
      ]
     },
     "execution_count": 309,
     "metadata": {},
     "output_type": "execute_result"
    }
   ],
   "source": [
    "model3 = pooling_CNN()\n",
    "model3.to(device)"
   ]
  },
  {
   "cell_type": "code",
   "execution_count": 310,
   "id": "a3168ee5",
   "metadata": {
    "ExecuteTime": {
     "end_time": "2024-04-08T23:31:33.827503Z",
     "start_time": "2024-04-08T23:31:33.417494Z"
    }
   },
   "outputs": [
    {
     "name": "stdout",
     "output_type": "stream",
     "text": [
      "loss: 2.304301448440552\n"
     ]
    },
    {
     "data": {
      "text/plain": [
       "2.304301448440552"
      ]
     },
     "execution_count": 310,
     "metadata": {},
     "output_type": "execute_result"
    }
   ],
   "source": [
    "check(64, FashionMNIST_test, model3, loss_function)"
   ]
  },
  {
   "cell_type": "code",
   "execution_count": 311,
   "id": "0bce1481",
   "metadata": {
    "ExecuteTime": {
     "end_time": "2024-04-08T23:35:11.882632Z",
     "start_time": "2024-04-08T23:31:33.828414Z"
    }
   },
   "outputs": [
    {
     "data": {
      "application/vnd.jupyter.widget-view+json": {
       "model_id": "0bce6410ab31476397c8a246d2237b54",
       "version_major": 2,
       "version_minor": 0
      },
      "text/plain": [
       "epoch:   0%|          | 0/5 [00:00<?, ?it/s]"
      ]
     },
     "metadata": {},
     "output_type": "display_data"
    },
    {
     "data": {
      "application/vnd.jupyter.widget-view+json": {
       "model_id": "",
       "version_major": 2,
       "version_minor": 0
      },
      "text/plain": [
       "  0%|          | 0/938 [00:00<?, ?it/s]"
      ]
     },
     "metadata": {},
     "output_type": "display_data"
    },
    {
     "data": {
      "application/vnd.jupyter.widget-view+json": {
       "model_id": "",
       "version_major": 2,
       "version_minor": 0
      },
      "text/plain": [
       "  0%|          | 0/938 [00:00<?, ?it/s]"
      ]
     },
     "metadata": {},
     "output_type": "display_data"
    },
    {
     "data": {
      "application/vnd.jupyter.widget-view+json": {
       "model_id": "",
       "version_major": 2,
       "version_minor": 0
      },
      "text/plain": [
       "  0%|          | 0/938 [00:00<?, ?it/s]"
      ]
     },
     "metadata": {},
     "output_type": "display_data"
    },
    {
     "data": {
      "application/vnd.jupyter.widget-view+json": {
       "model_id": "",
       "version_major": 2,
       "version_minor": 0
      },
      "text/plain": [
       "  0%|          | 0/938 [00:00<?, ?it/s]"
      ]
     },
     "metadata": {},
     "output_type": "display_data"
    },
    {
     "data": {
      "application/vnd.jupyter.widget-view+json": {
       "model_id": "",
       "version_major": 2,
       "version_minor": 0
      },
      "text/plain": [
       "  0%|          | 0/938 [00:00<?, ?it/s]"
      ]
     },
     "metadata": {},
     "output_type": "display_data"
    }
   ],
   "source": [
    "trainer(count_of_epoch = 5,\n",
    "        batch_size = 64,\n",
    "        dataset = FashionMNIST_train,\n",
    "        model = model3,\n",
    "        loss_function = loss_function,\n",
    "        optimizer = optimizer,\n",
    "        lr = 0.001,\n",
    "        callback = call3)"
   ]
  },
  {
   "cell_type": "code",
   "execution_count": 312,
   "id": "c46a1b15",
   "metadata": {
    "ExecuteTime": {
     "end_time": "2024-04-08T23:35:12.269955Z",
     "start_time": "2024-04-08T23:35:11.883396Z"
    }
   },
   "outputs": [
    {
     "name": "stdout",
     "output_type": "stream",
     "text": [
      "loss: 0.34046540837287903\n"
     ]
    },
    {
     "data": {
      "text/plain": [
       "0.34046540837287903"
      ]
     },
     "execution_count": 312,
     "metadata": {},
     "output_type": "execute_result"
    }
   ],
   "source": [
    "check(64, FashionMNIST_test, model3, loss_function)"
   ]
  },
  {
   "cell_type": "markdown",
   "id": "08d353b6",
   "metadata": {},
   "source": [
    "###### 4. Добавление BatchNorm"
   ]
  },
  {
   "cell_type": "code",
   "execution_count": 313,
   "id": "ab747d6f",
   "metadata": {
    "ExecuteTime": {
     "end_time": "2024-04-08T23:35:12.273290Z",
     "start_time": "2024-04-08T23:35:12.270823Z"
    }
   },
   "outputs": [],
   "source": [
    "writer4 = SummaryWriter(log_dir = 'tensorboard_1/batchnorm_CNN')\n",
    "call4 = callback(writer4, FashionMNIST_test, loss_function, delimeter = 10)"
   ]
  },
  {
   "cell_type": "code",
   "execution_count": 314,
   "id": "078b10be",
   "metadata": {
    "ExecuteTime": {
     "end_time": "2024-04-08T23:35:12.279466Z",
     "start_time": "2024-04-08T23:35:12.274015Z"
    }
   },
   "outputs": [
    {
     "data": {
      "text/plain": [
       "batchnorm_CNN(\n",
       "  (layers): Sequential(\n",
       "    (conv1): Conv2d(1, 6, kernel_size=(3, 3), stride=(1, 1))\n",
       "    (relu1): ReLU()\n",
       "    (conv2): Conv2d(6, 16, kernel_size=(3, 3), stride=(1, 1))\n",
       "    (batchnorm1): BatchNorm2d(16, eps=1e-05, momentum=0.1, affine=True, track_running_stats=True)\n",
       "    (relu2): ReLU()\n",
       "    (flatten): Flatten(start_dim=1, end_dim=-1)\n",
       "    (linear1): Linear(in_features=9216, out_features=120, bias=True)\n",
       "    (batchnorm2): BatchNorm1d(120, eps=1e-05, momentum=0.1, affine=True, track_running_stats=True)\n",
       "    (relu3): ReLU()\n",
       "    (linear2): Linear(in_features=120, out_features=10, bias=True)\n",
       "  )\n",
       ")"
      ]
     },
     "execution_count": 314,
     "metadata": {},
     "output_type": "execute_result"
    }
   ],
   "source": [
    "model4 = batchnorm_CNN()\n",
    "model4.to(device)"
   ]
  },
  {
   "cell_type": "code",
   "execution_count": 315,
   "id": "34766463",
   "metadata": {
    "ExecuteTime": {
     "end_time": "2024-04-08T23:35:12.948564Z",
     "start_time": "2024-04-08T23:35:12.280272Z"
    }
   },
   "outputs": [
    {
     "name": "stdout",
     "output_type": "stream",
     "text": [
      "loss: 2.4264142349243163\n"
     ]
    },
    {
     "data": {
      "text/plain": [
       "2.4264142349243163"
      ]
     },
     "execution_count": 315,
     "metadata": {},
     "output_type": "execute_result"
    }
   ],
   "source": [
    "check(64, FashionMNIST_test, model4, loss_function)"
   ]
  },
  {
   "cell_type": "code",
   "execution_count": 316,
   "id": "4cd1c3ee",
   "metadata": {
    "ExecuteTime": {
     "end_time": "2024-04-08T23:41:14.612256Z",
     "start_time": "2024-04-08T23:35:12.949517Z"
    }
   },
   "outputs": [
    {
     "data": {
      "application/vnd.jupyter.widget-view+json": {
       "model_id": "08a9636c2df94e56ae55c86cd51aa155",
       "version_major": 2,
       "version_minor": 0
      },
      "text/plain": [
       "epoch:   0%|          | 0/5 [00:00<?, ?it/s]"
      ]
     },
     "metadata": {},
     "output_type": "display_data"
    },
    {
     "data": {
      "application/vnd.jupyter.widget-view+json": {
       "model_id": "",
       "version_major": 2,
       "version_minor": 0
      },
      "text/plain": [
       "  0%|          | 0/938 [00:00<?, ?it/s]"
      ]
     },
     "metadata": {},
     "output_type": "display_data"
    },
    {
     "data": {
      "application/vnd.jupyter.widget-view+json": {
       "model_id": "",
       "version_major": 2,
       "version_minor": 0
      },
      "text/plain": [
       "  0%|          | 0/938 [00:00<?, ?it/s]"
      ]
     },
     "metadata": {},
     "output_type": "display_data"
    },
    {
     "data": {
      "application/vnd.jupyter.widget-view+json": {
       "model_id": "",
       "version_major": 2,
       "version_minor": 0
      },
      "text/plain": [
       "  0%|          | 0/938 [00:00<?, ?it/s]"
      ]
     },
     "metadata": {},
     "output_type": "display_data"
    },
    {
     "data": {
      "application/vnd.jupyter.widget-view+json": {
       "model_id": "",
       "version_major": 2,
       "version_minor": 0
      },
      "text/plain": [
       "  0%|          | 0/938 [00:00<?, ?it/s]"
      ]
     },
     "metadata": {},
     "output_type": "display_data"
    },
    {
     "data": {
      "application/vnd.jupyter.widget-view+json": {
       "model_id": "",
       "version_major": 2,
       "version_minor": 0
      },
      "text/plain": [
       "  0%|          | 0/938 [00:00<?, ?it/s]"
      ]
     },
     "metadata": {},
     "output_type": "display_data"
    }
   ],
   "source": [
    "trainer(count_of_epoch = 5,\n",
    "        batch_size = 64,\n",
    "        dataset = FashionMNIST_train,\n",
    "        model = model4,\n",
    "        loss_function = loss_function,\n",
    "        optimizer = optimizer,\n",
    "        lr = 0.001,\n",
    "        callback = call4)"
   ]
  },
  {
   "cell_type": "code",
   "execution_count": 317,
   "id": "b8e83dfa",
   "metadata": {
    "ExecuteTime": {
     "end_time": "2024-04-08T23:41:15.269553Z",
     "start_time": "2024-04-08T23:41:14.613552Z"
    }
   },
   "outputs": [
    {
     "name": "stdout",
     "output_type": "stream",
     "text": [
      "loss: 0.3019942291021347\n"
     ]
    },
    {
     "data": {
      "text/plain": [
       "0.3019942291021347"
      ]
     },
     "execution_count": 317,
     "metadata": {},
     "output_type": "execute_result"
    }
   ],
   "source": [
    "check(64, FashionMNIST_test, model4, loss_function)"
   ]
  },
  {
   "cell_type": "markdown",
   "id": "942f54aa",
   "metadata": {
    "ExecuteTime": {
     "end_time": "2024-04-08T23:01:23.547367Z",
     "start_time": "2024-04-08T23:01:23.547354Z"
    }
   },
   "source": [
    "###### 5. Добавление Dropout"
   ]
  },
  {
   "cell_type": "code",
   "execution_count": 318,
   "id": "afc5e03c",
   "metadata": {
    "ExecuteTime": {
     "end_time": "2024-04-08T23:41:15.273064Z",
     "start_time": "2024-04-08T23:41:15.270301Z"
    }
   },
   "outputs": [],
   "source": [
    "writer5 = SummaryWriter(log_dir = 'tensorboard_1/dropout_CNN')\n",
    "call5 = callback(writer5, FashionMNIST_test, loss_function, delimeter = 10)"
   ]
  },
  {
   "cell_type": "code",
   "execution_count": 319,
   "id": "4c00c5c6",
   "metadata": {
    "ExecuteTime": {
     "end_time": "2024-04-08T23:41:15.278675Z",
     "start_time": "2024-04-08T23:41:15.273688Z"
    }
   },
   "outputs": [
    {
     "data": {
      "text/plain": [
       "dropout_CNN(\n",
       "  (layers): Sequential(\n",
       "    (conv1): Conv2d(1, 6, kernel_size=(3, 3), stride=(1, 1))\n",
       "    (relu1): ReLU()\n",
       "    (conv2): Conv2d(6, 16, kernel_size=(3, 3), stride=(1, 1))\n",
       "    (relu2): ReLU()\n",
       "    (flatten): Flatten(start_dim=1, end_dim=-1)\n",
       "    (linear1): Linear(in_features=9216, out_features=120, bias=True)\n",
       "    (dropout): Dropout(p=0.2, inplace=False)\n",
       "    (relu3): ReLU()\n",
       "    (linear2): Linear(in_features=120, out_features=10, bias=True)\n",
       "  )\n",
       ")"
      ]
     },
     "execution_count": 319,
     "metadata": {},
     "output_type": "execute_result"
    }
   ],
   "source": [
    "model5 = dropout_CNN()\n",
    "model5.to(device)"
   ]
  },
  {
   "cell_type": "code",
   "execution_count": 320,
   "id": "27eceeb1",
   "metadata": {
    "ExecuteTime": {
     "end_time": "2024-04-08T23:41:15.844092Z",
     "start_time": "2024-04-08T23:41:15.279484Z"
    }
   },
   "outputs": [
    {
     "name": "stdout",
     "output_type": "stream",
     "text": [
      "loss: 2.3047156017303467\n"
     ]
    },
    {
     "data": {
      "text/plain": [
       "2.3047156017303467"
      ]
     },
     "execution_count": 320,
     "metadata": {},
     "output_type": "execute_result"
    }
   ],
   "source": [
    "check(64, FashionMNIST_test, model5, loss_function)"
   ]
  },
  {
   "cell_type": "code",
   "execution_count": 321,
   "id": "da3bcfca",
   "metadata": {
    "ExecuteTime": {
     "end_time": "2024-04-08T23:46:33.698880Z",
     "start_time": "2024-04-08T23:41:15.844844Z"
    }
   },
   "outputs": [
    {
     "data": {
      "application/vnd.jupyter.widget-view+json": {
       "model_id": "29e84c24f2ee4c81948678b8d48c05f7",
       "version_major": 2,
       "version_minor": 0
      },
      "text/plain": [
       "epoch:   0%|          | 0/5 [00:00<?, ?it/s]"
      ]
     },
     "metadata": {},
     "output_type": "display_data"
    },
    {
     "data": {
      "application/vnd.jupyter.widget-view+json": {
       "model_id": "",
       "version_major": 2,
       "version_minor": 0
      },
      "text/plain": [
       "  0%|          | 0/938 [00:00<?, ?it/s]"
      ]
     },
     "metadata": {},
     "output_type": "display_data"
    },
    {
     "data": {
      "application/vnd.jupyter.widget-view+json": {
       "model_id": "",
       "version_major": 2,
       "version_minor": 0
      },
      "text/plain": [
       "  0%|          | 0/938 [00:00<?, ?it/s]"
      ]
     },
     "metadata": {},
     "output_type": "display_data"
    },
    {
     "data": {
      "application/vnd.jupyter.widget-view+json": {
       "model_id": "",
       "version_major": 2,
       "version_minor": 0
      },
      "text/plain": [
       "  0%|          | 0/938 [00:00<?, ?it/s]"
      ]
     },
     "metadata": {},
     "output_type": "display_data"
    },
    {
     "data": {
      "application/vnd.jupyter.widget-view+json": {
       "model_id": "",
       "version_major": 2,
       "version_minor": 0
      },
      "text/plain": [
       "  0%|          | 0/938 [00:00<?, ?it/s]"
      ]
     },
     "metadata": {},
     "output_type": "display_data"
    },
    {
     "data": {
      "application/vnd.jupyter.widget-view+json": {
       "model_id": "",
       "version_major": 2,
       "version_minor": 0
      },
      "text/plain": [
       "  0%|          | 0/938 [00:00<?, ?it/s]"
      ]
     },
     "metadata": {},
     "output_type": "display_data"
    }
   ],
   "source": [
    "trainer(count_of_epoch = 5,\n",
    "        batch_size = 64,\n",
    "        dataset = FashionMNIST_train,\n",
    "        model = model5,\n",
    "        loss_function = loss_function,\n",
    "        optimizer = optimizer,\n",
    "        lr = 0.001,\n",
    "        callback = call5)"
   ]
  },
  {
   "cell_type": "code",
   "execution_count": 322,
   "id": "bd3a33db",
   "metadata": {
    "ExecuteTime": {
     "end_time": "2024-04-08T23:46:34.230315Z",
     "start_time": "2024-04-08T23:46:33.700288Z"
    },
    "scrolled": true
   },
   "outputs": [
    {
     "name": "stdout",
     "output_type": "stream",
     "text": [
      "loss: 0.29450145016908647\n"
     ]
    },
    {
     "data": {
      "text/plain": [
       "0.29450145016908647"
      ]
     },
     "execution_count": 322,
     "metadata": {},
     "output_type": "execute_result"
    }
   ],
   "source": [
    "check(64, FashionMNIST_test, model5, loss_function)"
   ]
  },
  {
   "cell_type": "markdown",
   "id": "0979fc0c",
   "metadata": {},
   "source": [
    "Были проведены эксперименты над базовой моделью.\n",
    "\n",
    "Как мы видим из графиков: модели pooling и dropout плохо себя показали; базовая модель, с увеличенным ядром и с увеличенным количеством слоев показали примерно одинаковые результаты, а модель с batchnorm показала лучший результат, правда переобучилась."
   ]
  }
 ],
 "metadata": {
  "kernelspec": {
   "display_name": "Python 3 (ipykernel)",
   "language": "python",
   "name": "python3"
  },
  "language_info": {
   "codemirror_mode": {
    "name": "ipython",
    "version": 3
   },
   "file_extension": ".py",
   "mimetype": "text/x-python",
   "name": "python",
   "nbconvert_exporter": "python",
   "pygments_lexer": "ipython3",
   "version": "3.11.5"
  }
 },
 "nbformat": 4,
 "nbformat_minor": 5
}
