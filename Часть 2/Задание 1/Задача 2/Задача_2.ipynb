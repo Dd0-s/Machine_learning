{
 "cells": [
  {
   "cell_type": "markdown",
   "id": "9fc95dd8",
   "metadata": {},
   "source": [
    "# Богданов Александр Иванович, Б05-003"
   ]
  },
  {
   "cell_type": "markdown",
   "id": "10878b1e",
   "metadata": {},
   "source": [
    "## Анализ модели LSTM"
   ]
  },
  {
   "cell_type": "code",
   "execution_count": 300,
   "id": "438ec893",
   "metadata": {
    "ExecuteTime": {
     "end_time": "2024-04-09T15:00:32.403913Z",
     "start_time": "2024-04-09T15:00:32.399381Z"
    },
    "scrolled": true
   },
   "outputs": [],
   "source": [
    "from tqdm.notebook import tqdm\n",
    "import numpy as np\n",
    "import warnings\n",
    "warnings.filterwarnings(\"ignore\")\n",
    "\n",
    "import torch\n",
    "from torch.utils.data import Dataset\n",
    "from torch.utils.tensorboard import SummaryWriter\n",
    "\n",
    "from prettytable import PrettyTable\n",
    "\n",
    "from nerus import load_nerus"
   ]
  },
  {
   "cell_type": "code",
   "execution_count": 301,
   "id": "f69b5878",
   "metadata": {
    "ExecuteTime": {
     "end_time": "2024-04-09T15:00:33.180822Z",
     "start_time": "2024-04-09T15:00:33.174603Z"
    }
   },
   "outputs": [
    {
     "data": {
      "text/plain": [
       "device(type='cpu')"
      ]
     },
     "execution_count": 301,
     "metadata": {},
     "output_type": "execute_result"
    }
   ],
   "source": [
    "device = torch.device(\"cuda\" if torch.cuda.is_available() else \"cpu\")\n",
    "device"
   ]
  },
  {
   "cell_type": "markdown",
   "id": "c718ea5b",
   "metadata": {},
   "source": [
    "### Вспомогательные функции"
   ]
  },
  {
   "cell_type": "code",
   "execution_count": 302,
   "id": "b34b43a5",
   "metadata": {
    "ExecuteTime": {
     "end_time": "2024-04-09T15:00:39.276322Z",
     "start_time": "2024-04-09T15:00:39.271425Z"
    }
   },
   "outputs": [],
   "source": [
    "def get_sent_tags(docs, size=10000):\n",
    "    list_of_sent = []\n",
    "    list_of_tags = []\n",
    "    for doc in tqdm(docs):\n",
    "        for sent in doc.sents:\n",
    "            list_of_sent_toks = []\n",
    "            list_of_sent_tags = []\n",
    "            for tok in sent.tokens:\n",
    "                list_of_sent_toks.append(tok.text)\n",
    "                list_of_sent_tags.append(tok.pos)\n",
    "        list_of_sent.append(list_of_sent_toks)\n",
    "        list_of_tags.append(list_of_sent_tags)\n",
    "        if len(list_of_sent) > size:\n",
    "            break\n",
    "    return list_of_sent, list_of_tags"
   ]
  },
  {
   "cell_type": "code",
   "execution_count": 303,
   "id": "0dd93633",
   "metadata": {
    "ExecuteTime": {
     "end_time": "2024-04-09T15:00:39.676006Z",
     "start_time": "2024-04-09T15:00:39.669294Z"
    }
   },
   "outputs": [],
   "source": [
    "def pos_dict(list_of_tags, test_size=100):\n",
    "    pos2idx = {'<PAD>' : 0}\n",
    "    idx2pos = ['<PAD>']\n",
    "\n",
    "    for tags in list_of_tags[:-test_size]:\n",
    "        for word in tags:\n",
    "            if word not in pos2idx:\n",
    "                pos2idx[word] = len(idx2pos)\n",
    "                idx2pos.append(word)\n",
    "    return pos2idx, idx2pos"
   ]
  },
  {
   "cell_type": "code",
   "execution_count": 304,
   "id": "1b0e447d",
   "metadata": {
    "ExecuteTime": {
     "end_time": "2024-04-09T15:00:40.113811Z",
     "start_time": "2024-04-09T15:00:40.108914Z"
    }
   },
   "outputs": [],
   "source": [
    "def word_dict(list_of_tags, test_size=100):\n",
    "    word2idx = {'<PAD>': 0, '<UNK>': 1}\n",
    "    idx2word = ['<PAD>', '<UNK>']\n",
    "    \n",
    "    for sent in list_of_sent[:-test_size]:\n",
    "        for word in sent:\n",
    "            if word not in word2idx:\n",
    "                word2idx[word] = len(idx2word)\n",
    "                idx2word.append(word)\n",
    "                \n",
    "    return word2idx, idx2word"
   ]
  },
  {
   "cell_type": "code",
   "execution_count": 305,
   "id": "0db05333",
   "metadata": {
    "ExecuteTime": {
     "end_time": "2024-04-09T15:00:40.475965Z",
     "start_time": "2024-04-09T15:00:40.463261Z"
    }
   },
   "outputs": [],
   "source": [
    "class NerusDataset(Dataset):\n",
    "    def __init__(self, list_of_sent, list_of_tags, word2idx, pos2idx, train=True, test_size=100):\n",
    "        self.X = []\n",
    "        self.y = []\n",
    "        \n",
    "        if train:\n",
    "            for sent in list_of_sent[:-test_size]:\n",
    "                data = []\n",
    "                for word in sent:\n",
    "                    data.append(word2idx.get(word, 0))\n",
    "                self.X.append(data)\n",
    "            \n",
    "            for tags in list_of_tags[:-test_size]:\n",
    "                data = []\n",
    "                for word in tags:\n",
    "                    data.append(pos2idx.get(word, 0))\n",
    "                self.y.append(data)\n",
    "        else:\n",
    "            for sent in list_of_sent[-test_size:]:\n",
    "                data = []\n",
    "                for word in sent:\n",
    "                    data.append(word2idx.get(word, 0))\n",
    "                self.X.append(data)\n",
    "                \n",
    "            for tags in list_of_tags[-test_size:]:\n",
    "                data = []\n",
    "                for word in tags:\n",
    "                    data.append(pos2idx.get(word, 0))\n",
    "                self.y.append(data)\n",
    "            \n",
    "    def __len__(self):\n",
    "        return len(self.y)\n",
    "    \n",
    "    def __getitem__(self, idx):\n",
    "        return torch.Tensor(self.X[idx]), torch.Tensor(self.y[idx])"
   ]
  },
  {
   "cell_type": "code",
   "execution_count": 306,
   "id": "e9c07a26",
   "metadata": {
    "ExecuteTime": {
     "end_time": "2024-04-09T15:00:40.831600Z",
     "start_time": "2024-04-09T15:00:40.823448Z"
    }
   },
   "outputs": [],
   "source": [
    "def collate_fn(data):\n",
    "    X, Y = [], []\n",
    "    for x, y in data:\n",
    "        X.append(x)\n",
    "        Y.append(y)\n",
    "    x_batch = torch.zeros((len(X), max(list(map(len, X)))), dtype=torch.long)\n",
    "    y_batch = torch.zeros((len(Y), max(list(map(len, Y)))), dtype=torch.long)\n",
    "    \n",
    "    for i, sent in enumerate(X):\n",
    "        x_batch[i, :len(sent)] = sent\n",
    "\n",
    "    for i, sent in enumerate(Y):\n",
    "        y_batch[i, :len(sent)] = sent\n",
    "        \n",
    "    return x_batch, y_batch"
   ]
  },
  {
   "cell_type": "code",
   "execution_count": 327,
   "id": "8beb9569",
   "metadata": {
    "ExecuteTime": {
     "end_time": "2024-04-09T23:29:14.138794Z",
     "start_time": "2024-04-09T23:29:14.077147Z"
    }
   },
   "outputs": [],
   "source": [
    "def check(batch_size, dataset, model, loss_function, idx2word, idx2pos):\n",
    "    \n",
    "    model.eval()\n",
    "    \n",
    "    batch_generator = torch.utils.data.DataLoader(dataset=dataset, batch_size=batch_size, collate_fn=collate_fn)\n",
    "            \n",
    "    test_acc = 0\n",
    "    test_loss = 0\n",
    "    count = 0\n",
    "    for it, (x_batch, y_batch) in enumerate(batch_generator):\n",
    "        x_batch = x_batch.to(model.device)\n",
    "        y_batch = y_batch.to(model.device)\n",
    "                \n",
    "        mask = (y_batch != 0)\n",
    "        count += mask.sum()\n",
    "                \n",
    "        output = model(x_batch)\n",
    "\n",
    "        test_loss += loss_function(output.transpose(1,2), y_batch).cpu().item()*len(x_batch)\n",
    "        test_acc += (torch.argmax(output, dim=-1).cpu() == y_batch)[mask].sum().item()\n",
    "            \n",
    "    test_loss /= len(dataset)\n",
    "    test_acc /= count\n",
    "\n",
    "    print(f'loss: {test_loss}, acc: {test_acc}')\n",
    "    \n",
    "    dataloader = torch.utils.data.DataLoader(dataset=dataset, batch_size=batch_size, shuffle=True, collate_fn=collate_fn)\n",
    "    \n",
    "    x, y = next(iter(dataloader))\n",
    "    x = x.to(device)\n",
    "    y = y.to(device)\n",
    "\n",
    "    outputs = model(x)\n",
    "    \n",
    "    one_x = x[0].cpu().numpy()\n",
    "    one_y = y[0].cpu().numpy()\n",
    "    one_output = outputs[0].argmax(dim=-1).cpu().numpy()\n",
    "\n",
    "    words = [idx2word[idx] for idx in one_x]\n",
    "    true_tags = [idx2pos[idx] for idx in one_y]\n",
    "    pred_tags = [idx2pos[idx] for idx in one_output]\n",
    "\n",
    "    table = PrettyTable([\"Word\", \"True tag\", \"Predicted tag\"])\n",
    "    table.align[\"Word\"], table.align[\"True tag\"], table.align[\"Predicted tag\"] = \"l\", \"l\", \"l\"\n",
    "\n",
    "    for word, true_tag, pred_tag in zip(words, true_tags, pred_tags):\n",
    "        if word != idx2word[word2idx['<PAD>']]:\n",
    "            table.add_row([word, true_tag, pred_tag])\n",
    "\n",
    "    print(table)\n",
    "\n",
    "    return test_loss, test_acc"
   ]
  },
  {
   "cell_type": "code",
   "execution_count": 308,
   "id": "d1a7963c",
   "metadata": {
    "ExecuteTime": {
     "end_time": "2024-04-09T15:00:41.569868Z",
     "start_time": "2024-04-09T15:00:41.563524Z"
    }
   },
   "outputs": [],
   "source": [
    "def train_on_batch(model, x_batch, y_batch, optimizer, loss_function):\n",
    "    model.train()\n",
    "    model.zero_grad()\n",
    "    \n",
    "    output = model(x_batch.to(device))\n",
    "    \n",
    "    loss = loss_function(output.transpose(1, 2), y_batch.to(device))\n",
    "    loss.backward()\n",
    "\n",
    "    optimizer.step()\n",
    "    return loss.cpu().item()"
   ]
  },
  {
   "cell_type": "code",
   "execution_count": 309,
   "id": "c37b5a74",
   "metadata": {
    "ExecuteTime": {
     "end_time": "2024-04-09T15:00:41.935427Z",
     "start_time": "2024-04-09T15:00:41.927480Z"
    }
   },
   "outputs": [],
   "source": [
    "def train_epoch(train_generator, model, loss_function, optimizer, callback = None):\n",
    "    epoch_loss = 0\n",
    "    total = 0\n",
    "    for it, (batch_of_x, batch_of_y) in enumerate(train_generator):\n",
    "        batch_loss = train_on_batch(model, batch_of_x.to(device), batch_of_y.to(device), optimizer, loss_function)\n",
    "        train_generator.set_postfix({'train batch loss': batch_loss})\n",
    "        \n",
    "        if callback is not None:\n",
    "            callback(model, batch_loss)\n",
    "            \n",
    "        epoch_loss += batch_loss*len(batch_of_x)\n",
    "        total += len(batch_of_x)\n",
    "    \n",
    "    return epoch_loss/total"
   ]
  },
  {
   "cell_type": "code",
   "execution_count": 310,
   "id": "3f719841",
   "metadata": {
    "ExecuteTime": {
     "end_time": "2024-04-09T15:00:42.393459Z",
     "start_time": "2024-04-09T15:00:42.385479Z"
    }
   },
   "outputs": [],
   "source": [
    "def trainer(count_of_epoch, \n",
    "            batch_size, \n",
    "            dataset,\n",
    "            model, \n",
    "            loss_function,\n",
    "            optimizer,\n",
    "            lr = 0.001,\n",
    "            callback = None):\n",
    "\n",
    "    optima = optimizer(model.parameters(), lr=lr)\n",
    "    \n",
    "    iterations = tqdm(range(count_of_epoch), desc='epoch')\n",
    "    iterations.set_postfix({'train epoch loss': np.nan})\n",
    "    for it in iterations:\n",
    "        batch_generator = tqdm(\n",
    "            torch.utils.data.DataLoader(dataset=dataset, batch_size=batch_size, shuffle=True, collate_fn=collate_fn), \n",
    "            leave=False, total=len(dataset)//batch_size+(len(dataset)%batch_size> 0))\n",
    "        \n",
    "        epoch_loss = train_epoch(\n",
    "                    train_generator=batch_generator, \n",
    "                    model=model, \n",
    "                    loss_function=loss_function, \n",
    "                    optimizer=optima, \n",
    "                    callback=callback)\n",
    "        \n",
    "        iterations.set_postfix({'train epoch loss': epoch_loss})"
   ]
  },
  {
   "cell_type": "code",
   "execution_count": 311,
   "id": "ac5be17b",
   "metadata": {
    "ExecuteTime": {
     "end_time": "2024-04-09T15:00:42.791315Z",
     "start_time": "2024-04-09T15:00:42.778700Z"
    }
   },
   "outputs": [],
   "source": [
    "class callback():\n",
    "    def __init__(self, writer, dataset, loss_function, delimeter = 300, batch_size=64):\n",
    "        self.step = 0\n",
    "        self.writer = writer\n",
    "        self.delimeter = delimeter\n",
    "        self.loss_function = loss_function\n",
    "        self.batch_size = batch_size\n",
    "\n",
    "        self.dataset = dataset\n",
    "\n",
    "    def forward(self, model, loss):\n",
    "        model.eval()\n",
    "        self.step += 1\n",
    "        self.writer.add_scalar('LOSS/train', loss, self.step)\n",
    "        \n",
    "        if self.step % self.delimeter == 0:\n",
    "            \n",
    "            batch_generator = torch.utils.data.DataLoader(dataset=self.dataset, \n",
    "                                                          batch_size=self.batch_size,\n",
    "                                                          collate_fn=collate_fn)\n",
    "            \n",
    "            test_acc = 0\n",
    "            test_loss = 0\n",
    "            count = 0\n",
    "            for it, (x_batch, y_batch) in enumerate(batch_generator):\n",
    "                x_batch = x_batch.to(model.device)\n",
    "                y_batch = y_batch.to(model.device)\n",
    "                \n",
    "                mask = (y_batch != 0)\n",
    "                count += mask.sum()\n",
    "                \n",
    "                output = model(x_batch)\n",
    "\n",
    "                test_loss += self.loss_function(output.transpose(1,2), y_batch).cpu().item()*len(x_batch)\n",
    "\n",
    "                test_acc += (torch.argmax(output, dim=-1).cpu() == y_batch)[mask].sum().item()\n",
    "            \n",
    "            test_loss /= len(self.dataset)\n",
    "            test_acc /= count\n",
    "\n",
    "            print(f\"\\t step={self.step}, train_loss={loss}, val_loss={test_loss}, val_acc={test_acc}\")\n",
    "            \n",
    "            self.writer.add_scalar('LOSS/test', test_loss, self.step)\n",
    "            self.writer.add_scalar('ACC/test', test_acc, self.step)\n",
    "          \n",
    "    def __call__(self, model, loss):\n",
    "        return self.forward(model, loss)"
   ]
  },
  {
   "cell_type": "markdown",
   "id": "dbe59b6f",
   "metadata": {},
   "source": [
    "## Модель"
   ]
  },
  {
   "cell_type": "code",
   "execution_count": 312,
   "id": "cd16df4f",
   "metadata": {
    "ExecuteTime": {
     "end_time": "2024-04-09T15:00:43.789459Z",
     "start_time": "2024-04-09T15:00:43.782818Z"
    }
   },
   "outputs": [],
   "source": [
    "class LSTM(torch.nn.Module):\n",
    "    @property\n",
    "    def device(self):\n",
    "        return next(self.parameters()).device\n",
    "        \n",
    "    def __init__(self,\n",
    "                 vocab_dim,\n",
    "                 output_dim = 18,\n",
    "                 emb_dim = 10, \n",
    "                 hidden_dim = 10,\n",
    "                 num_layers = 3,\n",
    "                 dropout = 0,\n",
    "                 batch_norm = False,\n",
    "                 bidirectional = False):\n",
    "        super(LSTM, self).__init__()\n",
    "        \n",
    "        self.embedding = torch.nn.Embedding(vocab_dim, emb_dim, padding_idx=0)\n",
    "        self.encoder = torch.nn.LSTM(emb_dim, hidden_dim, num_layers, bidirectional = bidirectional, batch_first=True)\n",
    "        if batchnorm:\n",
    "            self.batch_norm = torch.nn.BatchNorm1d(hidden_dim)\n",
    "        else:\n",
    "            self.batch_norm = None\n",
    "        self.dropout = torch.nn.Dropout(p=dropout)\n",
    "        self.linear = torch.nn.Linear(hidden_dim, output_dim)\n",
    "        \n",
    "    def forward(self, input):\n",
    "        out = self.embedding(input)\n",
    "        out, _ = self.encoder(out)\n",
    "        if self.batch_norm is not None:\n",
    "            out = self.batch_norm(out.transpose(1, 2)).transpose(1, 2)\n",
    "        out = self.dropout(out)\n",
    "        out = self.linear(out)\n",
    "        return out"
   ]
  },
  {
   "cell_type": "markdown",
   "id": "e62d97fc",
   "metadata": {},
   "source": [
    "## Подключим tensorboard"
   ]
  },
  {
   "cell_type": "code",
   "execution_count": 313,
   "id": "0f3bc133",
   "metadata": {
    "ExecuteTime": {
     "end_time": "2024-04-09T15:00:46.169504Z",
     "start_time": "2024-04-09T15:00:45.108923Z"
    }
   },
   "outputs": [
    {
     "data": {
      "text/html": [
       "\n",
       "      <iframe id=\"tensorboard-frame-40c35179e1be4654\" width=\"100%\" height=\"800\" frameborder=\"0\">\n",
       "      </iframe>\n",
       "      <script>\n",
       "        (function() {\n",
       "          const frame = document.getElementById(\"tensorboard-frame-40c35179e1be4654\");\n",
       "          const url = new URL(\"/\", window.location);\n",
       "          const port = 6007;\n",
       "          if (port) {\n",
       "            url.port = port;\n",
       "          }\n",
       "          frame.src = url;\n",
       "        })();\n",
       "      </script>\n",
       "    "
      ],
      "text/plain": [
       "<IPython.core.display.HTML object>"
      ]
     },
     "metadata": {},
     "output_type": "display_data"
    }
   ],
   "source": [
    "%load_ext tensorboard\n",
    "%tensorboard --logdir tensorboard_2/"
   ]
  },
  {
   "cell_type": "markdown",
   "id": "8cd2e85f",
   "metadata": {},
   "source": [
    "## Обработка данных"
   ]
  },
  {
   "cell_type": "code",
   "execution_count": 314,
   "id": "ed5efbe8",
   "metadata": {
    "ExecuteTime": {
     "end_time": "2024-04-09T15:00:48.439282Z",
     "start_time": "2024-04-09T15:00:48.435339Z"
    }
   },
   "outputs": [],
   "source": [
    "docs = load_nerus(\"nerus_lenta.conllu.gz\")"
   ]
  },
  {
   "cell_type": "code",
   "execution_count": 315,
   "id": "bc3722f5",
   "metadata": {
    "ExecuteTime": {
     "end_time": "2024-04-09T15:00:53.570567Z",
     "start_time": "2024-04-09T15:00:49.321877Z"
    },
    "scrolled": true
   },
   "outputs": [
    {
     "data": {
      "application/vnd.jupyter.widget-view+json": {
       "model_id": "7e4c8dae4248454e9cab1918daa12fff",
       "version_major": 2,
       "version_minor": 0
      },
      "text/plain": [
       "0it [00:00, ?it/s]"
      ]
     },
     "metadata": {},
     "output_type": "display_data"
    }
   ],
   "source": [
    "list_of_sent, list_of_tags = get_sent_tags(docs, 10000)"
   ]
  },
  {
   "cell_type": "code",
   "execution_count": 316,
   "id": "7a65bbcd",
   "metadata": {
    "ExecuteTime": {
     "end_time": "2024-04-09T15:00:53.581791Z",
     "start_time": "2024-04-09T15:00:53.571578Z"
    }
   },
   "outputs": [],
   "source": [
    "pos2idx, idx2pos = pos_dict(list_of_tags)"
   ]
  },
  {
   "cell_type": "code",
   "execution_count": 317,
   "id": "fe3c0588",
   "metadata": {
    "ExecuteTime": {
     "end_time": "2024-04-09T15:00:53.598696Z",
     "start_time": "2024-04-09T15:00:53.582630Z"
    }
   },
   "outputs": [],
   "source": [
    "word2idx, idx2word = word_dict(list_of_sent)"
   ]
  },
  {
   "cell_type": "code",
   "execution_count": 318,
   "id": "3eedbc83",
   "metadata": {
    "ExecuteTime": {
     "end_time": "2024-04-09T15:00:53.626459Z",
     "start_time": "2024-04-09T15:00:53.599959Z"
    }
   },
   "outputs": [],
   "source": [
    "train_data = NerusDataset(list_of_sent, list_of_tags, word2idx, pos2idx, train=True)\n",
    "test_data = NerusDataset(list_of_sent, list_of_tags, word2idx, pos2idx, train=False)"
   ]
  },
  {
   "cell_type": "markdown",
   "id": "c3c07d4a",
   "metadata": {},
   "source": [
    "## Обучение"
   ]
  },
  {
   "cell_type": "code",
   "execution_count": 319,
   "id": "19c69929",
   "metadata": {
    "ExecuteTime": {
     "end_time": "2024-04-09T15:00:53.628608Z",
     "start_time": "2024-04-09T15:00:53.627189Z"
    }
   },
   "outputs": [],
   "source": [
    "loss_function = torch.nn.CrossEntropyLoss(ignore_index=0)\n",
    "optimizer = torch.optim.Adam"
   ]
  },
  {
   "cell_type": "code",
   "execution_count": 320,
   "id": "1b147e84",
   "metadata": {
    "ExecuteTime": {
     "end_time": "2024-04-09T15:00:53.630835Z",
     "start_time": "2024-04-09T15:00:53.629305Z"
    }
   },
   "outputs": [],
   "source": [
    "dim_list = [10, 20, 30]\n",
    "num_layers_list = [3, 5, 7, 9]\n",
    "dropout_list = [0, 0.3, 0.5]\n",
    "batch_norm_list = [False, True]\n",
    "len_dict_list = [50000, 100000, 150000]"
   ]
  },
  {
   "cell_type": "code",
   "execution_count": 321,
   "id": "5bcc461a",
   "metadata": {
    "ExecuteTime": {
     "end_time": "2024-04-09T15:04:21.360692Z",
     "start_time": "2024-04-09T15:02:58.721894Z"
    },
    "scrolled": true
   },
   "outputs": [
    {
     "name": "stdout",
     "output_type": "stream",
     "text": [
      "dim = 10\n",
      "loss: 2.943786954879761, acc: 0.022016221657395363\n",
      "+------------+----------+---------------+\n",
      "| Word       | True tag | Predicted tag |\n",
      "+------------+----------+---------------+\n",
      "| В          | ADP      | ADV           |\n",
      "| нем        | PRON     | ADV           |\n",
      "| они        | PRON     | ADV           |\n",
      "| опровергли | VERB     | ADV           |\n",
      "| информацию | NOUN     | ADV           |\n",
      "| о          | ADP      | ADV           |\n",
      "| связи      | NOUN     | ADV           |\n",
      "| с          | ADP      | ADV           |\n",
      "| российской | ADJ      | ADV           |\n",
      "| разведкой  | NOUN     | ADV           |\n",
      "| и          | CCONJ    | ADV           |\n",
      "| утверждали | VERB     | ADV           |\n",
      "| ,          | PUNCT    | ADV           |\n",
      "| что        | SCONJ    | ADV           |\n",
      "| с          | ADP      | ADV           |\n",
      "| визитом    | NOUN     | ADV           |\n",
      "| и          | CCONJ    | ADV           |\n",
      "| собирались | VERB     | ADV           |\n",
      "| посмотреть | VERB     | ADV           |\n",
      "| на         | ADP      | ADV           |\n",
      "| местный    | ADJ      | ADV           |\n",
      "| собор      | NOUN     | ADV           |\n",
      "| .          | PUNCT    | ADV           |\n",
      "+------------+----------+---------------+\n"
     ]
    },
    {
     "data": {
      "application/vnd.jupyter.widget-view+json": {
       "model_id": "b89fd98062954902a07dd0c7800dcc0a",
       "version_major": 2,
       "version_minor": 0
      },
      "text/plain": [
       "epoch:   0%|          | 0/10 [00:00<?, ?it/s]"
      ]
     },
     "metadata": {},
     "output_type": "display_data"
    },
    {
     "data": {
      "application/vnd.jupyter.widget-view+json": {
       "model_id": "",
       "version_major": 2,
       "version_minor": 0
      },
      "text/plain": [
       "  0%|          | 0/155 [00:00<?, ?it/s]"
      ]
     },
     "metadata": {},
     "output_type": "display_data"
    },
    {
     "data": {
      "application/vnd.jupyter.widget-view+json": {
       "model_id": "",
       "version_major": 2,
       "version_minor": 0
      },
      "text/plain": [
       "  0%|          | 0/155 [00:00<?, ?it/s]"
      ]
     },
     "metadata": {},
     "output_type": "display_data"
    },
    {
     "name": "stdout",
     "output_type": "stream",
     "text": [
      "\t step=300, train_loss=2.168388605117798, val_loss=2.2419653129577637, val_acc=0.2665121555328369\n"
     ]
    },
    {
     "data": {
      "application/vnd.jupyter.widget-view+json": {
       "model_id": "",
       "version_major": 2,
       "version_minor": 0
      },
      "text/plain": [
       "  0%|          | 0/155 [00:00<?, ?it/s]"
      ]
     },
     "metadata": {},
     "output_type": "display_data"
    },
    {
     "data": {
      "application/vnd.jupyter.widget-view+json": {
       "model_id": "",
       "version_major": 2,
       "version_minor": 0
      },
      "text/plain": [
       "  0%|          | 0/155 [00:00<?, ?it/s]"
      ]
     },
     "metadata": {},
     "output_type": "display_data"
    },
    {
     "name": "stdout",
     "output_type": "stream",
     "text": [
      "\t step=600, train_loss=2.192312240600586, val_loss=2.2246517753601074, val_acc=0.2885283827781677\n"
     ]
    },
    {
     "data": {
      "application/vnd.jupyter.widget-view+json": {
       "model_id": "",
       "version_major": 2,
       "version_minor": 0
      },
      "text/plain": [
       "  0%|          | 0/155 [00:00<?, ?it/s]"
      ]
     },
     "metadata": {},
     "output_type": "display_data"
    },
    {
     "data": {
      "application/vnd.jupyter.widget-view+json": {
       "model_id": "",
       "version_major": 2,
       "version_minor": 0
      },
      "text/plain": [
       "  0%|          | 0/155 [00:00<?, ?it/s]"
      ]
     },
     "metadata": {},
     "output_type": "display_data"
    },
    {
     "name": "stdout",
     "output_type": "stream",
     "text": [
      "\t step=900, train_loss=2.150078058242798, val_loss=2.1914392280578614, val_acc=0.2891077697277069\n"
     ]
    },
    {
     "data": {
      "application/vnd.jupyter.widget-view+json": {
       "model_id": "",
       "version_major": 2,
       "version_minor": 0
      },
      "text/plain": [
       "  0%|          | 0/155 [00:00<?, ?it/s]"
      ]
     },
     "metadata": {},
     "output_type": "display_data"
    },
    {
     "data": {
      "application/vnd.jupyter.widget-view+json": {
       "model_id": "",
       "version_major": 2,
       "version_minor": 0
      },
      "text/plain": [
       "  0%|          | 0/155 [00:00<?, ?it/s]"
      ]
     },
     "metadata": {},
     "output_type": "display_data"
    },
    {
     "name": "stdout",
     "output_type": "stream",
     "text": [
      "\t step=1200, train_loss=1.6692229509353638, val_loss=1.6657492542266845, val_acc=0.4548088014125824\n"
     ]
    },
    {
     "data": {
      "application/vnd.jupyter.widget-view+json": {
       "model_id": "",
       "version_major": 2,
       "version_minor": 0
      },
      "text/plain": [
       "  0%|          | 0/155 [00:00<?, ?it/s]"
      ]
     },
     "metadata": {},
     "output_type": "display_data"
    },
    {
     "data": {
      "application/vnd.jupyter.widget-view+json": {
       "model_id": "",
       "version_major": 2,
       "version_minor": 0
      },
      "text/plain": [
       "  0%|          | 0/155 [00:00<?, ?it/s]"
      ]
     },
     "metadata": {},
     "output_type": "display_data"
    },
    {
     "name": "stdout",
     "output_type": "stream",
     "text": [
      "\t step=1500, train_loss=1.3005439043045044, val_loss=1.3656794786453248, val_acc=0.5330243110656738\n",
      "loss: 1.3201122999191284, acc: 0.5643105506896973\n",
      "+------------+----------+---------------+\n",
      "| Word       | True tag | Predicted tag |\n",
      "+------------+----------+---------------+\n",
      "| По         | ADP      | ADP           |\n",
      "| их         | DET      | PRON          |\n",
      "| заявлениям | NOUN     | VERB          |\n",
      "| ,          | PUNCT    | PUNCT         |\n",
      "| твит       | NOUN     | VERB          |\n",
      "| Маска      | PROPN    | VERB          |\n",
      "| принес     | VERB     | NOUN          |\n",
      "| им         | PRON     | VERB          |\n",
      "| убыток     | NOUN     | VERB          |\n",
      "| .          | PUNCT    | PUNCT         |\n",
      "+------------+----------+---------------+\n",
      "dim = 20\n",
      "loss: 2.967445316314697, acc: 0.010428736917674541\n",
      "+-----------------+----------+---------------+\n",
      "| Word            | True tag | Predicted tag |\n",
      "+-----------------+----------+---------------+\n",
      "| По              | ADP      | PART          |\n",
      "| предварительной | ADJ      | PART          |\n",
      "| версии          | NOUN     | PART          |\n",
      "| ,               | PUNCT    | PART          |\n",
      "| водитель        | NOUN     | PART          |\n",
      "| не              | PART     | PART          |\n",
      "| справился       | VERB     | PART          |\n",
      "| с               | ADP      | PART          |\n",
      "| управлением     | NOUN     | PART          |\n",
      "| .               | PUNCT    | PART          |\n",
      "+-----------------+----------+---------------+\n"
     ]
    },
    {
     "data": {
      "application/vnd.jupyter.widget-view+json": {
       "model_id": "df7f1b9e02b04569b5029901934ad7d6",
       "version_major": 2,
       "version_minor": 0
      },
      "text/plain": [
       "epoch:   0%|          | 0/10 [00:00<?, ?it/s]"
      ]
     },
     "metadata": {},
     "output_type": "display_data"
    },
    {
     "data": {
      "application/vnd.jupyter.widget-view+json": {
       "model_id": "",
       "version_major": 2,
       "version_minor": 0
      },
      "text/plain": [
       "  0%|          | 0/155 [00:00<?, ?it/s]"
      ]
     },
     "metadata": {},
     "output_type": "display_data"
    },
    {
     "data": {
      "application/vnd.jupyter.widget-view+json": {
       "model_id": "",
       "version_major": 2,
       "version_minor": 0
      },
      "text/plain": [
       "  0%|          | 0/155 [00:00<?, ?it/s]"
      ]
     },
     "metadata": {},
     "output_type": "display_data"
    },
    {
     "name": "stdout",
     "output_type": "stream",
     "text": [
      "\t step=300, train_loss=2.1371102333068848, val_loss=2.1378755283355715, val_acc=0.37833139300346375\n"
     ]
    },
    {
     "data": {
      "application/vnd.jupyter.widget-view+json": {
       "model_id": "",
       "version_major": 2,
       "version_minor": 0
      },
      "text/plain": [
       "  0%|          | 0/155 [00:00<?, ?it/s]"
      ]
     },
     "metadata": {},
     "output_type": "display_data"
    },
    {
     "data": {
      "application/vnd.jupyter.widget-view+json": {
       "model_id": "",
       "version_major": 2,
       "version_minor": 0
      },
      "text/plain": [
       "  0%|          | 0/155 [00:00<?, ?it/s]"
      ]
     },
     "metadata": {},
     "output_type": "display_data"
    },
    {
     "name": "stdout",
     "output_type": "stream",
     "text": [
      "\t step=600, train_loss=1.642945647239685, val_loss=1.6544002532958983, val_acc=0.4258400797843933\n"
     ]
    },
    {
     "data": {
      "application/vnd.jupyter.widget-view+json": {
       "model_id": "",
       "version_major": 2,
       "version_minor": 0
      },
      "text/plain": [
       "  0%|          | 0/155 [00:00<?, ?it/s]"
      ]
     },
     "metadata": {},
     "output_type": "display_data"
    },
    {
     "data": {
      "application/vnd.jupyter.widget-view+json": {
       "model_id": "",
       "version_major": 2,
       "version_minor": 0
      },
      "text/plain": [
       "  0%|          | 0/155 [00:00<?, ?it/s]"
      ]
     },
     "metadata": {},
     "output_type": "display_data"
    },
    {
     "name": "stdout",
     "output_type": "stream",
     "text": [
      "\t step=900, train_loss=1.2439254522323608, val_loss=1.297070050239563, val_acc=0.5202780961990356\n"
     ]
    },
    {
     "data": {
      "application/vnd.jupyter.widget-view+json": {
       "model_id": "",
       "version_major": 2,
       "version_minor": 0
      },
      "text/plain": [
       "  0%|          | 0/155 [00:00<?, ?it/s]"
      ]
     },
     "metadata": {},
     "output_type": "display_data"
    },
    {
     "data": {
      "application/vnd.jupyter.widget-view+json": {
       "model_id": "",
       "version_major": 2,
       "version_minor": 0
      },
      "text/plain": [
       "  0%|          | 0/155 [00:00<?, ?it/s]"
      ]
     },
     "metadata": {},
     "output_type": "display_data"
    },
    {
     "name": "stdout",
     "output_type": "stream",
     "text": [
      "\t step=1200, train_loss=0.9636591672897339, val_loss=0.9738593149185181, val_acc=0.692931592464447\n"
     ]
    },
    {
     "data": {
      "application/vnd.jupyter.widget-view+json": {
       "model_id": "",
       "version_major": 2,
       "version_minor": 0
      },
      "text/plain": [
       "  0%|          | 0/155 [00:00<?, ?it/s]"
      ]
     },
     "metadata": {},
     "output_type": "display_data"
    },
    {
     "data": {
      "application/vnd.jupyter.widget-view+json": {
       "model_id": "",
       "version_major": 2,
       "version_minor": 0
      },
      "text/plain": [
       "  0%|          | 0/155 [00:00<?, ?it/s]"
      ]
     },
     "metadata": {},
     "output_type": "display_data"
    },
    {
     "name": "stdout",
     "output_type": "stream",
     "text": [
      "\t step=1500, train_loss=0.8070133328437805, val_loss=0.8439490795135498, val_acc=0.7219003438949585\n",
      "loss: 0.8280075001716614, acc: 0.725376546382904\n",
      "+---------+----------+---------------+\n",
      "| Word    | True tag | Predicted tag |\n",
      "+---------+----------+---------------+\n",
      "| В       | ADP      | ADP           |\n",
      "| ответ   | NOUN     | NOUN          |\n",
      "| он      | PRON     | PRON          |\n",
      "| :       | PUNCT    | PUNCT         |\n",
      "| «       | PUNCT    | PUNCT         |\n",
      "| быть    | AUX      | CCONJ         |\n",
      "| не      | PART     | CCONJ         |\n",
      "| стыдно  | ADV      | VERB          |\n",
      "| ,       | PUNCT    | PUNCT         |\n",
      "| стыдно  | ADV      | VERB          |\n",
      "| быть    | AUX      | CCONJ         |\n",
      "| дешевым | ADJ      | VERB          |\n",
      "| »       | PUNCT    | PUNCT         |\n",
      "| .       | PUNCT    | PUNCT         |\n",
      "+---------+----------+---------------+\n",
      "dim = 30\n",
      "loss: 2.880441274642944, acc: 0.010428736917674541\n",
      "+---------------+----------+---------------+\n",
      "| Word          | True tag | Predicted tag |\n",
      "+---------------+----------+---------------+\n",
      "| Ученые        | NOUN     | PART          |\n",
      "| полагают      | VERB     | PART          |\n",
      "| ,             | PUNCT    | PART          |\n",
      "| что           | SCONJ    | PART          |\n",
      "| в             | ADP      | PART          |\n",
      "| случае        | NOUN     | PART          |\n",
      "| J             | NOUN     | PART          |\n",
      "| +             | SYM      | PART          |\n",
      "| формируются   | VERB     | PART          |\n",
      "| из-за         | ADP      | PART          |\n",
      "| большого      | ADJ      | PART          |\n",
      "| количества    | NOUN     | PART          |\n",
      "| энергии       | NOUN     | PART          |\n",
      "| диска         | NOUN     | PART          |\n",
      "| ,             | PUNCT    | PART          |\n",
      "| однако        | ADV      | PART          |\n",
      "| это           | DET      | PART          |\n",
      "| предположение | NOUN     | PART          |\n",
      "| предстоит     | VERB     | PART          |\n",
      "| проверить     | VERB     | PART          |\n",
      "| .             | PUNCT    | PART          |\n",
      "+---------------+----------+---------------+\n"
     ]
    },
    {
     "data": {
      "application/vnd.jupyter.widget-view+json": {
       "model_id": "bd4b963d30594752ba4ca2692258174a",
       "version_major": 2,
       "version_minor": 0
      },
      "text/plain": [
       "epoch:   0%|          | 0/10 [00:00<?, ?it/s]"
      ]
     },
     "metadata": {},
     "output_type": "display_data"
    },
    {
     "data": {
      "application/vnd.jupyter.widget-view+json": {
       "model_id": "",
       "version_major": 2,
       "version_minor": 0
      },
      "text/plain": [
       "  0%|          | 0/155 [00:00<?, ?it/s]"
      ]
     },
     "metadata": {},
     "output_type": "display_data"
    },
    {
     "data": {
      "application/vnd.jupyter.widget-view+json": {
       "model_id": "",
       "version_major": 2,
       "version_minor": 0
      },
      "text/plain": [
       "  0%|          | 0/155 [00:00<?, ?it/s]"
      ]
     },
     "metadata": {},
     "output_type": "display_data"
    },
    {
     "name": "stdout",
     "output_type": "stream",
     "text": [
      "\t step=300, train_loss=1.7502983808517456, val_loss=1.8108046531677247, val_acc=0.4889918863773346\n"
     ]
    },
    {
     "data": {
      "application/vnd.jupyter.widget-view+json": {
       "model_id": "",
       "version_major": 2,
       "version_minor": 0
      },
      "text/plain": [
       "  0%|          | 0/155 [00:00<?, ?it/s]"
      ]
     },
     "metadata": {},
     "output_type": "display_data"
    },
    {
     "data": {
      "application/vnd.jupyter.widget-view+json": {
       "model_id": "",
       "version_major": 2,
       "version_minor": 0
      },
      "text/plain": [
       "  0%|          | 0/155 [00:00<?, ?it/s]"
      ]
     },
     "metadata": {},
     "output_type": "display_data"
    },
    {
     "name": "stdout",
     "output_type": "stream",
     "text": [
      "\t step=600, train_loss=1.2603060007095337, val_loss=1.2261375284194946, val_acc=0.6066048741340637\n"
     ]
    },
    {
     "data": {
      "application/vnd.jupyter.widget-view+json": {
       "model_id": "",
       "version_major": 2,
       "version_minor": 0
      },
      "text/plain": [
       "  0%|          | 0/155 [00:00<?, ?it/s]"
      ]
     },
     "metadata": {},
     "output_type": "display_data"
    },
    {
     "data": {
      "application/vnd.jupyter.widget-view+json": {
       "model_id": "",
       "version_major": 2,
       "version_minor": 0
      },
      "text/plain": [
       "  0%|          | 0/155 [00:00<?, ?it/s]"
      ]
     },
     "metadata": {},
     "output_type": "display_data"
    },
    {
     "name": "stdout",
     "output_type": "stream",
     "text": [
      "\t step=900, train_loss=0.9872215986251831, val_loss=0.981963210105896, val_acc=0.6865584850311279\n"
     ]
    },
    {
     "data": {
      "application/vnd.jupyter.widget-view+json": {
       "model_id": "",
       "version_major": 2,
       "version_minor": 0
      },
      "text/plain": [
       "  0%|          | 0/155 [00:00<?, ?it/s]"
      ]
     },
     "metadata": {},
     "output_type": "display_data"
    },
    {
     "data": {
      "application/vnd.jupyter.widget-view+json": {
       "model_id": "",
       "version_major": 2,
       "version_minor": 0
      },
      "text/plain": [
       "  0%|          | 0/155 [00:00<?, ?it/s]"
      ]
     },
     "metadata": {},
     "output_type": "display_data"
    },
    {
     "name": "stdout",
     "output_type": "stream",
     "text": [
      "\t step=1200, train_loss=0.6944470405578613, val_loss=0.7773849034309387, val_acc=0.740440309047699\n"
     ]
    },
    {
     "data": {
      "application/vnd.jupyter.widget-view+json": {
       "model_id": "",
       "version_major": 2,
       "version_minor": 0
      },
      "text/plain": [
       "  0%|          | 0/155 [00:00<?, ?it/s]"
      ]
     },
     "metadata": {},
     "output_type": "display_data"
    },
    {
     "data": {
      "application/vnd.jupyter.widget-view+json": {
       "model_id": "",
       "version_major": 2,
       "version_minor": 0
      },
      "text/plain": [
       "  0%|          | 0/155 [00:00<?, ?it/s]"
      ]
     },
     "metadata": {},
     "output_type": "display_data"
    },
    {
     "name": "stdout",
     "output_type": "stream",
     "text": [
      "\t step=1500, train_loss=0.544668436050415, val_loss=0.638272910118103, val_acc=0.7972189784049988\n",
      "loss: 0.6303366827964783, acc: 0.8070683479309082\n",
      "+-------------+----------+---------------+\n",
      "| Word        | True tag | Predicted tag |\n",
      "+-------------+----------+---------------+\n",
      "| Группа      | NOUN     | NOUN          |\n",
      "| вошла       | VERB     | VERB          |\n",
      "| в           | ADP      | ADP           |\n",
      "| Зал         | PROPN    | ADJ           |\n",
      "| славы       | NOUN     | NOUN          |\n",
      "| рок-н-ролла | NOUN     | NOUN          |\n",
      "| в           | ADP      | ADP           |\n",
      "| 1996        | ADJ      | ADJ           |\n",
      "| году        | NOUN     | NOUN          |\n",
      "| .           | PUNCT    | PUNCT         |\n",
      "+-------------+----------+---------------+\n"
     ]
    }
   ],
   "source": [
    "for dim in dim_list:\n",
    "    print(f'dim = {dim}')\n",
    "    \n",
    "    model = LSTM(vocab_dim=len(word2idx), emb_dim=dim, hidden_dim=dim, output_dim=len(pos2idx))\n",
    "    model.to(device)\n",
    "    \n",
    "    writer = SummaryWriter(log_dir=f'tensorboard_2/dim_{dim}')\n",
    "    call = callback(writer, test_data, loss_function)\n",
    "    \n",
    "    check(64, test_data, model, loss_function, idx2word, idx2pos)\n",
    "    trainer(count_of_epoch=10, \n",
    "            batch_size=64, \n",
    "            dataset=train_data,\n",
    "            model=model, \n",
    "            loss_function=loss_function,\n",
    "            optimizer = optimizer,\n",
    "            callback=call)\n",
    "    check(64, test_data, model, loss_function, idx2word, idx2pos)"
   ]
  },
  {
   "cell_type": "markdown",
   "id": "253598de",
   "metadata": {},
   "source": [
    "Как мы видим - лучше всего использовать размер слоя 30."
   ]
  },
  {
   "cell_type": "code",
   "execution_count": 322,
   "id": "0702bca3",
   "metadata": {
    "ExecuteTime": {
     "end_time": "2024-04-09T15:10:24.947717Z",
     "start_time": "2024-04-09T15:07:42.853017Z"
    },
    "scrolled": true
   },
   "outputs": [
    {
     "name": "stdout",
     "output_type": "stream",
     "text": [
      "num_layers = 3\n",
      "loss: 2.7688625144958494, acc: 0.26998841762542725\n",
      "+--------------------+----------+---------------+\n",
      "| Word               | True tag | Predicted tag |\n",
      "+--------------------+----------+---------------+\n",
      "| Он                 | PRON     | NOUN          |\n",
      "| призвал            | VERB     | NOUN          |\n",
      "| бороться           | VERB     | NOUN          |\n",
      "| с                  | ADP      | NOUN          |\n",
      "| мздоимством        | NOUN     | NOUN          |\n",
      "| ,                  | PUNCT    | NOUN          |\n",
      "| нанося             | VERB     | NOUN          |\n",
      "| удары              | NOUN     | NOUN          |\n",
      "| «                  | PUNCT    | NOUN          |\n",
      "| и                  | CCONJ    | NOUN          |\n",
      "| по                 | ADP      | NOUN          |\n",
      "| тигру              | NOUN     | NOUN          |\n",
      "| ,                  | PUNCT    | NOUN          |\n",
      "| и                  | CCONJ    | NOUN          |\n",
      "| по                 | ADP      | NOUN          |\n",
      "| мухе               | NOUN     | NOUN          |\n",
      "| »                  | PUNCT    | NOUN          |\n",
      "| ,                  | PUNCT    | NOUN          |\n",
      "| то                 | PRON     | NOUN          |\n",
      "| есть               | VERB     | NOUN          |\n",
      "| не                 | PART     | NOUN          |\n",
      "| щадя               | VERB     | NOUN          |\n",
      "| ни                 | CCONJ    | NOUN          |\n",
      "| мелких             | ADJ      | NOUN          |\n",
      "| ,                  | PUNCT    | NOUN          |\n",
      "| ни                 | CCONJ    | NOUN          |\n",
      "| высокопоставленных | ADJ      | NOUN          |\n",
      "| чиновников         | NOUN     | NOUN          |\n",
      "| .                  | PUNCT    | NOUN          |\n",
      "+--------------------+----------+---------------+\n"
     ]
    },
    {
     "data": {
      "application/vnd.jupyter.widget-view+json": {
       "model_id": "c5452cb7ad5b49a182867d4003bed32c",
       "version_major": 2,
       "version_minor": 0
      },
      "text/plain": [
       "epoch:   0%|          | 0/10 [00:00<?, ?it/s]"
      ]
     },
     "metadata": {},
     "output_type": "display_data"
    },
    {
     "data": {
      "application/vnd.jupyter.widget-view+json": {
       "model_id": "",
       "version_major": 2,
       "version_minor": 0
      },
      "text/plain": [
       "  0%|          | 0/155 [00:00<?, ?it/s]"
      ]
     },
     "metadata": {},
     "output_type": "display_data"
    },
    {
     "data": {
      "application/vnd.jupyter.widget-view+json": {
       "model_id": "",
       "version_major": 2,
       "version_minor": 0
      },
      "text/plain": [
       "  0%|          | 0/155 [00:00<?, ?it/s]"
      ]
     },
     "metadata": {},
     "output_type": "display_data"
    },
    {
     "name": "stdout",
     "output_type": "stream",
     "text": [
      "\t step=300, train_loss=2.179889440536499, val_loss=2.2437978076934812, val_acc=0.26998841762542725\n"
     ]
    },
    {
     "data": {
      "application/vnd.jupyter.widget-view+json": {
       "model_id": "",
       "version_major": 2,
       "version_minor": 0
      },
      "text/plain": [
       "  0%|          | 0/155 [00:00<?, ?it/s]"
      ]
     },
     "metadata": {},
     "output_type": "display_data"
    },
    {
     "data": {
      "application/vnd.jupyter.widget-view+json": {
       "model_id": "",
       "version_major": 2,
       "version_minor": 0
      },
      "text/plain": [
       "  0%|          | 0/155 [00:00<?, ?it/s]"
      ]
     },
     "metadata": {},
     "output_type": "display_data"
    },
    {
     "name": "stdout",
     "output_type": "stream",
     "text": [
      "\t step=600, train_loss=2.1469616889953613, val_loss=2.222812490463257, val_acc=0.26998841762542725\n"
     ]
    },
    {
     "data": {
      "application/vnd.jupyter.widget-view+json": {
       "model_id": "",
       "version_major": 2,
       "version_minor": 0
      },
      "text/plain": [
       "  0%|          | 0/155 [00:00<?, ?it/s]"
      ]
     },
     "metadata": {},
     "output_type": "display_data"
    },
    {
     "data": {
      "application/vnd.jupyter.widget-view+json": {
       "model_id": "",
       "version_major": 2,
       "version_minor": 0
      },
      "text/plain": [
       "  0%|          | 0/155 [00:00<?, ?it/s]"
      ]
     },
     "metadata": {},
     "output_type": "display_data"
    },
    {
     "name": "stdout",
     "output_type": "stream",
     "text": [
      "\t step=900, train_loss=2.1240622997283936, val_loss=2.1720971202850343, val_acc=0.272885262966156\n"
     ]
    },
    {
     "data": {
      "application/vnd.jupyter.widget-view+json": {
       "model_id": "",
       "version_major": 2,
       "version_minor": 0
      },
      "text/plain": [
       "  0%|          | 0/155 [00:00<?, ?it/s]"
      ]
     },
     "metadata": {},
     "output_type": "display_data"
    },
    {
     "data": {
      "application/vnd.jupyter.widget-view+json": {
       "model_id": "",
       "version_major": 2,
       "version_minor": 0
      },
      "text/plain": [
       "  0%|          | 0/155 [00:00<?, ?it/s]"
      ]
     },
     "metadata": {},
     "output_type": "display_data"
    },
    {
     "name": "stdout",
     "output_type": "stream",
     "text": [
      "\t step=1200, train_loss=1.748166799545288, val_loss=1.7818132877349853, val_acc=0.44090381264686584\n"
     ]
    },
    {
     "data": {
      "application/vnd.jupyter.widget-view+json": {
       "model_id": "",
       "version_major": 2,
       "version_minor": 0
      },
      "text/plain": [
       "  0%|          | 0/155 [00:00<?, ?it/s]"
      ]
     },
     "metadata": {},
     "output_type": "display_data"
    },
    {
     "data": {
      "application/vnd.jupyter.widget-view+json": {
       "model_id": "",
       "version_major": 2,
       "version_minor": 0
      },
      "text/plain": [
       "  0%|          | 0/155 [00:00<?, ?it/s]"
      ]
     },
     "metadata": {},
     "output_type": "display_data"
    },
    {
     "name": "stdout",
     "output_type": "stream",
     "text": [
      "\t step=1500, train_loss=1.5219806432724, val_loss=1.539350953102112, val_acc=0.5504055619239807\n",
      "loss: 1.4960809230804444, acc: 0.5521436929702759\n",
      "+-------------+----------+---------------+\n",
      "| Word        | True tag | Predicted tag |\n",
      "+-------------+----------+---------------+\n",
      "| В           | ADP      | ADP           |\n",
      "| подписи     | NOUN     | NOUN          |\n",
      "| к           | ADP      | ADP           |\n",
      "| видео       | NOUN     | NOUN          |\n",
      "| упоминается | VERB     | NOUN          |\n",
      "| персонаж    | NOUN     | NOUN          |\n",
      "| —           | PUNCT    | PUNCT         |\n",
      "| из          | ADP      | ADP           |\n",
      "| серии       | NOUN     | NOUN          |\n",
      "| видеоигр    | NOUN     | NOUN          |\n",
      "| .           | PUNCT    | PUNCT         |\n",
      "+-------------+----------+---------------+\n",
      "num_layers = 5\n",
      "loss: 2.8956561279296875, acc: 0.0\n",
      "+---------------------------------+----------+---------------+\n",
      "| Word                            | True tag | Predicted tag |\n",
      "+---------------------------------+----------+---------------+\n",
      "| Каждая                          | DET      | INTJ          |\n",
      "| республика                      | NOUN     | INTJ          |\n",
      "| создала                         | VERB     | INTJ          |\n",
      "| свою                            | DET      | INTJ          |\n",
      "| комиссию                        | NOUN     | INTJ          |\n",
      "| по                              | ADP      | INTJ          |\n",
      "| определению                     | NOUN     | INTJ          |\n",
      "| территориально-административной | ADJ      | INTJ          |\n",
      "| границы                         | NOUN     | INTJ          |\n",
      "| с                               | ADP      | INTJ          |\n",
      "| соседом                         | NOUN     | INTJ          |\n",
      "| .                               | PUNCT    | INTJ          |\n",
      "+---------------------------------+----------+---------------+\n"
     ]
    },
    {
     "data": {
      "application/vnd.jupyter.widget-view+json": {
       "model_id": "4fce3f3d0aeb41aebaa8918960b51607",
       "version_major": 2,
       "version_minor": 0
      },
      "text/plain": [
       "epoch:   0%|          | 0/10 [00:00<?, ?it/s]"
      ]
     },
     "metadata": {},
     "output_type": "display_data"
    },
    {
     "data": {
      "application/vnd.jupyter.widget-view+json": {
       "model_id": "",
       "version_major": 2,
       "version_minor": 0
      },
      "text/plain": [
       "  0%|          | 0/155 [00:00<?, ?it/s]"
      ]
     },
     "metadata": {},
     "output_type": "display_data"
    },
    {
     "data": {
      "application/vnd.jupyter.widget-view+json": {
       "model_id": "",
       "version_major": 2,
       "version_minor": 0
      },
      "text/plain": [
       "  0%|          | 0/155 [00:00<?, ?it/s]"
      ]
     },
     "metadata": {},
     "output_type": "display_data"
    },
    {
     "name": "stdout",
     "output_type": "stream",
     "text": [
      "\t step=300, train_loss=2.2035202980041504, val_loss=2.2489081764221193, val_acc=0.26998841762542725\n"
     ]
    },
    {
     "data": {
      "application/vnd.jupyter.widget-view+json": {
       "model_id": "",
       "version_major": 2,
       "version_minor": 0
      },
      "text/plain": [
       "  0%|          | 0/155 [00:00<?, ?it/s]"
      ]
     },
     "metadata": {},
     "output_type": "display_data"
    },
    {
     "data": {
      "application/vnd.jupyter.widget-view+json": {
       "model_id": "",
       "version_major": 2,
       "version_minor": 0
      },
      "text/plain": [
       "  0%|          | 0/155 [00:00<?, ?it/s]"
      ]
     },
     "metadata": {},
     "output_type": "display_data"
    },
    {
     "name": "stdout",
     "output_type": "stream",
     "text": [
      "\t step=600, train_loss=2.1978530883789062, val_loss=2.22392333984375, val_acc=0.26998841762542725\n"
     ]
    },
    {
     "data": {
      "application/vnd.jupyter.widget-view+json": {
       "model_id": "",
       "version_major": 2,
       "version_minor": 0
      },
      "text/plain": [
       "  0%|          | 0/155 [00:00<?, ?it/s]"
      ]
     },
     "metadata": {},
     "output_type": "display_data"
    },
    {
     "data": {
      "application/vnd.jupyter.widget-view+json": {
       "model_id": "",
       "version_major": 2,
       "version_minor": 0
      },
      "text/plain": [
       "  0%|          | 0/155 [00:00<?, ?it/s]"
      ]
     },
     "metadata": {},
     "output_type": "display_data"
    },
    {
     "name": "stdout",
     "output_type": "stream",
     "text": [
      "\t step=900, train_loss=2.1919264793395996, val_loss=2.2092659664154053, val_acc=0.26998841762542725\n"
     ]
    },
    {
     "data": {
      "application/vnd.jupyter.widget-view+json": {
       "model_id": "",
       "version_major": 2,
       "version_minor": 0
      },
      "text/plain": [
       "  0%|          | 0/155 [00:00<?, ?it/s]"
      ]
     },
     "metadata": {},
     "output_type": "display_data"
    },
    {
     "data": {
      "application/vnd.jupyter.widget-view+json": {
       "model_id": "",
       "version_major": 2,
       "version_minor": 0
      },
      "text/plain": [
       "  0%|          | 0/155 [00:00<?, ?it/s]"
      ]
     },
     "metadata": {},
     "output_type": "display_data"
    },
    {
     "name": "stdout",
     "output_type": "stream",
     "text": [
      "\t step=1200, train_loss=2.168609619140625, val_loss=2.1984876537323, val_acc=0.2682502865791321\n"
     ]
    },
    {
     "data": {
      "application/vnd.jupyter.widget-view+json": {
       "model_id": "",
       "version_major": 2,
       "version_minor": 0
      },
      "text/plain": [
       "  0%|          | 0/155 [00:00<?, ?it/s]"
      ]
     },
     "metadata": {},
     "output_type": "display_data"
    },
    {
     "data": {
      "application/vnd.jupyter.widget-view+json": {
       "model_id": "",
       "version_major": 2,
       "version_minor": 0
      },
      "text/plain": [
       "  0%|          | 0/155 [00:00<?, ?it/s]"
      ]
     },
     "metadata": {},
     "output_type": "display_data"
    },
    {
     "name": "stdout",
     "output_type": "stream",
     "text": [
      "\t step=1500, train_loss=2.173926830291748, val_loss=2.189113063812256, val_acc=0.2885283827781677\n",
      "loss: 2.18811842918396, acc: 0.2885283827781677\n",
      "+----------------+----------+---------------+\n",
      "| Word           | True tag | Predicted tag |\n",
      "+----------------+----------+---------------+\n",
      "| За             | ADP      | ADP           |\n",
      "| день           | NOUN     | NOUN          |\n",
      "| до             | ADP      | NOUN          |\n",
      "| этого          | PRON     | NOUN          |\n",
      "| игроки         | NOUN     | NOUN          |\n",
      "| поставили      | VERB     | NOUN          |\n",
      "| в              | ADP      | NOUN          |\n",
      "| Instagram      | NOUN     | NOUN          |\n",
      "| под            | ADP      | NOUN          |\n",
      "| стихотворением | NOUN     | NOUN          |\n",
      "| актера         | NOUN     | NOUN          |\n",
      "| Дмитрия        | PROPN    | NOUN          |\n",
      "| Назарова       | PROPN    | NOUN          |\n",
      "| с              | ADP      | NOUN          |\n",
      "| критикой       | NOUN     | NOUN          |\n",
      "| наставника     | NOUN     | NOUN          |\n",
      "| .              | PUNCT    | NOUN          |\n",
      "+----------------+----------+---------------+\n",
      "num_layers = 7\n",
      "loss: 2.8317792892456053, acc: 0.03070683591067791\n",
      "+----------------+----------+---------------+\n",
      "| Word           | True tag | Predicted tag |\n",
      "+----------------+----------+---------------+\n",
      "| Но             | CCONJ    | SCONJ         |\n",
      "| такое          | DET      | SCONJ         |\n",
      "| название       | NOUN     | SCONJ         |\n",
      "| под            | ADP      | NUM           |\n",
      "| запрет         | NOUN     | NUM           |\n",
      "| по             | ADP      | NUM           |\n",
      "| украинскому    | ADJ      | NUM           |\n",
      "| закону         | NOUN     | NUM           |\n",
      "| о              | ADP      | NUM           |\n",
      "| декоммунизации | NOUN     | NUM           |\n",
      "| ,              | PUNCT    | NUM           |\n",
      "| принятому      | ADJ      | NUM           |\n",
      "| в              | ADP      | NUM           |\n",
      "| 2015           | ADJ      | NUM           |\n",
      "| году           | NOUN     | NUM           |\n",
      "| .              | PUNCT    | NUM           |\n",
      "+----------------+----------+---------------+\n"
     ]
    },
    {
     "data": {
      "application/vnd.jupyter.widget-view+json": {
       "model_id": "ffdccb95e911480da8896bbfdec7823c",
       "version_major": 2,
       "version_minor": 0
      },
      "text/plain": [
       "epoch:   0%|          | 0/10 [00:00<?, ?it/s]"
      ]
     },
     "metadata": {},
     "output_type": "display_data"
    },
    {
     "data": {
      "application/vnd.jupyter.widget-view+json": {
       "model_id": "",
       "version_major": 2,
       "version_minor": 0
      },
      "text/plain": [
       "  0%|          | 0/155 [00:00<?, ?it/s]"
      ]
     },
     "metadata": {},
     "output_type": "display_data"
    },
    {
     "data": {
      "application/vnd.jupyter.widget-view+json": {
       "model_id": "",
       "version_major": 2,
       "version_minor": 0
      },
      "text/plain": [
       "  0%|          | 0/155 [00:00<?, ?it/s]"
      ]
     },
     "metadata": {},
     "output_type": "display_data"
    },
    {
     "name": "stdout",
     "output_type": "stream",
     "text": [
      "\t step=300, train_loss=2.1824333667755127, val_loss=2.22796422958374, val_acc=0.26998841762542725\n"
     ]
    },
    {
     "data": {
      "application/vnd.jupyter.widget-view+json": {
       "model_id": "",
       "version_major": 2,
       "version_minor": 0
      },
      "text/plain": [
       "  0%|          | 0/155 [00:00<?, ?it/s]"
      ]
     },
     "metadata": {},
     "output_type": "display_data"
    },
    {
     "data": {
      "application/vnd.jupyter.widget-view+json": {
       "model_id": "",
       "version_major": 2,
       "version_minor": 0
      },
      "text/plain": [
       "  0%|          | 0/155 [00:00<?, ?it/s]"
      ]
     },
     "metadata": {},
     "output_type": "display_data"
    },
    {
     "name": "stdout",
     "output_type": "stream",
     "text": [
      "\t step=600, train_loss=2.162968635559082, val_loss=2.2077189350128172, val_acc=0.26998841762542725\n"
     ]
    },
    {
     "data": {
      "application/vnd.jupyter.widget-view+json": {
       "model_id": "",
       "version_major": 2,
       "version_minor": 0
      },
      "text/plain": [
       "  0%|          | 0/155 [00:00<?, ?it/s]"
      ]
     },
     "metadata": {},
     "output_type": "display_data"
    },
    {
     "data": {
      "application/vnd.jupyter.widget-view+json": {
       "model_id": "",
       "version_major": 2,
       "version_minor": 0
      },
      "text/plain": [
       "  0%|          | 0/155 [00:00<?, ?it/s]"
      ]
     },
     "metadata": {},
     "output_type": "display_data"
    },
    {
     "name": "stdout",
     "output_type": "stream",
     "text": [
      "\t step=900, train_loss=2.1626052856445312, val_loss=2.1993054294586183, val_acc=0.26998841762542725\n"
     ]
    },
    {
     "data": {
      "application/vnd.jupyter.widget-view+json": {
       "model_id": "",
       "version_major": 2,
       "version_minor": 0
      },
      "text/plain": [
       "  0%|          | 0/155 [00:00<?, ?it/s]"
      ]
     },
     "metadata": {},
     "output_type": "display_data"
    },
    {
     "data": {
      "application/vnd.jupyter.widget-view+json": {
       "model_id": "",
       "version_major": 2,
       "version_minor": 0
      },
      "text/plain": [
       "  0%|          | 0/155 [00:00<?, ?it/s]"
      ]
     },
     "metadata": {},
     "output_type": "display_data"
    },
    {
     "name": "stdout",
     "output_type": "stream",
     "text": [
      "\t step=1200, train_loss=2.165659189224243, val_loss=2.1894202041625976, val_acc=0.2885283827781677\n"
     ]
    },
    {
     "data": {
      "application/vnd.jupyter.widget-view+json": {
       "model_id": "",
       "version_major": 2,
       "version_minor": 0
      },
      "text/plain": [
       "  0%|          | 0/155 [00:00<?, ?it/s]"
      ]
     },
     "metadata": {},
     "output_type": "display_data"
    },
    {
     "data": {
      "application/vnd.jupyter.widget-view+json": {
       "model_id": "",
       "version_major": 2,
       "version_minor": 0
      },
      "text/plain": [
       "  0%|          | 0/155 [00:00<?, ?it/s]"
      ]
     },
     "metadata": {},
     "output_type": "display_data"
    },
    {
     "name": "stdout",
     "output_type": "stream",
     "text": [
      "\t step=1500, train_loss=2.1599009037017822, val_loss=2.1826791858673094, val_acc=0.2885283827781677\n",
      "loss: 2.1845289993286134, acc: 0.2885283827781677\n",
      "+-----------+----------+---------------+\n",
      "| Word      | True tag | Predicted tag |\n",
      "+-----------+----------+---------------+\n",
      "| Они       | PRON     | ADP           |\n",
      "| готовы    | ADJ      | NOUN          |\n",
      "| даже      | PART     | NOUN          |\n",
      "| оплатить  | VERB     | NOUN          |\n",
      "| штраф     | NOUN     | NOUN          |\n",
      "| в         | ADP      | NOUN          |\n",
      "| 150       | NUM      | NOUN          |\n",
      "| евро      | NOUN     | NOUN          |\n",
      "| (         | PUNCT    | NOUN          |\n",
      "| примерно  | ADV      | NOUN          |\n",
      "| тысячи    | NOUN     | NOUN          |\n",
      "| рублей    | NOUN     | NOUN          |\n",
      "| )         | PUNCT    | NOUN          |\n",
      "| ,         | PUNCT    | NOUN          |\n",
      "| так       | ADV      | NOUN          |\n",
      "| как       | SCONJ    | NOUN          |\n",
      "| это       | PRON     | NOUN          |\n",
      "| обойдется | VERB     | NOUN          |\n",
      "| им        | PRON     | NOUN          |\n",
      "| дешевле   | ADV      | NOUN          |\n",
      "| .         | PUNCT    | NOUN          |\n",
      "+-----------+----------+---------------+\n",
      "num_layers = 9\n",
      "loss: 2.9552040767669676, acc: 0.03186558559536934\n",
      "+------------+----------+---------------+\n",
      "| Word       | True tag | Predicted tag |\n",
      "+------------+----------+---------------+\n",
      "| система    | NOUN     | NUM           |\n",
      "| вообще     | ADV      | NUM           |\n",
      "| не         | PART     | NUM           |\n",
      "| с          | ADP      | NUM           |\n",
      "| организма  | NOUN     | NUM           |\n",
      "| »          | PUNCT    | NUM           |\n",
      "| ,          | PUNCT    | NUM           |\n",
      "| —          | PUNCT    | NUM           |\n",
      "| говорилось | VERB     | NUM           |\n",
      "| в          | ADP      | NUM           |\n",
      "| письме     | NOUN     | NUM           |\n",
      "| .          | PUNCT    | NUM           |\n",
      "+------------+----------+---------------+\n"
     ]
    },
    {
     "data": {
      "application/vnd.jupyter.widget-view+json": {
       "model_id": "fde6b885388042288cb49c8a39d98306",
       "version_major": 2,
       "version_minor": 0
      },
      "text/plain": [
       "epoch:   0%|          | 0/10 [00:00<?, ?it/s]"
      ]
     },
     "metadata": {},
     "output_type": "display_data"
    },
    {
     "data": {
      "application/vnd.jupyter.widget-view+json": {
       "model_id": "",
       "version_major": 2,
       "version_minor": 0
      },
      "text/plain": [
       "  0%|          | 0/155 [00:00<?, ?it/s]"
      ]
     },
     "metadata": {},
     "output_type": "display_data"
    },
    {
     "data": {
      "application/vnd.jupyter.widget-view+json": {
       "model_id": "",
       "version_major": 2,
       "version_minor": 0
      },
      "text/plain": [
       "  0%|          | 0/155 [00:00<?, ?it/s]"
      ]
     },
     "metadata": {},
     "output_type": "display_data"
    },
    {
     "name": "stdout",
     "output_type": "stream",
     "text": [
      "\t step=300, train_loss=2.2419397830963135, val_loss=2.247304735183716, val_acc=0.26998841762542725\n"
     ]
    },
    {
     "data": {
      "application/vnd.jupyter.widget-view+json": {
       "model_id": "",
       "version_major": 2,
       "version_minor": 0
      },
      "text/plain": [
       "  0%|          | 0/155 [00:00<?, ?it/s]"
      ]
     },
     "metadata": {},
     "output_type": "display_data"
    },
    {
     "data": {
      "application/vnd.jupyter.widget-view+json": {
       "model_id": "",
       "version_major": 2,
       "version_minor": 0
      },
      "text/plain": [
       "  0%|          | 0/155 [00:00<?, ?it/s]"
      ]
     },
     "metadata": {},
     "output_type": "display_data"
    },
    {
     "name": "stdout",
     "output_type": "stream",
     "text": [
      "\t step=600, train_loss=2.23158860206604, val_loss=2.2289364910125733, val_acc=0.26998841762542725\n"
     ]
    },
    {
     "data": {
      "application/vnd.jupyter.widget-view+json": {
       "model_id": "",
       "version_major": 2,
       "version_minor": 0
      },
      "text/plain": [
       "  0%|          | 0/155 [00:00<?, ?it/s]"
      ]
     },
     "metadata": {},
     "output_type": "display_data"
    },
    {
     "data": {
      "application/vnd.jupyter.widget-view+json": {
       "model_id": "",
       "version_major": 2,
       "version_minor": 0
      },
      "text/plain": [
       "  0%|          | 0/155 [00:00<?, ?it/s]"
      ]
     },
     "metadata": {},
     "output_type": "display_data"
    },
    {
     "name": "stdout",
     "output_type": "stream",
     "text": [
      "\t step=900, train_loss=2.1356711387634277, val_loss=2.215140895843506, val_acc=0.26998841762542725\n"
     ]
    },
    {
     "data": {
      "application/vnd.jupyter.widget-view+json": {
       "model_id": "",
       "version_major": 2,
       "version_minor": 0
      },
      "text/plain": [
       "  0%|          | 0/155 [00:00<?, ?it/s]"
      ]
     },
     "metadata": {},
     "output_type": "display_data"
    },
    {
     "data": {
      "application/vnd.jupyter.widget-view+json": {
       "model_id": "",
       "version_major": 2,
       "version_minor": 0
      },
      "text/plain": [
       "  0%|          | 0/155 [00:00<?, ?it/s]"
      ]
     },
     "metadata": {},
     "output_type": "display_data"
    },
    {
     "name": "stdout",
     "output_type": "stream",
     "text": [
      "\t step=1200, train_loss=2.1517250537872314, val_loss=2.2059787845611574, val_acc=0.26998841762542725\n"
     ]
    },
    {
     "data": {
      "application/vnd.jupyter.widget-view+json": {
       "model_id": "",
       "version_major": 2,
       "version_minor": 0
      },
      "text/plain": [
       "  0%|          | 0/155 [00:00<?, ?it/s]"
      ]
     },
     "metadata": {},
     "output_type": "display_data"
    },
    {
     "data": {
      "application/vnd.jupyter.widget-view+json": {
       "model_id": "",
       "version_major": 2,
       "version_minor": 0
      },
      "text/plain": [
       "  0%|          | 0/155 [00:00<?, ?it/s]"
      ]
     },
     "metadata": {},
     "output_type": "display_data"
    },
    {
     "name": "stdout",
     "output_type": "stream",
     "text": [
      "\t step=1500, train_loss=2.1995115280151367, val_loss=2.1966159248352053, val_acc=0.2885283827781677\n",
      "loss: 2.195254373550415, acc: 0.2885283827781677\n",
      "+------------+----------+---------------+\n",
      "| Word       | True tag | Predicted tag |\n",
      "+------------+----------+---------------+\n",
      "| По         | ADP      | ADP           |\n",
      "| их         | DET      | NOUN          |\n",
      "| заявлениям | NOUN     | NOUN          |\n",
      "| ,          | PUNCT    | NOUN          |\n",
      "| твит       | NOUN     | NOUN          |\n",
      "| Маска      | PROPN    | NOUN          |\n",
      "| принес     | VERB     | NOUN          |\n",
      "| им         | PRON     | NOUN          |\n",
      "| убыток     | NOUN     | NOUN          |\n",
      "| .          | PUNCT    | NOUN          |\n",
      "+------------+----------+---------------+\n"
     ]
    }
   ],
   "source": [
    "for num_layers in num_layers_list:\n",
    "    print(f'num_layers = {num_layers}')\n",
    "    \n",
    "    model = LSTM(vocab_dim=len(word2idx), num_layers=num_layers)\n",
    "    model.to(device)\n",
    "    \n",
    "    writer = SummaryWriter(log_dir=f'tensorboard_2/num_layers_{num_layers}')\n",
    "    call = callback(writer, test_data, loss_function)\n",
    "    \n",
    "    check(64, test_data, model, loss_function, idx2word, idx2pos)\n",
    "    trainer(count_of_epoch=10, \n",
    "            batch_size=64, \n",
    "            dataset=train_data,\n",
    "            model=model, \n",
    "            loss_function=loss_function,\n",
    "            optimizer = optimizer,\n",
    "            callback=call)\n",
    "    check(64, test_data, model, loss_function, idx2word, idx2pos)"
   ]
  },
  {
   "cell_type": "markdown",
   "id": "59471b9e",
   "metadata": {},
   "source": [
    "Как мы видим - лучше всего использовать 3 слоя."
   ]
  },
  {
   "cell_type": "code",
   "execution_count": 323,
   "id": "8d3913e4",
   "metadata": {
    "ExecuteTime": {
     "end_time": "2024-04-09T15:20:37.006799Z",
     "start_time": "2024-04-09T15:19:04.061903Z"
    },
    "scrolled": true
   },
   "outputs": [
    {
     "name": "stdout",
     "output_type": "stream",
     "text": [
      "dropout = 0\n",
      "loss: 2.934212760925293, acc: 0.0\n",
      "+-----------+----------+---------------+\n",
      "| Word      | True tag | Predicted tag |\n",
      "+-----------+----------+---------------+\n",
      "| Одни      | DET      | INTJ          |\n",
      "| пользу    | NOUN     | INTJ          |\n",
      "| ,         | PUNCT    | INTJ          |\n",
      "| другие    | ADJ      | INTJ          |\n",
      "| указывают | VERB     | INTJ          |\n",
      "| на        | ADP      | INTJ          |\n",
      "| вред      | NOUN     | INTJ          |\n",
      "| .         | PUNCT    | INTJ          |\n",
      "+-----------+----------+---------------+\n"
     ]
    },
    {
     "data": {
      "application/vnd.jupyter.widget-view+json": {
       "model_id": "3970a1088c3540249f0bcff519eef0a9",
       "version_major": 2,
       "version_minor": 0
      },
      "text/plain": [
       "epoch:   0%|          | 0/10 [00:00<?, ?it/s]"
      ]
     },
     "metadata": {},
     "output_type": "display_data"
    },
    {
     "data": {
      "application/vnd.jupyter.widget-view+json": {
       "model_id": "",
       "version_major": 2,
       "version_minor": 0
      },
      "text/plain": [
       "  0%|          | 0/155 [00:00<?, ?it/s]"
      ]
     },
     "metadata": {},
     "output_type": "display_data"
    },
    {
     "data": {
      "application/vnd.jupyter.widget-view+json": {
       "model_id": "",
       "version_major": 2,
       "version_minor": 0
      },
      "text/plain": [
       "  0%|          | 0/155 [00:00<?, ?it/s]"
      ]
     },
     "metadata": {},
     "output_type": "display_data"
    },
    {
     "name": "stdout",
     "output_type": "stream",
     "text": [
      "\t step=300, train_loss=2.216475486755371, val_loss=2.240416326522827, val_acc=0.2665121555328369\n"
     ]
    },
    {
     "data": {
      "application/vnd.jupyter.widget-view+json": {
       "model_id": "",
       "version_major": 2,
       "version_minor": 0
      },
      "text/plain": [
       "  0%|          | 0/155 [00:00<?, ?it/s]"
      ]
     },
     "metadata": {},
     "output_type": "display_data"
    },
    {
     "data": {
      "application/vnd.jupyter.widget-view+json": {
       "model_id": "",
       "version_major": 2,
       "version_minor": 0
      },
      "text/plain": [
       "  0%|          | 0/155 [00:00<?, ?it/s]"
      ]
     },
     "metadata": {},
     "output_type": "display_data"
    },
    {
     "name": "stdout",
     "output_type": "stream",
     "text": [
      "\t step=600, train_loss=2.157855987548828, val_loss=2.2154041862487794, val_acc=0.26998841762542725\n"
     ]
    },
    {
     "data": {
      "application/vnd.jupyter.widget-view+json": {
       "model_id": "",
       "version_major": 2,
       "version_minor": 0
      },
      "text/plain": [
       "  0%|          | 0/155 [00:00<?, ?it/s]"
      ]
     },
     "metadata": {},
     "output_type": "display_data"
    },
    {
     "data": {
      "application/vnd.jupyter.widget-view+json": {
       "model_id": "",
       "version_major": 2,
       "version_minor": 0
      },
      "text/plain": [
       "  0%|          | 0/155 [00:00<?, ?it/s]"
      ]
     },
     "metadata": {},
     "output_type": "display_data"
    },
    {
     "name": "stdout",
     "output_type": "stream",
     "text": [
      "\t step=900, train_loss=2.176269292831421, val_loss=2.1756235122680665, val_acc=0.27462339401245117\n"
     ]
    },
    {
     "data": {
      "application/vnd.jupyter.widget-view+json": {
       "model_id": "",
       "version_major": 2,
       "version_minor": 0
      },
      "text/plain": [
       "  0%|          | 0/155 [00:00<?, ?it/s]"
      ]
     },
     "metadata": {},
     "output_type": "display_data"
    },
    {
     "data": {
      "application/vnd.jupyter.widget-view+json": {
       "model_id": "",
       "version_major": 2,
       "version_minor": 0
      },
      "text/plain": [
       "  0%|          | 0/155 [00:00<?, ?it/s]"
      ]
     },
     "metadata": {},
     "output_type": "display_data"
    },
    {
     "name": "stdout",
     "output_type": "stream",
     "text": [
      "\t step=1200, train_loss=1.668185830116272, val_loss=1.722159504890442, val_acc=0.5057937502861023\n"
     ]
    },
    {
     "data": {
      "application/vnd.jupyter.widget-view+json": {
       "model_id": "",
       "version_major": 2,
       "version_minor": 0
      },
      "text/plain": [
       "  0%|          | 0/155 [00:00<?, ?it/s]"
      ]
     },
     "metadata": {},
     "output_type": "display_data"
    },
    {
     "data": {
      "application/vnd.jupyter.widget-view+json": {
       "model_id": "",
       "version_major": 2,
       "version_minor": 0
      },
      "text/plain": [
       "  0%|          | 0/155 [00:00<?, ?it/s]"
      ]
     },
     "metadata": {},
     "output_type": "display_data"
    },
    {
     "name": "stdout",
     "output_type": "stream",
     "text": [
      "\t step=1500, train_loss=1.314639687538147, val_loss=1.3743450927734375, val_acc=0.5863267779350281\n",
      "loss: 1.3361519002914428, acc: 0.5990729928016663\n",
      "+-------------+----------+---------------+\n",
      "| Word        | True tag | Predicted tag |\n",
      "+-------------+----------+---------------+\n",
      "| —           | PUNCT    | PUNCT         |\n",
      "| (           | PUNCT    | PUNCT         |\n",
      "| 2012        | ADJ      | NOUN          |\n",
      "| )           | PUNCT    | PUNCT         |\n",
      "| и           | CCONJ    | CCONJ         |\n",
      "| двукратный  | ADJ      | NOUN          |\n",
      "| призер      | NOUN     | NOUN          |\n",
      "| чемпионатов | NOUN     | NOUN          |\n",
      "| Европы      | PROPN    | NOUN          |\n",
      "| (           | PUNCT    | PUNCT         |\n",
      "| 2007        | ADJ      | NOUN          |\n",
      "| и           | CCONJ    | CCONJ         |\n",
      "| 2011        | ADJ      | NOUN          |\n",
      "| годы        | NOUN     | NOUN          |\n",
      "| )           | PUNCT    | PUNCT         |\n",
      "| ,           | PUNCT    | PUNCT         |\n",
      "| а           | CCONJ    | CCONJ         |\n",
      "| также       | ADV      | PRON          |\n",
      "| чемпионка   | NOUN     | NOUN          |\n",
      "| Финляндии   | PROPN    | NOUN          |\n",
      "| .           | PUNCT    | PUNCT         |\n",
      "+-------------+----------+---------------+\n",
      "dropout = 0.3\n",
      "loss: 2.8424018383026124, acc: 0.021436847746372223\n",
      "+------------+----------+---------------+\n",
      "| Word       | True tag | Predicted tag |\n",
      "+------------+----------+---------------+\n",
      "| В          | ADP      | PUNCT         |\n",
      "| это        | DET      | PRON          |\n",
      "| же         | PART     | PRON          |\n",
      "| время      | NOUN     | AUX           |\n",
      "| истечет    | VERB     | AUX           |\n",
      "| срок       | NOUN     | AUX           |\n",
      "| соглашения | NOUN     | AUX           |\n",
      "| «          | PUNCT    | AUX           |\n",
      "| Газпрома   | PROPN    | AUX           |\n",
      "| »          | PUNCT    | AUX           |\n",
      "| с          | ADP      | AUX           |\n",
      "| украинским | ADJ      | AUX           |\n",
      "| «          | PUNCT    | AUX           |\n",
      "| Нафтогазом | PROPN    | AUX           |\n",
      "| »          | PUNCT    | AUX           |\n",
      "| о          | ADP      | AUX           |\n",
      "| транзите   | NOUN     | AUX           |\n",
      "| газа       | NOUN     | AUX           |\n",
      "| через      | ADP      | AUX           |\n",
      "| территорию | NOUN     | AUX           |\n",
      "| этой       | DET      | AUX           |\n",
      "| страны     | NOUN     | AUX           |\n",
      "| .          | PUNCT    | AUX           |\n",
      "+------------+----------+---------------+\n"
     ]
    },
    {
     "data": {
      "application/vnd.jupyter.widget-view+json": {
       "model_id": "d8e7640ffdcf41aeab8f053f54cc7b5d",
       "version_major": 2,
       "version_minor": 0
      },
      "text/plain": [
       "epoch:   0%|          | 0/10 [00:00<?, ?it/s]"
      ]
     },
     "metadata": {},
     "output_type": "display_data"
    },
    {
     "data": {
      "application/vnd.jupyter.widget-view+json": {
       "model_id": "",
       "version_major": 2,
       "version_minor": 0
      },
      "text/plain": [
       "  0%|          | 0/155 [00:00<?, ?it/s]"
      ]
     },
     "metadata": {},
     "output_type": "display_data"
    },
    {
     "data": {
      "application/vnd.jupyter.widget-view+json": {
       "model_id": "",
       "version_major": 2,
       "version_minor": 0
      },
      "text/plain": [
       "  0%|          | 0/155 [00:00<?, ?it/s]"
      ]
     },
     "metadata": {},
     "output_type": "display_data"
    },
    {
     "name": "stdout",
     "output_type": "stream",
     "text": [
      "\t step=300, train_loss=2.2386271953582764, val_loss=2.240007791519165, val_acc=0.26998841762542725\n"
     ]
    },
    {
     "data": {
      "application/vnd.jupyter.widget-view+json": {
       "model_id": "",
       "version_major": 2,
       "version_minor": 0
      },
      "text/plain": [
       "  0%|          | 0/155 [00:00<?, ?it/s]"
      ]
     },
     "metadata": {},
     "output_type": "display_data"
    },
    {
     "data": {
      "application/vnd.jupyter.widget-view+json": {
       "model_id": "",
       "version_major": 2,
       "version_minor": 0
      },
      "text/plain": [
       "  0%|          | 0/155 [00:00<?, ?it/s]"
      ]
     },
     "metadata": {},
     "output_type": "display_data"
    },
    {
     "name": "stdout",
     "output_type": "stream",
     "text": [
      "\t step=600, train_loss=1.8485844135284424, val_loss=1.8651882314682007, val_acc=0.4258400797843933\n"
     ]
    },
    {
     "data": {
      "application/vnd.jupyter.widget-view+json": {
       "model_id": "",
       "version_major": 2,
       "version_minor": 0
      },
      "text/plain": [
       "  0%|          | 0/155 [00:00<?, ?it/s]"
      ]
     },
     "metadata": {},
     "output_type": "display_data"
    },
    {
     "data": {
      "application/vnd.jupyter.widget-view+json": {
       "model_id": "",
       "version_major": 2,
       "version_minor": 0
      },
      "text/plain": [
       "  0%|          | 0/155 [00:00<?, ?it/s]"
      ]
     },
     "metadata": {},
     "output_type": "display_data"
    },
    {
     "name": "stdout",
     "output_type": "stream",
     "text": [
      "\t step=900, train_loss=1.7017019987106323, val_loss=1.705317406654358, val_acc=0.42873695492744446\n"
     ]
    },
    {
     "data": {
      "application/vnd.jupyter.widget-view+json": {
       "model_id": "",
       "version_major": 2,
       "version_minor": 0
      },
      "text/plain": [
       "  0%|          | 0/155 [00:00<?, ?it/s]"
      ]
     },
     "metadata": {},
     "output_type": "display_data"
    },
    {
     "data": {
      "application/vnd.jupyter.widget-view+json": {
       "model_id": "",
       "version_major": 2,
       "version_minor": 0
      },
      "text/plain": [
       "  0%|          | 0/155 [00:00<?, ?it/s]"
      ]
     },
     "metadata": {},
     "output_type": "display_data"
    },
    {
     "name": "stdout",
     "output_type": "stream",
     "text": [
      "\t step=1200, train_loss=1.5938231945037842, val_loss=1.568288631439209, val_acc=0.4316338300704956\n"
     ]
    },
    {
     "data": {
      "application/vnd.jupyter.widget-view+json": {
       "model_id": "",
       "version_major": 2,
       "version_minor": 0
      },
      "text/plain": [
       "  0%|          | 0/155 [00:00<?, ?it/s]"
      ]
     },
     "metadata": {},
     "output_type": "display_data"
    },
    {
     "data": {
      "application/vnd.jupyter.widget-view+json": {
       "model_id": "",
       "version_major": 2,
       "version_minor": 0
      },
      "text/plain": [
       "  0%|          | 0/155 [00:00<?, ?it/s]"
      ]
     },
     "metadata": {},
     "output_type": "display_data"
    },
    {
     "name": "stdout",
     "output_type": "stream",
     "text": [
      "\t step=1500, train_loss=1.4354887008666992, val_loss=1.414461793899536, val_acc=0.4907299876213074\n",
      "loss: 1.38475266456604, acc: 0.5\n",
      "+--------------+----------+---------------+\n",
      "| Word         | True tag | Predicted tag |\n",
      "+--------------+----------+---------------+\n",
      "| В            | ADP      | NOUN          |\n",
      "| течение      | NOUN     | NOUN          |\n",
      "| осени        | NOUN     | NOUN          |\n",
      "| разработчики | NOUN     | NOUN          |\n",
      "| проведут     | VERB     | NOUN          |\n",
      "| проекта      | NOUN     | NOUN          |\n",
      "| ,            | PUNCT    | PUNCT         |\n",
      "| на           | ADP      | NOUN          |\n",
      "| которое      | PRON     | PRON          |\n",
      "| можно        | ADV      | PRON          |\n",
      "| на           | ADP      | NOUN          |\n",
      "| сайте        | NOUN     | NOUN          |\n",
      "| игры         | NOUN     | NOUN          |\n",
      "| .            | PUNCT    | PUNCT         |\n",
      "+--------------+----------+---------------+\n",
      "dropout = 0.5\n",
      "loss: 2.8985625553131102, acc: 0.03244495764374733\n",
      "+-------------+----------+---------------+\n",
      "| Word        | True tag | Predicted tag |\n",
      "+-------------+----------+---------------+\n",
      "| Украинская  | ADJ      | PRON          |\n",
      "| компания    | NOUN     | PRON          |\n",
      "| добивается  | VERB     | PRON          |\n",
      "| ареста      | NOUN     | PRON          |\n",
      "| европейских | ADJ      | PRON          |\n",
      "| активов     | NOUN     | PRON          |\n",
      "| в           | ADP      | PRON          |\n",
      "| целях       | NOUN     | PRON          |\n",
      "| .           | PUNCT    | PRON          |\n",
      "+-------------+----------+---------------+\n"
     ]
    },
    {
     "data": {
      "application/vnd.jupyter.widget-view+json": {
       "model_id": "6d0cd6078f1f4a0c8e96d0e78009e127",
       "version_major": 2,
       "version_minor": 0
      },
      "text/plain": [
       "epoch:   0%|          | 0/10 [00:00<?, ?it/s]"
      ]
     },
     "metadata": {},
     "output_type": "display_data"
    },
    {
     "data": {
      "application/vnd.jupyter.widget-view+json": {
       "model_id": "",
       "version_major": 2,
       "version_minor": 0
      },
      "text/plain": [
       "  0%|          | 0/155 [00:00<?, ?it/s]"
      ]
     },
     "metadata": {},
     "output_type": "display_data"
    },
    {
     "data": {
      "application/vnd.jupyter.widget-view+json": {
       "model_id": "",
       "version_major": 2,
       "version_minor": 0
      },
      "text/plain": [
       "  0%|          | 0/155 [00:00<?, ?it/s]"
      ]
     },
     "metadata": {},
     "output_type": "display_data"
    },
    {
     "name": "stdout",
     "output_type": "stream",
     "text": [
      "\t step=300, train_loss=2.272543430328369, val_loss=2.2536212253570556, val_acc=0.26303592324256897\n"
     ]
    },
    {
     "data": {
      "application/vnd.jupyter.widget-view+json": {
       "model_id": "",
       "version_major": 2,
       "version_minor": 0
      },
      "text/plain": [
       "  0%|          | 0/155 [00:00<?, ?it/s]"
      ]
     },
     "metadata": {},
     "output_type": "display_data"
    },
    {
     "data": {
      "application/vnd.jupyter.widget-view+json": {
       "model_id": "",
       "version_major": 2,
       "version_minor": 0
      },
      "text/plain": [
       "  0%|          | 0/155 [00:00<?, ?it/s]"
      ]
     },
     "metadata": {},
     "output_type": "display_data"
    },
    {
     "name": "stdout",
     "output_type": "stream",
     "text": [
      "\t step=600, train_loss=2.095494031906128, val_loss=1.9804879856109618, val_acc=0.3858632445335388\n"
     ]
    },
    {
     "data": {
      "application/vnd.jupyter.widget-view+json": {
       "model_id": "",
       "version_major": 2,
       "version_minor": 0
      },
      "text/plain": [
       "  0%|          | 0/155 [00:00<?, ?it/s]"
      ]
     },
     "metadata": {},
     "output_type": "display_data"
    },
    {
     "data": {
      "application/vnd.jupyter.widget-view+json": {
       "model_id": "",
       "version_major": 2,
       "version_minor": 0
      },
      "text/plain": [
       "  0%|          | 0/155 [00:00<?, ?it/s]"
      ]
     },
     "metadata": {},
     "output_type": "display_data"
    },
    {
     "name": "stdout",
     "output_type": "stream",
     "text": [
      "\t step=900, train_loss=1.7339156866073608, val_loss=1.65535662651062, val_acc=0.4275782108306885\n"
     ]
    },
    {
     "data": {
      "application/vnd.jupyter.widget-view+json": {
       "model_id": "",
       "version_major": 2,
       "version_minor": 0
      },
      "text/plain": [
       "  0%|          | 0/155 [00:00<?, ?it/s]"
      ]
     },
     "metadata": {},
     "output_type": "display_data"
    },
    {
     "data": {
      "application/vnd.jupyter.widget-view+json": {
       "model_id": "",
       "version_major": 2,
       "version_minor": 0
      },
      "text/plain": [
       "  0%|          | 0/155 [00:00<?, ?it/s]"
      ]
     },
     "metadata": {},
     "output_type": "display_data"
    },
    {
     "name": "stdout",
     "output_type": "stream",
     "text": [
      "\t step=1200, train_loss=1.5890618562698364, val_loss=1.4597036361694335, val_acc=0.4600231647491455\n"
     ]
    },
    {
     "data": {
      "application/vnd.jupyter.widget-view+json": {
       "model_id": "",
       "version_major": 2,
       "version_minor": 0
      },
      "text/plain": [
       "  0%|          | 0/155 [00:00<?, ?it/s]"
      ]
     },
     "metadata": {},
     "output_type": "display_data"
    },
    {
     "data": {
      "application/vnd.jupyter.widget-view+json": {
       "model_id": "",
       "version_major": 2,
       "version_minor": 0
      },
      "text/plain": [
       "  0%|          | 0/155 [00:00<?, ?it/s]"
      ]
     },
     "metadata": {},
     "output_type": "display_data"
    },
    {
     "name": "stdout",
     "output_type": "stream",
     "text": [
      "\t step=1500, train_loss=1.450932502746582, val_loss=1.3395133876800538, val_acc=0.4600231647491455\n",
      "loss: 1.3254704618453979, acc: 0.4594437777996063\n",
      "+------------+----------+---------------+\n",
      "| Word       | True tag | Predicted tag |\n",
      "+------------+----------+---------------+\n",
      "| По         | ADP      | PUNCT         |\n",
      "| подсчетам  | NOUN     | NOUN          |\n",
      "| «          | PUNCT    | PUNCT         |\n",
      "| »          | PUNCT    | PUNCT         |\n",
      "| ,          | PUNCT    | PUNCT         |\n",
      "| к          | ADP      | PUNCT         |\n",
      "| 2018-го    | ADJ      | NOUN          |\n",
      "| в          | ADP      | PUNCT         |\n",
      "| республике | NOUN     | NOUN          |\n",
      "| погибли    | VERB     | NOUN          |\n",
      "| 87         | NUM      | NOUN          |\n",
      "| россиян    | NOUN     | NOUN          |\n",
      "| .          | PUNCT    | PUNCT         |\n",
      "+------------+----------+---------------+\n",
      "dropout = 0.8\n",
      "loss: 2.9008523654937743, acc: 0.03244495764374733\n",
      "+--------------+----------+---------------+\n",
      "| Word         | True tag | Predicted tag |\n",
      "+--------------+----------+---------------+\n",
      "| и            | CCONJ    | CCONJ         |\n",
      "| его          | PRON     | CCONJ         |\n",
      "| друг         | NOUN     | CCONJ         |\n",
      "| рассчитывают | VERB     | CCONJ         |\n",
      "| ,            | PUNCT    | CCONJ         |\n",
      "| что          | SCONJ    | CCONJ         |\n",
      "| в            | ADP      | CCONJ         |\n",
      "| итоге        | NOUN     | CCONJ         |\n",
      "| наберется    | VERB     | CCONJ         |\n",
      "| 40           | NUM      | CCONJ         |\n",
      "| тысяч        | NOUN     | CCONJ         |\n",
      "| долларов     | NOUN     | CCONJ         |\n",
      "| .            | PUNCT    | CCONJ         |\n",
      "+--------------+----------+---------------+\n"
     ]
    },
    {
     "data": {
      "application/vnd.jupyter.widget-view+json": {
       "model_id": "6fe40838ae254674b54acb0d310ce96a",
       "version_major": 2,
       "version_minor": 0
      },
      "text/plain": [
       "epoch:   0%|          | 0/10 [00:00<?, ?it/s]"
      ]
     },
     "metadata": {},
     "output_type": "display_data"
    },
    {
     "data": {
      "application/vnd.jupyter.widget-view+json": {
       "model_id": "",
       "version_major": 2,
       "version_minor": 0
      },
      "text/plain": [
       "  0%|          | 0/155 [00:00<?, ?it/s]"
      ]
     },
     "metadata": {},
     "output_type": "display_data"
    },
    {
     "data": {
      "application/vnd.jupyter.widget-view+json": {
       "model_id": "",
       "version_major": 2,
       "version_minor": 0
      },
      "text/plain": [
       "  0%|          | 0/155 [00:00<?, ?it/s]"
      ]
     },
     "metadata": {},
     "output_type": "display_data"
    },
    {
     "name": "stdout",
     "output_type": "stream",
     "text": [
      "\t step=300, train_loss=2.3407304286956787, val_loss=2.2257367324829103, val_acc=0.26998841762542725\n"
     ]
    },
    {
     "data": {
      "application/vnd.jupyter.widget-view+json": {
       "model_id": "",
       "version_major": 2,
       "version_minor": 0
      },
      "text/plain": [
       "  0%|          | 0/155 [00:00<?, ?it/s]"
      ]
     },
     "metadata": {},
     "output_type": "display_data"
    },
    {
     "data": {
      "application/vnd.jupyter.widget-view+json": {
       "model_id": "",
       "version_major": 2,
       "version_minor": 0
      },
      "text/plain": [
       "  0%|          | 0/155 [00:00<?, ?it/s]"
      ]
     },
     "metadata": {},
     "output_type": "display_data"
    },
    {
     "name": "stdout",
     "output_type": "stream",
     "text": [
      "\t step=600, train_loss=2.154033899307251, val_loss=2.041973352432251, val_acc=0.2775202691555023\n"
     ]
    },
    {
     "data": {
      "application/vnd.jupyter.widget-view+json": {
       "model_id": "",
       "version_major": 2,
       "version_minor": 0
      },
      "text/plain": [
       "  0%|          | 0/155 [00:00<?, ?it/s]"
      ]
     },
     "metadata": {},
     "output_type": "display_data"
    },
    {
     "data": {
      "application/vnd.jupyter.widget-view+json": {
       "model_id": "",
       "version_major": 2,
       "version_minor": 0
      },
      "text/plain": [
       "  0%|          | 0/155 [00:00<?, ?it/s]"
      ]
     },
     "metadata": {},
     "output_type": "display_data"
    },
    {
     "name": "stdout",
     "output_type": "stream",
     "text": [
      "\t step=900, train_loss=1.9993135929107666, val_loss=1.8684067440032959, val_acc=0.3800695240497589\n"
     ]
    },
    {
     "data": {
      "application/vnd.jupyter.widget-view+json": {
       "model_id": "",
       "version_major": 2,
       "version_minor": 0
      },
      "text/plain": [
       "  0%|          | 0/155 [00:00<?, ?it/s]"
      ]
     },
     "metadata": {},
     "output_type": "display_data"
    },
    {
     "data": {
      "application/vnd.jupyter.widget-view+json": {
       "model_id": "",
       "version_major": 2,
       "version_minor": 0
      },
      "text/plain": [
       "  0%|          | 0/155 [00:00<?, ?it/s]"
      ]
     },
     "metadata": {},
     "output_type": "display_data"
    },
    {
     "name": "stdout",
     "output_type": "stream",
     "text": [
      "\t step=1200, train_loss=1.850610613822937, val_loss=1.71686119556427, val_acc=0.3933951258659363\n"
     ]
    },
    {
     "data": {
      "application/vnd.jupyter.widget-view+json": {
       "model_id": "",
       "version_major": 2,
       "version_minor": 0
      },
      "text/plain": [
       "  0%|          | 0/155 [00:00<?, ?it/s]"
      ]
     },
     "metadata": {},
     "output_type": "display_data"
    },
    {
     "data": {
      "application/vnd.jupyter.widget-view+json": {
       "model_id": "",
       "version_major": 2,
       "version_minor": 0
      },
      "text/plain": [
       "  0%|          | 0/155 [00:00<?, ?it/s]"
      ]
     },
     "metadata": {},
     "output_type": "display_data"
    },
    {
     "name": "stdout",
     "output_type": "stream",
     "text": [
      "\t step=1500, train_loss=1.8044638633728027, val_loss=1.615329966545105, val_acc=0.39455386996269226\n",
      "loss: 1.5980723190307617, acc: 0.39455386996269226\n",
      "+---------------+----------+---------------+\n",
      "| Word          | True tag | Predicted tag |\n",
      "+---------------+----------+---------------+\n",
      "| Во            | ADP      | ADP           |\n",
      "| ФСИН          | PROPN    | NOUN          |\n",
      "| пояснили      | VERB     | NOUN          |\n",
      "| ,             | PUNCT    | NOUN          |\n",
      "| что           | SCONJ    | ADP           |\n",
      "| это           | PRON     | ADP           |\n",
      "| было          | AUX      | ADP           |\n",
      "| сделано       | VERB     | NOUN          |\n",
      "| по            | ADP      | ADP           |\n",
      "| правительства | NOUN     | NOUN          |\n",
      "| .             | PUNCT    | NOUN          |\n",
      "+---------------+----------+---------------+\n"
     ]
    }
   ],
   "source": [
    "for dropout in dropout_list:\n",
    "    print(f'dropout = {dropout}')\n",
    "    \n",
    "    model = LSTM(vocab_dim=len(word2idx), dropout=dropout)\n",
    "    model.to(device)\n",
    "    \n",
    "    writer = SummaryWriter(log_dir=f'tensorboard_2/dropout_{dropout}')\n",
    "    call = callback(writer, test_data, loss_function)\n",
    "    \n",
    "    check(64, test_data, model, loss_function, idx2word, idx2pos)\n",
    "    trainer(count_of_epoch=10, \n",
    "            batch_size=64, \n",
    "            dataset=train_data,\n",
    "            model=model, \n",
    "            loss_function=loss_function,\n",
    "            optimizer = optimizer,\n",
    "            callback=call)\n",
    "    check(64, test_data, model, loss_function, idx2word, idx2pos)"
   ]
  },
  {
   "cell_type": "markdown",
   "id": "2d4323fb",
   "metadata": {},
   "source": [
    "Как мы видим - лучше всего использовать dropout c 0.5."
   ]
  },
  {
   "cell_type": "code",
   "execution_count": 324,
   "id": "9ee273e9",
   "metadata": {
    "ExecuteTime": {
     "end_time": "2024-04-09T15:23:51.516521Z",
     "start_time": "2024-04-09T15:23:02.665579Z"
    },
    "scrolled": true
   },
   "outputs": [
    {
     "name": "stdout",
     "output_type": "stream",
     "text": [
      "batch_norm = False\n",
      "loss: 2.8620294666290285, acc: 0.16164541244506836\n",
      "+---------------+----------+---------------+\n",
      "| Word          | True tag | Predicted tag |\n",
      "+---------------+----------+---------------+\n",
      "| В             | ADP      | PUNCT         |\n",
      "| результате    | NOUN     | PUNCT         |\n",
      "| землетрясения | NOUN     | PUNCT         |\n",
      "| были          | AUX      | PUNCT         |\n",
      "| разрушены     | VERB     | PUNCT         |\n",
      "| тысячи        | NOUN     | PUNCT         |\n",
      "| домов         | NOUN     | PUNCT         |\n",
      "| ,             | PUNCT    | PUNCT         |\n",
      "| а             | CCONJ    | PUNCT         |\n",
      "| также         | ADV      | PUNCT         |\n",
      "| отели         | NOUN     | PUNCT         |\n",
      "| ,             | PUNCT    | PUNCT         |\n",
      "| больницы      | NOUN     | PUNCT         |\n",
      "| и             | CCONJ    | PUNCT         |\n",
      "| торговые      | ADJ      | PUNCT         |\n",
      "| центры        | NOUN     | PUNCT         |\n",
      "| .             | PUNCT    | PUNCT         |\n",
      "+---------------+----------+---------------+\n"
     ]
    },
    {
     "data": {
      "application/vnd.jupyter.widget-view+json": {
       "model_id": "0c9e000137224bc087b3ae0f19b56013",
       "version_major": 2,
       "version_minor": 0
      },
      "text/plain": [
       "epoch:   0%|          | 0/10 [00:00<?, ?it/s]"
      ]
     },
     "metadata": {},
     "output_type": "display_data"
    },
    {
     "data": {
      "application/vnd.jupyter.widget-view+json": {
       "model_id": "",
       "version_major": 2,
       "version_minor": 0
      },
      "text/plain": [
       "  0%|          | 0/155 [00:00<?, ?it/s]"
      ]
     },
     "metadata": {},
     "output_type": "display_data"
    },
    {
     "data": {
      "application/vnd.jupyter.widget-view+json": {
       "model_id": "",
       "version_major": 2,
       "version_minor": 0
      },
      "text/plain": [
       "  0%|          | 0/155 [00:00<?, ?it/s]"
      ]
     },
     "metadata": {},
     "output_type": "display_data"
    },
    {
     "name": "stdout",
     "output_type": "stream",
     "text": [
      "\t step=300, train_loss=2.1636157035827637, val_loss=2.2413926887512208, val_acc=0.26998841762542725\n"
     ]
    },
    {
     "data": {
      "application/vnd.jupyter.widget-view+json": {
       "model_id": "",
       "version_major": 2,
       "version_minor": 0
      },
      "text/plain": [
       "  0%|          | 0/155 [00:00<?, ?it/s]"
      ]
     },
     "metadata": {},
     "output_type": "display_data"
    },
    {
     "data": {
      "application/vnd.jupyter.widget-view+json": {
       "model_id": "",
       "version_major": 2,
       "version_minor": 0
      },
      "text/plain": [
       "  0%|          | 0/155 [00:00<?, ?it/s]"
      ]
     },
     "metadata": {},
     "output_type": "display_data"
    },
    {
     "name": "stdout",
     "output_type": "stream",
     "text": [
      "\t step=600, train_loss=2.1398491859436035, val_loss=2.2130838298797606, val_acc=0.26998841762542725\n"
     ]
    },
    {
     "data": {
      "application/vnd.jupyter.widget-view+json": {
       "model_id": "",
       "version_major": 2,
       "version_minor": 0
      },
      "text/plain": [
       "  0%|          | 0/155 [00:00<?, ?it/s]"
      ]
     },
     "metadata": {},
     "output_type": "display_data"
    },
    {
     "data": {
      "application/vnd.jupyter.widget-view+json": {
       "model_id": "",
       "version_major": 2,
       "version_minor": 0
      },
      "text/plain": [
       "  0%|          | 0/155 [00:00<?, ?it/s]"
      ]
     },
     "metadata": {},
     "output_type": "display_data"
    },
    {
     "name": "stdout",
     "output_type": "stream",
     "text": [
      "\t step=900, train_loss=2.1514692306518555, val_loss=2.1872722721099853, val_acc=0.2885283827781677\n"
     ]
    },
    {
     "data": {
      "application/vnd.jupyter.widget-view+json": {
       "model_id": "",
       "version_major": 2,
       "version_minor": 0
      },
      "text/plain": [
       "  0%|          | 0/155 [00:00<?, ?it/s]"
      ]
     },
     "metadata": {},
     "output_type": "display_data"
    },
    {
     "data": {
      "application/vnd.jupyter.widget-view+json": {
       "model_id": "",
       "version_major": 2,
       "version_minor": 0
      },
      "text/plain": [
       "  0%|          | 0/155 [00:00<?, ?it/s]"
      ]
     },
     "metadata": {},
     "output_type": "display_data"
    },
    {
     "name": "stdout",
     "output_type": "stream",
     "text": [
      "\t step=1200, train_loss=1.7868026494979858, val_loss=1.819361572265625, val_acc=0.4484356641769409\n"
     ]
    },
    {
     "data": {
      "application/vnd.jupyter.widget-view+json": {
       "model_id": "",
       "version_major": 2,
       "version_minor": 0
      },
      "text/plain": [
       "  0%|          | 0/155 [00:00<?, ?it/s]"
      ]
     },
     "metadata": {},
     "output_type": "display_data"
    },
    {
     "data": {
      "application/vnd.jupyter.widget-view+json": {
       "model_id": "",
       "version_major": 2,
       "version_minor": 0
      },
      "text/plain": [
       "  0%|          | 0/155 [00:00<?, ?it/s]"
      ]
     },
     "metadata": {},
     "output_type": "display_data"
    },
    {
     "name": "stdout",
     "output_type": "stream",
     "text": [
      "\t step=1500, train_loss=1.7129496335983276, val_loss=1.7271662616729737, val_acc=0.45133253931999207\n",
      "loss: 1.709066891670227, acc: 0.45307067036628723\n",
      "+---------+----------+---------------+\n",
      "| Word    | True tag | Predicted tag |\n",
      "+---------+----------+---------------+\n",
      "| В       | ADP      | ADP           |\n",
      "| ответ   | NOUN     | NOUN          |\n",
      "| он      | PRON     | NOUN          |\n",
      "| :       | PUNCT    | PUNCT         |\n",
      "| «       | PUNCT    | PUNCT         |\n",
      "| быть    | AUX      | NOUN          |\n",
      "| не      | PART     | NOUN          |\n",
      "| стыдно  | ADV      | NOUN          |\n",
      "| ,       | PUNCT    | PUNCT         |\n",
      "| стыдно  | ADV      | NOUN          |\n",
      "| быть    | AUX      | NOUN          |\n",
      "| дешевым | ADJ      | NOUN          |\n",
      "| »       | PUNCT    | PUNCT         |\n",
      "| .       | PUNCT    | PUNCT         |\n",
      "+---------+----------+---------------+\n",
      "batch_norm = True\n",
      "loss: 2.9311695384979246, acc: 0.0\n",
      "+-------------+----------+---------------+\n",
      "| Word        | True tag | Predicted tag |\n",
      "+-------------+----------+---------------+\n",
      "| Украинская  | ADJ      | INTJ          |\n",
      "| компания    | NOUN     | INTJ          |\n",
      "| добивается  | VERB     | INTJ          |\n",
      "| ареста      | NOUN     | INTJ          |\n",
      "| европейских | ADJ      | INTJ          |\n",
      "| активов     | NOUN     | INTJ          |\n",
      "| в           | ADP      | INTJ          |\n",
      "| целях       | NOUN     | INTJ          |\n",
      "| .           | PUNCT    | INTJ          |\n",
      "+-------------+----------+---------------+\n"
     ]
    },
    {
     "data": {
      "application/vnd.jupyter.widget-view+json": {
       "model_id": "e3293878b37a429bb71433df82787873",
       "version_major": 2,
       "version_minor": 0
      },
      "text/plain": [
       "epoch:   0%|          | 0/10 [00:00<?, ?it/s]"
      ]
     },
     "metadata": {},
     "output_type": "display_data"
    },
    {
     "data": {
      "application/vnd.jupyter.widget-view+json": {
       "model_id": "",
       "version_major": 2,
       "version_minor": 0
      },
      "text/plain": [
       "  0%|          | 0/155 [00:00<?, ?it/s]"
      ]
     },
     "metadata": {},
     "output_type": "display_data"
    },
    {
     "data": {
      "application/vnd.jupyter.widget-view+json": {
       "model_id": "",
       "version_major": 2,
       "version_minor": 0
      },
      "text/plain": [
       "  0%|          | 0/155 [00:00<?, ?it/s]"
      ]
     },
     "metadata": {},
     "output_type": "display_data"
    },
    {
     "name": "stdout",
     "output_type": "stream",
     "text": [
      "\t step=300, train_loss=1.7125821113586426, val_loss=1.6898076629638672, val_acc=0.49884122610092163\n"
     ]
    },
    {
     "data": {
      "application/vnd.jupyter.widget-view+json": {
       "model_id": "",
       "version_major": 2,
       "version_minor": 0
      },
      "text/plain": [
       "  0%|          | 0/155 [00:00<?, ?it/s]"
      ]
     },
     "metadata": {},
     "output_type": "display_data"
    },
    {
     "data": {
      "application/vnd.jupyter.widget-view+json": {
       "model_id": "",
       "version_major": 2,
       "version_minor": 0
      },
      "text/plain": [
       "  0%|          | 0/155 [00:00<?, ?it/s]"
      ]
     },
     "metadata": {},
     "output_type": "display_data"
    },
    {
     "name": "stdout",
     "output_type": "stream",
     "text": [
      "\t step=600, train_loss=1.2985923290252686, val_loss=1.3564738988876344, val_acc=0.5701043009757996\n"
     ]
    },
    {
     "data": {
      "application/vnd.jupyter.widget-view+json": {
       "model_id": "",
       "version_major": 2,
       "version_minor": 0
      },
      "text/plain": [
       "  0%|          | 0/155 [00:00<?, ?it/s]"
      ]
     },
     "metadata": {},
     "output_type": "display_data"
    },
    {
     "data": {
      "application/vnd.jupyter.widget-view+json": {
       "model_id": "",
       "version_major": 2,
       "version_minor": 0
      },
      "text/plain": [
       "  0%|          | 0/155 [00:00<?, ?it/s]"
      ]
     },
     "metadata": {},
     "output_type": "display_data"
    },
    {
     "name": "stdout",
     "output_type": "stream",
     "text": [
      "\t step=900, train_loss=1.0579735040664673, val_loss=1.086392731666565, val_acc=0.6460022926330566\n"
     ]
    },
    {
     "data": {
      "application/vnd.jupyter.widget-view+json": {
       "model_id": "",
       "version_major": 2,
       "version_minor": 0
      },
      "text/plain": [
       "  0%|          | 0/155 [00:00<?, ?it/s]"
      ]
     },
     "metadata": {},
     "output_type": "display_data"
    },
    {
     "data": {
      "application/vnd.jupyter.widget-view+json": {
       "model_id": "",
       "version_major": 2,
       "version_minor": 0
      },
      "text/plain": [
       "  0%|          | 0/155 [00:00<?, ?it/s]"
      ]
     },
     "metadata": {},
     "output_type": "display_data"
    },
    {
     "name": "stdout",
     "output_type": "stream",
     "text": [
      "\t step=1200, train_loss=0.8655945658683777, val_loss=0.883663227558136, val_acc=0.6969872117042542\n"
     ]
    },
    {
     "data": {
      "application/vnd.jupyter.widget-view+json": {
       "model_id": "",
       "version_major": 2,
       "version_minor": 0
      },
      "text/plain": [
       "  0%|          | 0/155 [00:00<?, ?it/s]"
      ]
     },
     "metadata": {},
     "output_type": "display_data"
    },
    {
     "data": {
      "application/vnd.jupyter.widget-view+json": {
       "model_id": "",
       "version_major": 2,
       "version_minor": 0
      },
      "text/plain": [
       "  0%|          | 0/155 [00:00<?, ?it/s]"
      ]
     },
     "metadata": {},
     "output_type": "display_data"
    },
    {
     "name": "stdout",
     "output_type": "stream",
     "text": [
      "\t step=1500, train_loss=0.7061347365379333, val_loss=0.7359313678741455, val_acc=0.7497103214263916\n",
      "loss: 0.7095850706100464, acc: 0.7555040121078491\n",
      "+-----------------+----------+---------------+\n",
      "| Word            | True tag | Predicted tag |\n",
      "+-----------------+----------+---------------+\n",
      "| В               | ADP      | ADP           |\n",
      "| Кремле          | PROPN    | NOUN          |\n",
      "| соответствующие | ADJ      | NOUN          |\n",
      "| инициативы      | NOUN     | NOUN          |\n",
      "| комментировать  | VERB     | ADJ           |\n",
      "| не              | PART     | PART          |\n",
      "| стали           | VERB     | VERB          |\n",
      "| .               | PUNCT    | PUNCT         |\n",
      "+-----------------+----------+---------------+\n"
     ]
    }
   ],
   "source": [
    "for batch_norm in batch_norm_list:\n",
    "    print(f'batchnorm = {batch_norm}')\n",
    "    \n",
    "    model = LSTM(vocab_dim=len(word2idx), batch_norm=batch_norm)\n",
    "    model.to(device)\n",
    "    \n",
    "    writer = SummaryWriter(log_dir=f'tensorboard_2/batch_norm_{batch_norm}')\n",
    "    call = callback(writer, test_data, loss_function)\n",
    "    \n",
    "    check(64, test_data, model, loss_function, idx2word, idx2pos)\n",
    "    trainer(count_of_epoch=10, \n",
    "            batch_size=64, \n",
    "            dataset=train_data,\n",
    "            model=model, \n",
    "            loss_function=loss_function,\n",
    "            optimizer = optimizer,\n",
    "            callback=call)\n",
    "    check(64, test_data, model, loss_function, idx2word, idx2pos)"
   ]
  },
  {
   "cell_type": "markdown",
   "id": "075d8fef",
   "metadata": {},
   "source": [
    "BatchNorm надо использовать."
   ]
  },
  {
   "cell_type": "code",
   "execution_count": 326,
   "id": "049bd172",
   "metadata": {
    "ExecuteTime": {
     "end_time": "2024-04-09T15:42:40.934866Z",
     "start_time": "2024-04-09T15:26:46.853175Z"
    }
   },
   "outputs": [
    {
     "name": "stdout",
     "output_type": "stream",
     "text": [
      "len_dict = 50000\n"
     ]
    },
    {
     "data": {
      "application/vnd.jupyter.widget-view+json": {
       "model_id": "407e01d6aff74ba2a98c60078408858d",
       "version_major": 2,
       "version_minor": 0
      },
      "text/plain": [
       "0it [00:00, ?it/s]"
      ]
     },
     "metadata": {},
     "output_type": "display_data"
    },
    {
     "name": "stdout",
     "output_type": "stream",
     "text": [
      "loss: 2.751299066543579, acc: 0.11717922240495682\n",
      "+-------------+----------+---------------+\n",
      "| Word        | True tag | Predicted tag |\n",
      "+-------------+----------+---------------+\n",
      "| Первые      | ADJ      | ADP           |\n",
      "| пять        | NUM      | ADP           |\n",
      "| миллиардов  | NOUN     | ADP           |\n",
      "| были        | AUX      | ADP           |\n",
      "| перечислены | VERB     | ADP           |\n",
      "| в           | ADP      | ADP           |\n",
      "| марте       | NOUN     | ADP           |\n",
      "| 2015        | ADJ      | ADP           |\n",
      "| года        | NOUN     | ADP           |\n",
      "| ,           | PUNCT    | ADP           |\n",
      "| еще         | ADV      | ADP           |\n",
      "| 1,7         | NUM      | ADP           |\n",
      "| миллиарда   | NOUN     | ADP           |\n",
      "| —           | PUNCT    | ADP           |\n",
      "| в           | ADP      | ADP           |\n",
      "| августе     | NOUN     | ADP           |\n",
      "| того        | DET      | ADP           |\n",
      "| же          | PART     | ADP           |\n",
      "| года        | NOUN     | ADP           |\n",
      "| .           | PUNCT    | ADP           |\n",
      "+-------------+----------+---------------+\n"
     ]
    },
    {
     "data": {
      "application/vnd.jupyter.widget-view+json": {
       "model_id": "b50a9c767c3e4047940cbb19011bcd70",
       "version_major": 2,
       "version_minor": 0
      },
      "text/plain": [
       "epoch:   0%|          | 0/10 [00:00<?, ?it/s]"
      ]
     },
     "metadata": {},
     "output_type": "display_data"
    },
    {
     "data": {
      "application/vnd.jupyter.widget-view+json": {
       "model_id": "",
       "version_major": 2,
       "version_minor": 0
      },
      "text/plain": [
       "  0%|          | 0/780 [00:00<?, ?it/s]"
      ]
     },
     "metadata": {},
     "output_type": "display_data"
    },
    {
     "name": "stdout",
     "output_type": "stream",
     "text": [
      "\t step=300, train_loss=2.17415714263916, val_loss=2.190752458572388, val_acc=0.30063629150390625\n",
      "\t step=600, train_loss=1.9619183540344238, val_loss=1.9039065217971802, val_acc=0.4432661831378937\n"
     ]
    },
    {
     "data": {
      "application/vnd.jupyter.widget-view+json": {
       "model_id": "",
       "version_major": 2,
       "version_minor": 0
      },
      "text/plain": [
       "  0%|          | 0/780 [00:00<?, ?it/s]"
      ]
     },
     "metadata": {},
     "output_type": "display_data"
    },
    {
     "name": "stdout",
     "output_type": "stream",
     "text": [
      "\t step=900, train_loss=1.588650107383728, val_loss=1.659011206626892, val_acc=0.4872746765613556\n",
      "\t step=1200, train_loss=1.4322758913040161, val_loss=1.494058198928833, val_acc=0.5588547587394714\n",
      "\t step=1500, train_loss=1.3380062580108643, val_loss=1.4257608461380005, val_acc=0.5657476186752319\n"
     ]
    },
    {
     "data": {
      "application/vnd.jupyter.widget-view+json": {
       "model_id": "",
       "version_major": 2,
       "version_minor": 0
      },
      "text/plain": [
       "  0%|          | 0/780 [00:00<?, ?it/s]"
      ]
     },
     "metadata": {},
     "output_type": "display_data"
    },
    {
     "name": "stdout",
     "output_type": "stream",
     "text": [
      "\t step=1800, train_loss=1.2752432823181152, val_loss=1.3551241207122802, val_acc=0.5683987736701965\n",
      "\t step=2100, train_loss=1.2933509349822998, val_loss=1.2783186435699463, val_acc=0.5874868035316467\n"
     ]
    },
    {
     "data": {
      "application/vnd.jupyter.widget-view+json": {
       "model_id": "",
       "version_major": 2,
       "version_minor": 0
      },
      "text/plain": [
       "  0%|          | 0/780 [00:00<?, ?it/s]"
      ]
     },
     "metadata": {},
     "output_type": "display_data"
    },
    {
     "name": "stdout",
     "output_type": "stream",
     "text": [
      "\t step=2400, train_loss=1.1281224489212036, val_loss=1.1814544916152954, val_acc=0.6139979362487793\n",
      "\t step=2700, train_loss=0.9686529636383057, val_loss=1.023742823600769, val_acc=0.6797455549240112\n",
      "\t step=3000, train_loss=0.90737384557724, val_loss=0.9168824815750122, val_acc=0.7104984521865845\n"
     ]
    },
    {
     "data": {
      "application/vnd.jupyter.widget-view+json": {
       "model_id": "",
       "version_major": 2,
       "version_minor": 0
      },
      "text/plain": [
       "  0%|          | 0/780 [00:00<?, ?it/s]"
      ]
     },
     "metadata": {},
     "output_type": "display_data"
    },
    {
     "name": "stdout",
     "output_type": "stream",
     "text": [
      "\t step=3300, train_loss=0.761817455291748, val_loss=0.8421183323860169, val_acc=0.7200424671173096\n",
      "\t step=3600, train_loss=0.719936192035675, val_loss=0.7794430875778198, val_acc=0.7279958128929138\n",
      "\t step=3900, train_loss=0.6839991807937622, val_loss=0.7244663834571838, val_acc=0.7444326877593994\n"
     ]
    },
    {
     "data": {
      "application/vnd.jupyter.widget-view+json": {
       "model_id": "",
       "version_major": 2,
       "version_minor": 0
      },
      "text/plain": [
       "  0%|          | 0/780 [00:00<?, ?it/s]"
      ]
     },
     "metadata": {},
     "output_type": "display_data"
    },
    {
     "name": "stdout",
     "output_type": "stream",
     "text": [
      "\t step=4200, train_loss=0.6112229824066162, val_loss=0.6685533118247986, val_acc=0.7656416296958923\n",
      "\t step=4500, train_loss=0.5870016813278198, val_loss=0.6246959161758423, val_acc=0.7841994166374207\n"
     ]
    },
    {
     "data": {
      "application/vnd.jupyter.widget-view+json": {
       "model_id": "",
       "version_major": 2,
       "version_minor": 0
      },
      "text/plain": [
       "  0%|          | 0/780 [00:00<?, ?it/s]"
      ]
     },
     "metadata": {},
     "output_type": "display_data"
    },
    {
     "name": "stdout",
     "output_type": "stream",
     "text": [
      "\t step=4800, train_loss=0.5877983570098877, val_loss=0.5837391066551209, val_acc=0.80169677734375\n",
      "\t step=5100, train_loss=0.526932954788208, val_loss=0.5497924852371215, val_acc=0.8335101008415222\n",
      "\t step=5400, train_loss=0.40582510828971863, val_loss=0.5008601999282837, val_acc=0.8547190427780151\n"
     ]
    },
    {
     "data": {
      "application/vnd.jupyter.widget-view+json": {
       "model_id": "",
       "version_major": 2,
       "version_minor": 0
      },
      "text/plain": [
       "  0%|          | 0/780 [00:00<?, ?it/s]"
      ]
     },
     "metadata": {},
     "output_type": "display_data"
    },
    {
     "name": "stdout",
     "output_type": "stream",
     "text": [
      "\t step=5700, train_loss=0.41881194710731506, val_loss=0.4740096700191498, val_acc=0.8653234839439392\n",
      "\t step=6000, train_loss=0.37554383277893066, val_loss=0.44540046572685243, val_acc=0.8727465867996216\n"
     ]
    },
    {
     "data": {
      "application/vnd.jupyter.widget-view+json": {
       "model_id": "",
       "version_major": 2,
       "version_minor": 0
      },
      "text/plain": [
       "  0%|          | 0/780 [00:00<?, ?it/s]"
      ]
     },
     "metadata": {},
     "output_type": "display_data"
    },
    {
     "name": "stdout",
     "output_type": "stream",
     "text": [
      "\t step=6300, train_loss=0.29447251558303833, val_loss=0.4266130793094635, val_acc=0.8796395063400269\n",
      "\t step=6600, train_loss=0.28996631503105164, val_loss=0.41054497718811034, val_acc=0.8865323662757874\n",
      "\t step=6900, train_loss=0.28703829646110535, val_loss=0.39320804715156554, val_acc=0.8955461978912354\n"
     ]
    },
    {
     "data": {
      "application/vnd.jupyter.widget-view+json": {
       "model_id": "",
       "version_major": 2,
       "version_minor": 0
      },
      "text/plain": [
       "  0%|          | 0/780 [00:00<?, ?it/s]"
      ]
     },
     "metadata": {},
     "output_type": "display_data"
    },
    {
     "name": "stdout",
     "output_type": "stream",
     "text": [
      "\t step=7200, train_loss=0.27149537205696106, val_loss=0.37940789461135865, val_acc=0.8960763812065125\n",
      "\t step=7500, train_loss=0.2777436375617981, val_loss=0.36441257715225217, val_acc=0.9003182053565979\n",
      "\t step=7800, train_loss=0.2550980746746063, val_loss=0.353090363740921, val_acc=0.9061506390571594\n",
      "loss: 0.353090363740921, acc: 0.9061506390571594\n",
      "+-------------+----------+---------------+\n",
      "| Word        | True tag | Predicted tag |\n",
      "+-------------+----------+---------------+\n",
      "| В           | ADP      | ADP           |\n",
      "| сентябре    | NOUN     | NOUN          |\n",
      "| 2016        | ADJ      | ADJ           |\n",
      "| года        | NOUN     | NOUN          |\n",
      "| апартаменты | NOUN     | NOUN          |\n",
      "| в           | ADP      | ADP           |\n",
      "| комплексе   | NOUN     | NOUN          |\n",
      "| «           | PUNCT    | PUNCT         |\n",
      "| Федерация   | PROPN    | PROPN         |\n",
      "| »           | PUNCT    | PUNCT         |\n",
      "| были        | AUX      | AUX           |\n",
      "| сданы       | VERB     | NOUN          |\n",
      "| в           | ADP      | ADP           |\n",
      "| аренду      | NOUN     | NOUN          |\n",
      "| по          | ADP      | ADP           |\n",
      "| ставке      | NOUN     | NOUN          |\n",
      "| 1,5         | NUM      | ADJ           |\n",
      "| миллиона    | NOUN     | NOUN          |\n",
      "| рублей      | NOUN     | NOUN          |\n",
      "| в           | ADP      | ADP           |\n",
      "| месяц       | NOUN     | NOUN          |\n",
      "| .           | PUNCT    | PUNCT         |\n",
      "+-------------+----------+---------------+\n",
      "len_dict = 100000\n"
     ]
    },
    {
     "data": {
      "application/vnd.jupyter.widget-view+json": {
       "model_id": "0cff48f615a047c88888e4dcd25af357",
       "version_major": 2,
       "version_minor": 0
      },
      "text/plain": [
       "0it [00:00, ?it/s]"
      ]
     },
     "metadata": {},
     "output_type": "display_data"
    },
    {
     "name": "stdout",
     "output_type": "stream",
     "text": [
      "loss: 2.9356502628326417, acc: 0.030534351244568825\n",
      "+--------------+----------+---------------+\n",
      "| Word         | True tag | Predicted tag |\n",
      "+--------------+----------+---------------+\n",
      "| Это          | PRON     | ADV           |\n",
      "| позволило    | VERB     | ADV           |\n",
      "| установить   | VERB     | ADV           |\n",
      "| личности     | NOUN     | ADV           |\n",
      "| ряда         | NOUN     | ADV           |\n",
      "| членов       | NOUN     | ADV           |\n",
      "| банды        | NOUN     | ADV           |\n",
      "| и            | CCONJ    | ADV           |\n",
      "| впоследствии | ADV      | ADV           |\n",
      "| задержать    | VERB     | ADV           |\n",
      "| их           | PRON     | ADV           |\n",
      "| .            | PUNCT    | ADV           |\n",
      "+--------------+----------+---------------+\n"
     ]
    },
    {
     "data": {
      "application/vnd.jupyter.widget-view+json": {
       "model_id": "3b2093c6a3994a6587c1cbb7291ed1df",
       "version_major": 2,
       "version_minor": 0
      },
      "text/plain": [
       "epoch:   0%|          | 0/10 [00:00<?, ?it/s]"
      ]
     },
     "metadata": {},
     "output_type": "display_data"
    },
    {
     "data": {
      "application/vnd.jupyter.widget-view+json": {
       "model_id": "",
       "version_major": 2,
       "version_minor": 0
      },
      "text/plain": [
       "  0%|          | 0/1561 [00:00<?, ?it/s]"
      ]
     },
     "metadata": {},
     "output_type": "display_data"
    },
    {
     "name": "stdout",
     "output_type": "stream",
     "text": [
      "\t step=300, train_loss=2.1823244094848633, val_loss=2.2516268062591553, val_acc=0.2707379162311554\n",
      "\t step=600, train_loss=2.1538970470428467, val_loss=2.2316928482055665, val_acc=0.2707379162311554\n",
      "\t step=900, train_loss=2.108912706375122, val_loss=2.197469720840454, val_acc=0.2941475808620453\n",
      "\t step=1200, train_loss=1.7808514833450317, val_loss=1.858955512046814, val_acc=0.4396946430206299\n",
      "\t step=1500, train_loss=1.6384191513061523, val_loss=1.6851587104797363, val_acc=0.46768447756767273\n"
     ]
    },
    {
     "data": {
      "application/vnd.jupyter.widget-view+json": {
       "model_id": "",
       "version_major": 2,
       "version_minor": 0
      },
      "text/plain": [
       "  0%|          | 0/1561 [00:00<?, ?it/s]"
      ]
     },
     "metadata": {},
     "output_type": "display_data"
    },
    {
     "name": "stdout",
     "output_type": "stream",
     "text": [
      "\t step=1800, train_loss=1.418698787689209, val_loss=1.4732735013961793, val_acc=0.5496183037757874\n",
      "\t step=2100, train_loss=1.2784459590911865, val_loss=1.3512261056900023, val_acc=0.5511450171470642\n",
      "\t step=2400, train_loss=1.2146025896072388, val_loss=1.2543799495697021, val_acc=0.5730279684066772\n",
      "\t step=2700, train_loss=1.0866175889968872, val_loss=1.1594622087478639, val_acc=0.6213740706443787\n",
      "\t step=3000, train_loss=0.9724507927894592, val_loss=1.0763964867591858, val_acc=0.6503816843032837\n"
     ]
    },
    {
     "data": {
      "application/vnd.jupyter.widget-view+json": {
       "model_id": "",
       "version_major": 2,
       "version_minor": 0
      },
      "text/plain": [
       "  0%|          | 0/1561 [00:00<?, ?it/s]"
      ]
     },
     "metadata": {},
     "output_type": "display_data"
    },
    {
     "name": "stdout",
     "output_type": "stream",
     "text": [
      "\t step=3300, train_loss=0.8940892815589905, val_loss=1.01496013879776, val_acc=0.6671755909919739\n",
      "\t step=3600, train_loss=0.9253404140472412, val_loss=0.968252592086792, val_acc=0.6854962110519409\n",
      "\t step=3900, train_loss=0.7495632767677307, val_loss=0.9061030411720276, val_acc=0.7160305380821228\n",
      "\t step=4200, train_loss=0.7205329537391663, val_loss=0.8580114269256591, val_acc=0.7307888269424438\n",
      "\t step=4500, train_loss=0.7301415205001831, val_loss=0.796689441204071, val_acc=0.7394402027130127\n"
     ]
    },
    {
     "data": {
      "application/vnd.jupyter.widget-view+json": {
       "model_id": "",
       "version_major": 2,
       "version_minor": 0
      },
      "text/plain": [
       "  0%|          | 0/1561 [00:00<?, ?it/s]"
      ]
     },
     "metadata": {},
     "output_type": "display_data"
    },
    {
     "name": "stdout",
     "output_type": "stream",
     "text": [
      "\t step=4800, train_loss=0.7610759139060974, val_loss=0.749108967781067, val_acc=0.7516539692878723\n",
      "\t step=5100, train_loss=0.5817445516586304, val_loss=0.7095578980445861, val_acc=0.7659032940864563\n",
      "\t step=5400, train_loss=0.5627533197402954, val_loss=0.6792437887191772, val_acc=0.7781170606613159\n",
      "\t step=5700, train_loss=0.503745436668396, val_loss=0.6506291913986206, val_acc=0.7898218631744385\n",
      "\t step=6000, train_loss=0.560690701007843, val_loss=0.6188961100578309, val_acc=0.8091602921485901\n"
     ]
    },
    {
     "data": {
      "application/vnd.jupyter.widget-view+json": {
       "model_id": "",
       "version_major": 2,
       "version_minor": 0
      },
      "text/plain": [
       "  0%|          | 0/1561 [00:00<?, ?it/s]"
      ]
     },
     "metadata": {},
     "output_type": "display_data"
    },
    {
     "name": "stdout",
     "output_type": "stream",
     "text": [
      "\t step=6300, train_loss=0.6004912853240967, val_loss=0.6005349373817443, val_acc=0.8142493963241577\n",
      "\t step=6600, train_loss=0.45451492071151733, val_loss=0.5773879337310791, val_acc=0.8234096765518188\n",
      "\t step=6900, train_loss=0.4223775267601013, val_loss=0.5646361064910889, val_acc=0.8284987211227417\n",
      "\t step=7200, train_loss=0.4593382775783539, val_loss=0.540513322353363, val_acc=0.8356233835220337\n",
      "\t step=7500, train_loss=0.4541116952896118, val_loss=0.5271411275863648, val_acc=0.8381679654121399\n",
      "\t step=7800, train_loss=0.38744598627090454, val_loss=0.5146540141105652, val_acc=0.8432570099830627\n"
     ]
    },
    {
     "data": {
      "application/vnd.jupyter.widget-view+json": {
       "model_id": "",
       "version_major": 2,
       "version_minor": 0
      },
      "text/plain": [
       "  0%|          | 0/1561 [00:00<?, ?it/s]"
      ]
     },
     "metadata": {},
     "output_type": "display_data"
    },
    {
     "name": "stdout",
     "output_type": "stream",
     "text": [
      "\t step=8100, train_loss=0.34807971119880676, val_loss=0.5069481921195984, val_acc=0.8463104367256165\n",
      "\t step=8400, train_loss=0.3578006327152252, val_loss=0.4974575209617615, val_acc=0.854452908039093\n",
      "\t step=8700, train_loss=0.3329041302204132, val_loss=0.48436217069625853, val_acc=0.8580152988433838\n",
      "\t step=9000, train_loss=0.3280828595161438, val_loss=0.4688332140445709, val_acc=0.8636132478713989\n",
      "\t step=9300, train_loss=0.2837768793106079, val_loss=0.46587601661682126, val_acc=0.8636132478713989\n"
     ]
    },
    {
     "data": {
      "application/vnd.jupyter.widget-view+json": {
       "model_id": "",
       "version_major": 2,
       "version_minor": 0
      },
      "text/plain": [
       "  0%|          | 0/1561 [00:00<?, ?it/s]"
      ]
     },
     "metadata": {},
     "output_type": "display_data"
    },
    {
     "name": "stdout",
     "output_type": "stream",
     "text": [
      "\t step=9600, train_loss=0.33569803833961487, val_loss=0.46052619218826296, val_acc=0.8671755790710449\n",
      "\t step=9900, train_loss=0.2967661917209625, val_loss=0.4550191831588745, val_acc=0.8697201013565063\n",
      "\t step=10200, train_loss=0.26131144165992737, val_loss=0.4493402302265167, val_acc=0.8748091459274292\n",
      "\t step=10500, train_loss=0.34802499413490295, val_loss=0.4400095772743225, val_acc=0.8732824325561523\n",
      "\t step=10800, train_loss=0.26617127656936646, val_loss=0.43323188066482543, val_acc=0.876335859298706\n"
     ]
    },
    {
     "data": {
      "application/vnd.jupyter.widget-view+json": {
       "model_id": "",
       "version_major": 2,
       "version_minor": 0
      },
      "text/plain": [
       "  0%|          | 0/1561 [00:00<?, ?it/s]"
      ]
     },
     "metadata": {},
     "output_type": "display_data"
    },
    {
     "name": "stdout",
     "output_type": "stream",
     "text": [
      "\t step=11100, train_loss=0.2656514346599579, val_loss=0.4358349144458771, val_acc=0.8798982501029968\n",
      "\t step=11400, train_loss=0.2528670132160187, val_loss=0.42638030409812927, val_acc=0.8793892860412598\n",
      "\t step=11700, train_loss=0.2781057059764862, val_loss=0.4259167671203613, val_acc=0.8788803815841675\n",
      "\t step=12000, train_loss=0.2788260281085968, val_loss=0.42039448380470273, val_acc=0.8844783902168274\n",
      "\t step=12300, train_loss=0.23661145567893982, val_loss=0.41798457980155945, val_acc=0.8885496258735657\n"
     ]
    },
    {
     "data": {
      "application/vnd.jupyter.widget-view+json": {
       "model_id": "",
       "version_major": 2,
       "version_minor": 0
      },
      "text/plain": [
       "  0%|          | 0/1561 [00:00<?, ?it/s]"
      ]
     },
     "metadata": {},
     "output_type": "display_data"
    },
    {
     "name": "stdout",
     "output_type": "stream",
     "text": [
      "\t step=12600, train_loss=0.23424425721168518, val_loss=0.41880964279174804, val_acc=0.889058530330658\n",
      "\t step=12900, train_loss=0.3135918378829956, val_loss=0.4183088374137878, val_acc=0.8951653838157654\n",
      "\t step=13200, train_loss=0.24026606976985931, val_loss=0.42003442406654357, val_acc=0.9007633328437805\n",
      "\t step=13500, train_loss=0.2658415138721466, val_loss=0.4128185188770294, val_acc=0.9007633328437805\n",
      "\t step=13800, train_loss=0.21317988634109497, val_loss=0.41215975284576417, val_acc=0.9043257236480713\n"
     ]
    },
    {
     "data": {
      "application/vnd.jupyter.widget-view+json": {
       "model_id": "",
       "version_major": 2,
       "version_minor": 0
      },
      "text/plain": [
       "  0%|          | 0/1561 [00:00<?, ?it/s]"
      ]
     },
     "metadata": {},
     "output_type": "display_data"
    },
    {
     "name": "stdout",
     "output_type": "stream",
     "text": [
      "\t step=14100, train_loss=0.22402851283550262, val_loss=0.40328992128372193, val_acc=0.9134860038757324\n",
      "\t step=14400, train_loss=0.3067173659801483, val_loss=0.4127724552154541, val_acc=0.9119592905044556\n",
      "\t step=14700, train_loss=0.2108595222234726, val_loss=0.4097630798816681, val_acc=0.910941481590271\n",
      "\t step=15000, train_loss=0.2996213734149933, val_loss=0.39885209798812865, val_acc=0.9155216217041016\n",
      "\t step=15300, train_loss=0.15275312960147858, val_loss=0.3988737893104553, val_acc=0.9175572395324707\n",
      "\t step=15600, train_loss=0.2547042965888977, val_loss=0.4040169024467468, val_acc=0.9175572395324707\n",
      "loss: 0.39784971356391907, acc: 0.9175572395324707\n",
      "+------------+----------+---------------+\n",
      "| Word       | True tag | Predicted tag |\n",
      "+------------+----------+---------------+\n",
      "| Также      | ADV      | ADV           |\n",
      "| не         | PART     | PART          |\n",
      "| исключили  | VERB     | VERB          |\n",
      "| переход    | NOUN     | NOUN          |\n",
      "| на         | ADP      | ADP           |\n",
      "| отгрузку   | NOUN     | NOUN          |\n",
      "| по         | ADP      | ADP           |\n",
      "| предоплате | NOUN     | NOUN          |\n",
      "| .          | PUNCT    | PUNCT         |\n",
      "+------------+----------+---------------+\n",
      "len_dict = 150000\n"
     ]
    },
    {
     "data": {
      "application/vnd.jupyter.widget-view+json": {
       "model_id": "745a712dcd1442a68e5a7e5e2922629f",
       "version_major": 2,
       "version_minor": 0
      },
      "text/plain": [
       "0it [00:00, ?it/s]"
      ]
     },
     "metadata": {},
     "output_type": "display_data"
    },
    {
     "name": "stdout",
     "output_type": "stream",
     "text": [
      "loss: 2.962384204864502, acc: 0.02566683292388916\n",
      "+-----------+----------+---------------+\n",
      "| Word      | True tag | Predicted tag |\n",
      "+-----------+----------+---------------+\n",
      "| 20        | ADJ      | CCONJ         |\n",
      "| июня      | NOUN     | CCONJ         |\n",
      "| клуб      | NOUN     | CCONJ         |\n",
      "| продлил   | VERB     | CCONJ         |\n",
      "| контракты | NOUN     | CCONJ         |\n",
      "| с         | ADP      | CCONJ         |\n",
      "| и         | CCONJ    | CCONJ         |\n",
      "| Андреем   | PROPN    | CCONJ         |\n",
      "| .         | PUNCT    | CCONJ         |\n",
      "+-----------+----------+---------------+\n"
     ]
    },
    {
     "data": {
      "application/vnd.jupyter.widget-view+json": {
       "model_id": "4167a051444248c58467515bb71dcaff",
       "version_major": 2,
       "version_minor": 0
      },
      "text/plain": [
       "epoch:   0%|          | 0/10 [00:00<?, ?it/s]"
      ]
     },
     "metadata": {},
     "output_type": "display_data"
    },
    {
     "data": {
      "application/vnd.jupyter.widget-view+json": {
       "model_id": "",
       "version_major": 2,
       "version_minor": 0
      },
      "text/plain": [
       "  0%|          | 0/2343 [00:00<?, ?it/s]"
      ]
     },
     "metadata": {},
     "output_type": "display_data"
    },
    {
     "name": "stdout",
     "output_type": "stream",
     "text": [
      "\t step=300, train_loss=2.257784843444824, val_loss=2.2403133964538573, val_acc=0.2747860848903656\n",
      "\t step=600, train_loss=2.2116317749023438, val_loss=2.206220645904541, val_acc=0.2833417057991028\n",
      "\t step=900, train_loss=2.1563665866851807, val_loss=2.1916823768615723, val_acc=0.2833417057991028\n",
      "\t step=1200, train_loss=1.7541184425354004, val_loss=1.7222108221054078, val_acc=0.49370908737182617\n",
      "\t step=1500, train_loss=1.3611618280410767, val_loss=1.386070213317871, val_acc=0.5455459952354431\n",
      "\t step=1800, train_loss=1.152496337890625, val_loss=1.1596536684036254, val_acc=0.6114745736122131\n",
      "\t step=2100, train_loss=1.0111852884292603, val_loss=1.017269582748413, val_acc=0.6597886085510254\n"
     ]
    },
    {
     "data": {
      "application/vnd.jupyter.widget-view+json": {
       "model_id": "",
       "version_major": 2,
       "version_minor": 0
      },
      "text/plain": [
       "  0%|          | 0/2343 [00:00<?, ?it/s]"
      ]
     },
     "metadata": {},
     "output_type": "display_data"
    },
    {
     "name": "stdout",
     "output_type": "stream",
     "text": [
      "\t step=2400, train_loss=0.963224470615387, val_loss=0.9259310626983642, val_acc=0.6995469927787781\n",
      "\t step=2700, train_loss=0.851319432258606, val_loss=0.8624996209144592, val_acc=0.7141419053077698\n",
      "\t step=3000, train_loss=0.7809246182441711, val_loss=0.8134115862846375, val_acc=0.7221941947937012\n",
      "\t step=3300, train_loss=0.7074428796768188, val_loss=0.7739262676239014, val_acc=0.7297433018684387\n",
      "\t step=3600, train_loss=0.7531043291091919, val_loss=0.7364250469207764, val_acc=0.7377956509590149\n",
      "\t step=3900, train_loss=0.7079928517341614, val_loss=0.6941439723968506, val_acc=0.7629591822624207\n",
      "\t step=4200, train_loss=0.6135386228561401, val_loss=0.6542793869972229, val_acc=0.7775540351867676\n",
      "\t step=4500, train_loss=0.5951389670372009, val_loss=0.6179312348365784, val_acc=0.7936587333679199\n"
     ]
    },
    {
     "data": {
      "application/vnd.jupyter.widget-view+json": {
       "model_id": "",
       "version_major": 2,
       "version_minor": 0
      },
      "text/plain": [
       "  0%|          | 0/2343 [00:00<?, ?it/s]"
      ]
     },
     "metadata": {},
     "output_type": "display_data"
    },
    {
     "name": "stdout",
     "output_type": "stream",
     "text": [
      "\t step=4800, train_loss=0.5168314576148987, val_loss=0.5855531334877014, val_acc=0.8178157806396484\n",
      "\t step=5100, train_loss=0.5363302826881409, val_loss=0.5582571637630462, val_acc=0.8268746137619019\n",
      "\t step=5400, train_loss=0.49608683586120605, val_loss=0.534521062374115, val_acc=0.8359335064888\n",
      "\t step=5700, train_loss=0.494312584400177, val_loss=0.5143003714084625, val_acc=0.8384498953819275\n",
      "\t step=6000, train_loss=0.49757805466651917, val_loss=0.49438767790794375, val_acc=0.8485153317451477\n",
      "\t step=6300, train_loss=0.44846123456954956, val_loss=0.4755078339576721, val_acc=0.8555610775947571\n",
      "\t step=6600, train_loss=0.47129157185554504, val_loss=0.4630428671836853, val_acc=0.8570709228515625\n",
      "\t step=6900, train_loss=0.4384761154651642, val_loss=0.4485400760173798, val_acc=0.8636134266853333\n"
     ]
    },
    {
     "data": {
      "application/vnd.jupyter.widget-view+json": {
       "model_id": "",
       "version_major": 2,
       "version_minor": 0
      },
      "text/plain": [
       "  0%|          | 0/2343 [00:00<?, ?it/s]"
      ]
     },
     "metadata": {},
     "output_type": "display_data"
    },
    {
     "name": "stdout",
     "output_type": "stream",
     "text": [
      "\t step=7200, train_loss=0.43151095509529114, val_loss=0.43683913230896, val_acc=0.8721690773963928\n",
      "\t step=7500, train_loss=0.4183478355407715, val_loss=0.4243521988391876, val_acc=0.8772017359733582\n",
      "\t step=7800, train_loss=0.420198917388916, val_loss=0.40940109848976136, val_acc=0.8857573866844177\n",
      "\t step=8100, train_loss=0.40688467025756836, val_loss=0.39675777792930605, val_acc=0.8907901048660278\n",
      "\t step=8400, train_loss=0.34447163343429565, val_loss=0.37642072558403017, val_acc=0.8902868032455444\n",
      "\t step=8700, train_loss=0.4198586940765381, val_loss=0.36538257598876955, val_acc=0.8902868032455444\n",
      "\t step=9000, train_loss=0.4005824625492096, val_loss=0.35147714614868164, val_acc=0.8922998905181885\n",
      "\t step=9300, train_loss=0.35067030787467957, val_loss=0.34271239876747134, val_acc=0.8933064341545105\n"
     ]
    },
    {
     "data": {
      "application/vnd.jupyter.widget-view+json": {
       "model_id": "",
       "version_major": 2,
       "version_minor": 0
      },
      "text/plain": [
       "  0%|          | 0/2343 [00:00<?, ?it/s]"
      ]
     },
     "metadata": {},
     "output_type": "display_data"
    },
    {
     "name": "stdout",
     "output_type": "stream",
     "text": [
      "\t step=9600, train_loss=0.30766770243644714, val_loss=0.3348023498058319, val_acc=0.8958228230476379\n",
      "\t step=9900, train_loss=0.27623578906059265, val_loss=0.3297548878192902, val_acc=0.8973326086997986\n",
      "\t step=10200, train_loss=0.30880409479141235, val_loss=0.32071205854415896, val_acc=0.9003522396087646\n",
      "\t step=10500, train_loss=0.2700585722923279, val_loss=0.3150857162475586, val_acc=0.9013587832450867\n",
      "\t step=10800, train_loss=0.27922695875167847, val_loss=0.3085281229019165, val_acc=0.9023653268814087\n",
      "\t step=11100, train_loss=0.26930177211761475, val_loss=0.2992644846439362, val_acc=0.9028685688972473\n",
      "\t step=11400, train_loss=0.24136239290237427, val_loss=0.2933707535266876, val_acc=0.9068947434425354\n",
      "\t step=11700, train_loss=0.28259706497192383, val_loss=0.2875398689508438, val_acc=0.9073980450630188\n"
     ]
    },
    {
     "data": {
      "application/vnd.jupyter.widget-view+json": {
       "model_id": "",
       "version_major": 2,
       "version_minor": 0
      },
      "text/plain": [
       "  0%|          | 0/2343 [00:00<?, ?it/s]"
      ]
     },
     "metadata": {},
     "output_type": "display_data"
    },
    {
     "name": "stdout",
     "output_type": "stream",
     "text": [
      "\t step=12000, train_loss=0.25612619519233704, val_loss=0.28611698746681213, val_acc=0.9089078307151794\n",
      "\t step=12300, train_loss=0.2472347468137741, val_loss=0.2800625103712082, val_acc=0.9109209179878235\n",
      "\t step=12600, train_loss=0.21175505220890045, val_loss=0.274473232626915, val_acc=0.9134373068809509\n",
      "\t step=12900, train_loss=0.20728902518749237, val_loss=0.26839071691036226, val_acc=0.9139405488967896\n",
      "\t step=13200, train_loss=0.26228174567222595, val_loss=0.2660785973072052, val_acc=0.916456937789917\n",
      "\t step=13500, train_loss=0.22402453422546387, val_loss=0.2543609893321991, val_acc=0.9209863543510437\n",
      "\t step=13800, train_loss=0.2963131368160248, val_loss=0.254135200381279, val_acc=0.9245092868804932\n"
     ]
    },
    {
     "data": {
      "application/vnd.jupyter.widget-view+json": {
       "model_id": "",
       "version_major": 2,
       "version_minor": 0
      },
      "text/plain": [
       "  0%|          | 0/2343 [00:00<?, ?it/s]"
      ]
     },
     "metadata": {},
     "output_type": "display_data"
    },
    {
     "name": "stdout",
     "output_type": "stream",
     "text": [
      "\t step=14100, train_loss=0.26085394620895386, val_loss=0.2528988665342331, val_acc=0.9265223741531372\n",
      "\t step=14400, train_loss=0.1902899444103241, val_loss=0.24614856421947479, val_acc=0.9285354018211365\n",
      "\t step=14700, train_loss=0.19649729132652283, val_loss=0.24339707016944886, val_acc=0.9300452470779419\n",
      "\t step=15000, train_loss=0.18944920599460602, val_loss=0.23391113698482513, val_acc=0.933064877986908\n",
      "\t step=15300, train_loss=0.13658350706100464, val_loss=0.2288960462808609, val_acc=0.9335681200027466\n",
      "\t step=15600, train_loss=0.22064122557640076, val_loss=0.2270075821876526, val_acc=0.9335681200027466\n",
      "\t step=15900, train_loss=0.20279881358146667, val_loss=0.22087429583072662, val_acc=0.9380975961685181\n",
      "\t step=16200, train_loss=0.17937059700489044, val_loss=0.21448033630847932, val_acc=0.9401106834411621\n"
     ]
    },
    {
     "data": {
      "application/vnd.jupyter.widget-view+json": {
       "model_id": "",
       "version_major": 2,
       "version_minor": 0
      },
      "text/plain": [
       "  0%|          | 0/2343 [00:00<?, ?it/s]"
      ]
     },
     "metadata": {},
     "output_type": "display_data"
    },
    {
     "name": "stdout",
     "output_type": "stream",
     "text": [
      "\t step=16500, train_loss=0.18736568093299866, val_loss=0.2144860190153122, val_acc=0.9416204690933228\n",
      "\t step=16800, train_loss=0.1712111085653305, val_loss=0.21607169270515442, val_acc=0.9391041398048401\n",
      "\t step=17100, train_loss=0.18433357775211334, val_loss=0.20838802874088289, val_acc=0.9401106834411621\n",
      "\t step=17400, train_loss=0.13598328828811646, val_loss=0.20756876826286316, val_acc=0.9426270127296448\n",
      "\t step=17700, train_loss=0.1456078439950943, val_loss=0.20535694122314452, val_acc=0.9431303143501282\n",
      "\t step=18000, train_loss=0.18662507832050323, val_loss=0.2000361567735672, val_acc=0.9436335563659668\n",
      "\t step=18300, train_loss=0.17808927595615387, val_loss=0.19702111780643464, val_acc=0.9451434016227722\n",
      "\t step=18600, train_loss=0.17649084329605103, val_loss=0.19480936706066132, val_acc=0.9426270127296448\n"
     ]
    },
    {
     "data": {
      "application/vnd.jupyter.widget-view+json": {
       "model_id": "",
       "version_major": 2,
       "version_minor": 0
      },
      "text/plain": [
       "  0%|          | 0/2343 [00:00<?, ?it/s]"
      ]
     },
     "metadata": {},
     "output_type": "display_data"
    },
    {
     "name": "stdout",
     "output_type": "stream",
     "text": [
      "\t step=18900, train_loss=0.16719451546669006, val_loss=0.19709946751594543, val_acc=0.9451434016227722\n",
      "\t step=19200, train_loss=0.12367787957191467, val_loss=0.1954007351398468, val_acc=0.9451434016227722\n",
      "\t step=19500, train_loss=0.13029004633426666, val_loss=0.1919304597377777, val_acc=0.9451434016227722\n",
      "\t step=19800, train_loss=0.15529634058475494, val_loss=0.1858449923992157, val_acc=0.9471564888954163\n",
      "\t step=20100, train_loss=0.10111507773399353, val_loss=0.18420552790164949, val_acc=0.9456466436386108\n",
      "\t step=20400, train_loss=0.1354769915342331, val_loss=0.18298677265644073, val_acc=0.9456466436386108\n",
      "\t step=20700, train_loss=0.11335772275924683, val_loss=0.18566490650177003, val_acc=0.9436335563659668\n",
      "\t step=21000, train_loss=0.14709541201591492, val_loss=0.1803484845161438, val_acc=0.9441368579864502\n"
     ]
    },
    {
     "data": {
      "application/vnd.jupyter.widget-view+json": {
       "model_id": "",
       "version_major": 2,
       "version_minor": 0
      },
      "text/plain": [
       "  0%|          | 0/2343 [00:00<?, ?it/s]"
      ]
     },
     "metadata": {},
     "output_type": "display_data"
    },
    {
     "name": "stdout",
     "output_type": "stream",
     "text": [
      "\t step=21300, train_loss=0.15767942368984222, val_loss=0.19300721287727357, val_acc=0.9461499452590942\n",
      "\t step=21600, train_loss=0.15034255385398865, val_loss=0.18673058211803437, val_acc=0.9431303143501282\n",
      "\t step=21900, train_loss=0.1252322494983673, val_loss=0.18280743360519408, val_acc=0.9471564888954163\n",
      "\t step=22200, train_loss=0.10544056445360184, val_loss=0.17784545242786406, val_acc=0.9466531872749329\n",
      "\t step=22500, train_loss=0.11438729614019394, val_loss=0.17644255697727204, val_acc=0.9471564888954163\n",
      "\t step=22800, train_loss=0.10694093257188797, val_loss=0.17822689235210418, val_acc=0.9461499452590942\n",
      "\t step=23100, train_loss=0.10398882627487183, val_loss=0.18195416688919067, val_acc=0.9446401000022888\n",
      "\t step=23400, train_loss=0.1125495582818985, val_loss=0.17482637882232666, val_acc=0.9486662745475769\n",
      "loss: 0.16918574810028075, acc: 0.9496728181838989\n",
      "+------------------------+----------+---------------+\n",
      "| Word                   | True tag | Predicted tag |\n",
      "+------------------------+----------+---------------+\n",
      "| Нынешнее               | ADJ      | ADJ           |\n",
      "| исследование           | NOUN     | NOUN          |\n",
      "| было                   | AUX      | AUX           |\n",
      "| проведено              | VERB     | VERB          |\n",
      "| путем                  | ADP      | ADP           |\n",
      "| статистических         | ADJ      | ADJ           |\n",
      "| результатов            | NOUN     | NOUN          |\n",
      "| двух                   | NUM      | NUM           |\n",
      "| миллионов              | NOUN     | NOUN          |\n",
      "| интернет-пользователей | NOUN     | NOUN          |\n",
      "| .                      | PUNCT    | PUNCT         |\n",
      "+------------------------+----------+---------------+\n"
     ]
    }
   ],
   "source": [
    "for len_dict in len_dict_list:\n",
    "    print(f'len_dict = {len_dict}')\n",
    "    \n",
    "    list_of_sent, list_of_tags = get_sent_tags(docs, len_dict)\n",
    "    pos2idx, idx2pos = pos_dict(list_of_tags)\n",
    "    word2idx, idx2word = word_dict(list_of_sent)\n",
    "    \n",
    "    train_data = NerusDataset(list_of_sent, list_of_tags, word2idx, pos2idx, train=True)\n",
    "    test_data = NerusDataset(list_of_sent, list_of_tags, word2idx, pos2idx, train=False)\n",
    "    \n",
    "    model = LSTM(vocab_dim=len(word2idx))\n",
    "    model.to(device)\n",
    "    \n",
    "    writer = SummaryWriter(log_dir=f'tensorboard_2/len_dict_{len_dict}')\n",
    "    call = callback(writer, test_data, loss_function)\n",
    "    \n",
    "    check(64, test_data, model, loss_function, idx2word, idx2pos)\n",
    "    trainer(count_of_epoch=10, \n",
    "            batch_size=64, \n",
    "            dataset=train_data,\n",
    "            model=model, \n",
    "            loss_function=loss_function,\n",
    "            optimizer = optimizer,\n",
    "            callback=call)\n",
    "    check(64, test_data, model, loss_function, idx2word, idx2pos)"
   ]
  },
  {
   "cell_type": "markdown",
   "id": "cf9b2ddd",
   "metadata": {},
   "source": [
    "Чем больше словарь, тем лучше, но и на маленьком словаре сеть хорошо обучилась."
   ]
  },
  {
   "cell_type": "markdown",
   "id": "a04df0c2",
   "metadata": {},
   "source": [
    "Были проведены эксперименты над моделью LSTM.\n",
    "\n",
    "Как мы видим из графиков: размер слоев надо поставить побольше, главное не уйти в переобучение; количество слоев надо поставить поменьше, так как очень долго учится, dropout надо использовать с параметром 0.5; batchnorm себя хорошо показал; размер словаря надо брать как можно больше, так как увеличиваем размер выборки."
   ]
  }
 ],
 "metadata": {
  "kernelspec": {
   "display_name": "Python 3 (ipykernel)",
   "language": "python",
   "name": "python3"
  },
  "language_info": {
   "codemirror_mode": {
    "name": "ipython",
    "version": 3
   },
   "file_extension": ".py",
   "mimetype": "text/x-python",
   "name": "python",
   "nbconvert_exporter": "python",
   "pygments_lexer": "ipython3",
   "version": "3.11.5"
  }
 },
 "nbformat": 4,
 "nbformat_minor": 5
}
