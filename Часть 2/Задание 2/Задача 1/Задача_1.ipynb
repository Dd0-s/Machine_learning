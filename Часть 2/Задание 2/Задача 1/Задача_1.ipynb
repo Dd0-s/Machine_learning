{
 "cells": [
  {
   "cell_type": "markdown",
   "id": "d3c83081",
   "metadata": {},
   "source": [
    "# Богданов Александр Иванович, Б05-003"
   ]
  },
  {
   "cell_type": "markdown",
   "id": "a56d681a",
   "metadata": {},
   "source": [
    "## Распознавания именованных сущностей на основе fasttext"
   ]
  },
  {
   "cell_type": "code",
   "execution_count": null,
   "id": "a89b11c2",
   "metadata": {},
   "outputs": [],
   "source": []
  }
 ],
 "metadata": {
  "kernelspec": {
   "display_name": "Python 3 (ipykernel)",
   "language": "python",
   "name": "python3"
  },
  "language_info": {
   "codemirror_mode": {
    "name": "ipython",
    "version": 3
   },
   "file_extension": ".py",
   "mimetype": "text/x-python",
   "name": "python",
   "nbconvert_exporter": "python",
   "pygments_lexer": "ipython3",
   "version": "3.11.5"
  }
 },
 "nbformat": 4,
 "nbformat_minor": 5
}
